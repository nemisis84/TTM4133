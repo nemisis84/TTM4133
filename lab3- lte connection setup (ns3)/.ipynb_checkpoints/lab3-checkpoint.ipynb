{
 "cells": [
  {
   "cell_type": "markdown",
   "id": "94d08be5-4188-4aa0-bad8-f90a7f9b4e04",
   "metadata": {
    "tags": []
   },
   "source": [
    "# <span style=\"color:blue\"> *Version 3* </span>"
   ]
  },
  {
   "cell_type": "markdown",
   "id": "ebcc01fd-84ff-456c-8255-3bf89c748fdc",
   "metadata": {},
   "source": [
    "# Lab#3 - Exploring the LTE Architecture\n",
    "\n",
    "This lab intends to explore the LTE architecture and the attachment procedure for a user equipment (UE). The lab starts with an introduction of the LTE architecture followed by the attachment process itself encompassing different connection stages as UE initiates its connection with the LTE network. Afterwards, a simulation encompassing different connection establishment and attachment processes is implemented using ns-3 LTE simulator. The students will be encouraged to design their own LTE radio access network (RAN) topologies using React app discussed in detail in Lab0. A summary of the lab objectives is provided as below:\n",
    "\n",
    "- Understand the RAN, EPC, and, interconnections between these LTE sub-networks\n",
    "- Demonstration the UE attachment process\n",
    "- Understanding the user and control plane in LTE\n",
    "\n",
    "The scope of this lab covers topics from <b>Sections 4.1</b> (pp. 203),<b>4.2</b> (pp. 206-218), <b>4.6.1</b> (pp. 247)</b>, and <b>4.6.2</b> (pp. 250) of textbook <a href=\"#References\">[1] </a>.</p>"
   ]
  },
  {
   "cell_type": "markdown",
   "id": "c17f86e0-903f-48be-a885-6b6ad4e0db52",
   "metadata": {
    "tags": []
   },
   "source": [
    "## 1. Introduction\n",
    "\n",
    "### 1.1 LTE Architecture \n",
    "The LTE network is divided into two parts: a evolved universal mobile telecommunications system terrestrial radio access network (E-UTRAN) and an evolved packet core (EPC) network as shown in <a id='fig1'>[Figure. 1](#fig1)</a> . These subnetworks separate the user access and network core with different nodes for varying roles in LTE infrastructure.\n",
    "\n",
    "| |\n",
    "|---|\n",
    "| ![LTE_net.png](Figures/LTE_net.png) |\n",
    "\n",
    "<a id='fig1'><p style=\"text-align: center;\"><b>Figure. 1: LTE Architecture.</b></p></a>\n",
    "\n",
    "<p style='text-align: justify;'> Some visible differences in the architecture from Universal Mobile Telecommunications System (UMTS) UTRAN are the introduction of the X2 interface and the no Radio Network Controller in the E-UTRAN. The S1 interface is the connection between the RAN and EPC utilized for the LTE services such as traditional calling, voice over IP (VoIP) and dedicated data access towards the internet. It has two different interface types based on utilization by the user plane and control plane protocols. S1-U is used for user plane and S1-AP for the application or control plane. In addition any signaling between RAN and EPC is also carried via S1. EPC has its own interfaces for performing different management functions related to the LTE processes such as mobility and location management or user information management.<br>\n",
    "</p>\n",
    "    "
   ]
  },
  {
   "cell_type": "markdown",
   "id": "9a96880e-29ed-4042-b235-32de8b7a3f6b",
   "metadata": {
    "jp-MarkdownHeadingCollapsed": true,
    "tags": []
   },
   "source": [
    "### 1.2 LTE Protocol Stack \n",
    "\n",
    "The LTE protocol stack as depicted in <a id='fig2'>[Figure. 2](#fig2)</a>, which consists of the following protocols for different functionalities:\n",
    "\n",
    "\n",
    "| |\n",
    "|---|\n",
    "| ![lte-stack.png](Figures/lte-stack.png) |\n",
    "<a id='fig2'><p style=\"text-align: center;\"><b>Figure. 2: LTE Protocol Stack. (Reproduced from <a href=\"#References\">[2])</b></a>    \n",
    "    \n",
    "<p style='text-align: justify;'>\n",
    "- <b>Radio Resource Control (RRC)</b>: The broadcast of system information related to the non-access stratum (NAS) and broadcast of system information related to the access stratum (AS) are the key services and functions of the RRC sublayer. In addition it is also responsible for paging, configuration, maintenance, and release of point-to-point radio bearers, as well as the establishment, maintenance, and release of an RRC connection between the UE and E-UTRAN <a href=\"#References\">[3] </a>.</p>\n",
    "<p style='text-align: justify;'>\n",
    "- <b>Packet Data Convergence Protocol (PDCP)</b>: For radio bearers mapped on RLC acknowledged mode (AM), the PDCP layer is in charge of header compression and decompression of IP data, transfer of data (user plane or control plane), maintenance of PDCP Sequence Numbers (SNs), in-sequence delivery of upper layer packet data units(PDUs) at re-establishment of lower layers, duplicate elimination of lower layer service data units (SDUs) at re-establishment of lower layers, ciphering and deciphering of UE data <a href=\"#References\">[3] </a>.</p>\n",
    "<p style='text-align: justify;'>\n",
    "- <b>Radio Link Control (RLC)</b>: RLC runs in three different modes: acknowledged mode (AM), unacknowledged mode (UM), and transparent mode (TM). The transfer of upper layer PDUs, error correction via ARQ (only for AM data transfer), concatenation, segmentation, and reassembly of RLC SDUs are all handled by the RLC Layer (Only for UM and AM data transfer). Additionally, the RLC is in charge of re-ordering RLC data PDUs (only for UM and AM data transfer), re-segmenting RLC data PDUs (only for AM data transfer), detecting duplicates (only for UM and AM data transfer), discarding RLC SDUs (only for UM and AM data transfer), re-establishing the RLC, and detecting protocol errors (Only for AM data transfer) <a href=\"#References\">[3] </a>.</p>"
   ]
  },
  {
   "cell_type": "markdown",
   "id": "7e697af2-32b5-418f-a629-c3784387876e",
   "metadata": {
    "jp-MarkdownHeadingCollapsed": true,
    "tags": []
   },
   "source": [
    "### 1.3 LTE Connection Setup\n",
    "\n",
    "As soon as a UE is turned on, a set of procedures is adopted to ensure that the communication channel between eNB and UE is able to support the required services upon request. The connection setup is important to consider since this process initiates all the other processes in LTE including attachment and handovers. Certain information exchange must be completed during initial stages of this process. This is know as the system information (SI), which is transmitted by LTE eNB on DL channel Broadcast Control Channel (BCCH). The SI is divided into two parts: the static part and the dynamic part.\n",
    "\n",
    "- <p style='text-align: justify;'><b>Master Information Blocks (MIB)</b>, also known as static parts, are transferred once every 40 microseconds.</p>\n",
    "- <p style='text-align: justify;'><b>System Information Blocks (SIB)</b>, also known as the dynamic parts, are composed of various message kinds that are sent every 80, 160, 320, … milliseconds.</p>\n",
    "\n",
    "<p style='text-align: justify;'>In this lab, we will only be concerned with the MIB, SIB1, and SIB2 that carry the following information:</p>\n",
    "\n",
    "- <p style='text-align: justify;'><b>MIB</b>: The channel bandwidth, transmit power, number of antennas, SIB scheduling, and other relevant data required for radio access.</p>\n",
    "- <p style='text-align: justify;'><b>SIB1</b>: Information about whether or not the UE is permitted to access the LTE cell. It also determines how the other SIBs are scheduled. Cell ID, mobile country code (MCC), mobile network code (MNC), tracking area code (TAC), and SIB mapping are all included.</p>\n",
    "- <p style='text-align: justify;'><b>SIB2</b>: Both common and shared channel information. RRC, uplink power control, preamble power ramping, uplink cyclic prefix (CP) length, sub-frame hopping, and uplink E-UTRA Absolute Radio Frequency Channel Number (EARFCN).</p>\n",
    "\n",
    "<b>Note:</b> The textbook reference for these information blocks is <b>Section 4.3.8</b> (pp. 229) <a href=\"#References\">[1] </a>."
   ]
  },
  {
   "cell_type": "markdown",
   "id": "20aaa2a7-5f2b-4a28-b24e-41057be18edc",
   "metadata": {
    "jp-MarkdownHeadingCollapsed": true,
    "tags": []
   },
   "source": [
    "### 1.4 UE eNB and RRC States\n",
    "\n",
    "The state transitions for UE and eNB will signify the reception of these information blocks as well as the current state of these nodes. These are dictated by the following state diagrams in <a id='fig3'>[Figure. 3](#fig3)</a>. \n",
    "\n",
    "| |\n",
    "|---|\n",
    "| ![lab3-rrc-states.png](Figures/lab3-rrc-states.png) |\n",
    "<a id='fig3'><p style=\"text-align: center;\"><b>[Figure. 3: LTE RRC State Diagram, (a) UE, (b) eNB](#fig3). (Source <a href=\"#References\">[4] )</b></a>   \n",
    "\n",
    "#### 1.4.1 Connection setup procedure\n",
    "The connection setup starts with the initiation of the <u>cell search</u> process initiated by a UE that has just been turned on. It searches for a suitable cell to attach by analyzing the received signal strength from different prospective cells in the area. During this process, the UE waits for the reception of MIB and SIB messages in order to collect required information about the connection. Upon reception of SIB1 and SIB2, the <u>random access</u> (RA) procedure is initiated in order to exchange more information and allow the eNB and EPC to reserve resources for upper layer communications (RRC, PDCP). The success of RA leads to the initiation of RRC connection setup with the eNB and eventual connection of eNB with EPC via S1-AP protocol. At this point, the UE is connected to the LTE network and ready to utilize the infrastructure.\n",
    "\n",
    "This process is implemented as a finite state machine as depicted in <a id='fig3'>[Figure. 3](#fig3)</a>."
   ]
  },
  {
   "cell_type": "markdown",
   "id": "a015585d-b15e-4952-98a2-b7d5842e89e8",
   "metadata": {},
   "source": [
    "------------------------------------------------------------------------------------------------------------------------------------------------------------------------------------------------------------------------------\n",
    "## Design and Simulating an LTE Network in ns3\n",
    "\n",
    "------------------------------------------------------------------------------------------------------------------------------------------------------------------------------------------------------------------------------"
   ]
  },
  {
   "cell_type": "markdown",
   "id": "005b153d-e2ae-40bd-81f3-22f272cbaaed",
   "metadata": {
    "tags": []
   },
   "source": [
    "## <span style=\"color:red\"> *Task#1: Radio Access Network, Enhanced Packet Core and Interactions* </span>\n",
    "This task involves the creation of a basic one cell RAN topology using the React application followed by the simulation and analysis of connection setup traces using ns-3. Hence, the overall learning objectives are presented as the following deliverables:\n",
    "\n",
    "### 2.1 Designing a RAN topology\n",
    "The topology design follows the same basic steps from lab0 starting from accessing the react app, design and saving of the topology . Kindly utilize the blueprint provided in <a id='fig4'>[Figure. 4](#fig4)</a> to design the topology where the actual location of eNB and UEs is not important as long as the users are inside the coverage area of eNB. The <b>eNB TXPower = 45dBm</b> for this task.\n",
    "\n",
    "| |\n",
    "|---|\n",
    "| ![lab3-task1-topology.png](Figures/lab3-task1-topology.png) |\n",
    "<a id='fig4'><p style=\"text-align: center;\"><b>[Figure. 4: LTE RAN topology](#fig4).</b></a>\n",
    "\n",
    "> <b>Note:</b> Access the React application via: http://vm-public-ip:3000/."
   ]
  },
  {
   "cell_type": "markdown",
   "id": "1cf1fc00-5b16-4eb1-bfbb-4dacfdfac564",
   "metadata": {},
   "source": [
    "### 2.2 Simulate the designed topology in ns-3\n",
    "The python code in `lab3-init.py` is provided to convert the design topology in a form acceptable to the SEM and ns-3 simulation engines. Moreover, some relevant command line arguments are also passed to the ns-3 program implementing the given topology in order to observe the results and status of the simulation. \n",
    "\n",
    "> <b>Note:</b> The python code will display the saved topologies from the react app and we can choose any one of them to simulate.\n",
    "\n",
    "The ns-3 simulator expects the values provided in the form of UE and eNB location from the react app in order to design the topology. Several other variables are also provided in the `lab3-init.py` script in order to provide sufficient information for the creation and operation of simulation. This includes the configuration related to the center frequency, bandwidth, attachment preferences, additional noise modeling. The noise model utilized is a simple randomized threshold added in the UE and eNB. This contributes to the already observed interference noise experienced in the channel propagation. The ns-3 program also establishes several UDP streams in order to establish data communication and these are utilized for measurements of different performance metric. After successful completion of the simulation, the measured performance metrics are passed on back to the python script by the ns-3 program for data processing."
   ]
  },
  {
   "cell_type": "code",
   "execution_count": 13,
   "id": "ae96f54e-1975-462e-9c34-86c766d62b73",
   "metadata": {},
   "outputs": [
    {
     "name": "stdout",
     "output_type": "stream",
     "text": [
      "List of created simulations: \n",
      " \n",
      "task 1\n",
      "GroupPtask1\n",
      "\n"
     ]
    },
    {
     "name": "stdin",
     "output_type": "stream",
     "text": [
      "List the simulation to run:  task 1\n",
      "Show a picture of the topology? (y/n) y\n"
     ]
    },
    {
     "name": "stdout",
     "output_type": "stream",
     "text": [
      "Generating topology pictures...\n"
     ]
    },
    {
     "data": {
      "text/markdown": [
       "<img src=\"./Figures/GeneratedImages/image task 1.png\" alt = \"test pic\" style=\"background-color: white;\"> "
      ],
      "text/plain": [
       "<IPython.core.display.Markdown object>"
      ]
     },
     "metadata": {},
     "output_type": "display_data"
    },
    {
     "name": "stdout",
     "output_type": "stream",
     "text": [
      "(-654.3991220769312,-758.7502727414412),(500.42285805882665,-148.45114031897788),\n",
      "(0,0),\n",
      "45\n",
      "Connection Tracing Simualtions for RAN...\n"
     ]
    },
    {
     "name": "stderr",
     "output_type": "stream",
     "text": [
      "Building ns-3: 100%|██████████| 2795/2795 [00:08<00:00,  6.40file/s]\n"
     ]
    },
    {
     "name": "stdout",
     "output_type": "stream",
     "text": [
      "Starting simulation 1...\n"
     ]
    },
    {
     "name": "stderr",
     "output_type": "stream",
     "text": [
      "Running simulations: 100%|██████████| 1/1 [00:07<00:00,  7.23s/simulation]\n"
     ]
    },
    {
     "name": "stdout",
     "output_type": "stream",
     "text": [
      "Simulation 1 finished!\n",
      "There are 1 results in the database\n",
      "\n",
      "Connection Tracing Simualtions for EPC...\n",
      "Starting simulation 2...\n"
     ]
    },
    {
     "name": "stderr",
     "output_type": "stream",
     "text": [
      "Running simulations: 100%|██████████| 1/1 [00:07<00:00,  7.03s/simulation]"
     ]
    },
    {
     "name": "stdout",
     "output_type": "stream",
     "text": [
      "Simulation 2 finished!\n",
      "There are 1 results in the database\n",
      "\n"
     ]
    },
    {
     "name": "stderr",
     "output_type": "stream",
     "text": [
      "\n"
     ]
    }
   ],
   "source": [
    "%run -i 'Modules/lab3-init.py'"
   ]
  },
  {
   "cell_type": "markdown",
   "id": "a4867181-cd2a-4090-8bdf-5c8c66f95a56",
   "metadata": {
    "tags": []
   },
   "source": [
    "### 2.3 Processing the simulation data\n",
    "The python code in `lab3-DataPre.py` is provided to process and clean the obtained data from ns-3 simulations.\n",
    "\n",
    "> <b>Note:</b> Two different levels of logs are collected to exhibit the state machines for UE and eNB as they experience different stages of connection establishment within RAN and with EPC as shown in <a id='fig3'>[Figure. 3](#fig3)</a>.\n",
    "  \n",
    "\n",
    "#### 2.3.1 Structure of Simulation Logs\n",
    "The format of the observed logs is important to decode according to the contained information. <a id='fig5'>[Figure. 5](#fig5)</a> and <a id='fig6'>[Figure. 6](#fig6)</a> provides the description of a single observed log and its fields for RAN and EPC respectively:\n",
    "\n",
    "| |\n",
    "|---|\n",
    "| ![lab3-logdesc.png](Figures/lab3-logdesc.png) |\n",
    "<a id='fig5'><p style=\"text-align: center;\"><b>[Figure. 5: RAN Log description](#fig5)</b></a>\n",
    "\n",
    "| |\n",
    "|---|\n",
    "| ![lab3-epc-logs.png](Figures/lab3-epc-logs.png) |\n",
    "<a id='fig6'><p style=\"text-align: center;\"><b>[Figure. 6: EPC Log description](#fig6)</b></a>\n",
    "\n",
    "> <b>Note:</b> The values for RNTI and IMSI should be greater than 0 when UE is connected to the eNB. As long as the UE is in the state of connection setup, ns-3 utilizes RNTI = 0. \n",
    "\n",
    "> <b>Note:</b> The 'Source Node' is simply a counter for the total number of active protocols (Phy, MAC, RRC, etc.) in different nodes (UE and eNB) in the simulation. The values should be >= 0 for normal operation. "
   ]
  },
  {
   "cell_type": "code",
   "execution_count": 15,
   "id": "794d42c3-4591-4131-b7bc-a09f065f216a",
   "metadata": {},
   "outputs": [
    {
     "name": "stdout",
     "output_type": "stream",
     "text": [
      "####################################################\n",
      "RAN Connection Setup Logs [MAC, RRC for eNB and UE]\n",
      "####################################################\n",
      "+0.000000000s -1 LteUeRrc:SwitchToState(): [INFO ] 0x55f9bfb78cd0 IMSI 1 RNTI 0 UeRrc IDLE_START --> IDLE_CELL_SEARCH\n",
      "+0.000000000s -1 LteUeRrc:SwitchToState(): [INFO ] 0x55f9bfb7c4c0 IMSI 2 RNTI 0 UeRrc IDLE_START --> IDLE_CELL_SEARCH\n",
      "+0.200000000s -1 LteUeRrc:SwitchToState(): [INFO ] 0x55f9bfb78cd0 IMSI 1 RNTI 0 UeRrc IDLE_CELL_SEARCH --> IDLE_WAIT_MIB_SIB1\n",
      "+0.200000000s -1 LteUeRrc:SwitchToState(): [INFO ] 0x55f9bfb7c4c0 IMSI 2 RNTI 0 UeRrc IDLE_CELL_SEARCH --> IDLE_WAIT_MIB_SIB1\n",
      "+0.200214285s 4 LteUeRrc:SwitchToState(): [INFO ] 0x55f9bfb78cd0 IMSI 1 RNTI 0 UeRrc IDLE_WAIT_MIB_SIB1 --> IDLE_WAIT_SIB1\n",
      "+0.200214285s 5 LteUeRrc:SwitchToState(): [INFO ] 0x55f9bfb7c4c0 IMSI 2 RNTI 0 UeRrc IDLE_WAIT_MIB_SIB1 --> IDLE_WAIT_SIB1\n",
      "+0.205214285s 4 LteUeRrc:SwitchToState(): [INFO ] 0x55f9bfb78cd0 IMSI 1 RNTI 0 UeRrc IDLE_WAIT_SIB1 --> IDLE_CAMPED_NORMALLY\n",
      "+0.205214285s 4 LteUeRrc:SwitchToState(): [INFO ] 0x55f9bfb78cd0 IMSI 1 RNTI 0 UeRrc IDLE_CAMPED_NORMALLY --> IDLE_WAIT_SIB2\n",
      "+0.205214285s 5 LteUeRrc:SwitchToState(): [INFO ] 0x55f9bfb7c4c0 IMSI 2 RNTI 0 UeRrc IDLE_WAIT_SIB1 --> IDLE_CAMPED_NORMALLY\n",
      "+0.205214285s 5 LteUeRrc:SwitchToState(): [INFO ] 0x55f9bfb7c4c0 IMSI 2 RNTI 0 UeRrc IDLE_CAMPED_NORMALLY --> IDLE_WAIT_SIB2\n",
      "+0.256000000s -1 LteUeRrc:SwitchToState(): [INFO ] 0x55f9bfb78cd0 IMSI 1 RNTI 0 UeRrc IDLE_WAIT_SIB2 --> IDLE_RANDOM_ACCESS\n",
      "+0.256000000s -1 LteUeRrc:SwitchToState(): [INFO ] 0x55f9bfb7c4c0 IMSI 2 RNTI 0 UeRrc IDLE_WAIT_SIB2 --> IDLE_RANDOM_ACCESS\n",
      "+0.258000000s 6 LteEnbMac:DoSubframeIndication(): [INFO ] 0x55f9bfba8ec0 preambleId 4: 1 received\n",
      "+0.258000000s 6 LteEnbRrc:GetNewSrsConfigurationIndex(): [DEBUG] 0x55f9bfba9880 SRS p 40 set 0\n",
      "+0.258000000s 6 LteEnbRrc:AddUe(): [DEBUG] 0x55f9bfba9880 New UE RNTI 1 cellId 1 srs CI 37\n",
      "+0.258000000s 6 LteEnbMac:DoSubframeIndication(): [INFO ] preambleId 4: allocated T-C-RNTI 1, sending RAR\n",
      "+0.258000000s 6 LteEnbMac:DoSubframeIndication(): [INFO ] 0x55f9bfba8ec0 preambleId 51: 1 received\n",
      "+0.258000000s 6 LteEnbRrc:GetNewSrsConfigurationIndex(): [DEBUG] 0x55f9bfba9880 SRS p 40 set 1\n",
      "+0.258000000s 6 LteEnbRrc:GetNewSrsConfigurationIndex(): [DEBUG] 0x55f9bfba9880 lower bound 37 of 76\n",
      "+0.258000000s 6 LteEnbRrc:AddUe(): [DEBUG] 0x55f9bfba9880 New UE RNTI 2 cellId 1 srs CI 38\n",
      "+0.258000000s 6 LteEnbMac:DoSubframeIndication(): [INFO ] preambleId 51: allocated T-C-RNTI 2, sending RAR\n",
      "+0.258000000s 6 LteEnbMac:DoSchedDlConfigInd(): [INFO ] 0x55f9bfba8ec0 Send RAR message to RNTI 1 rapId 4\n",
      "+0.258000000s 6 LteEnbMac:DoSchedDlConfigInd(): [INFO ] 0x55f9bfba8ec0 Send RAR message to RNTI 2 rapId 51\n",
      "+0.260214285s 4 LteUeRrc:SwitchToState(): [INFO ] 0x55f9bfb78cd0 IMSI 1 RNTI 2 UeRrc IDLE_RANDOM_ACCESS --> IDLE_CONNECTING\n",
      "+0.260214285s 4 LteRrcProtocolIdeal:SetEnbRrcSapProvider(): [DEBUG] RNTI 2 connected to cell 1\n",
      "+0.260214285s 5 LteUeRrc:SwitchToState(): [INFO ] 0x55f9bfb7c4c0 IMSI 2 RNTI 1 UeRrc IDLE_RANDOM_ACCESS --> IDLE_CONNECTING\n",
      "+0.260214285s 5 LteRrcProtocolIdeal:SetEnbRrcSapProvider(): [DEBUG] RNTI 1 connected to cell 1\n",
      "+0.260214285s 4 LteUeRrc:SwitchToState(): [INFO ] 0x55f9bfb78cd0 IMSI 1 RNTI 2 UeRrc IDLE_CONNECTING --> CONNECTED_NORMALLY\n",
      "+0.260214285s 5 LteUeRrc:SwitchToState(): [INFO ] 0x55f9bfb7c4c0 IMSI 2 RNTI 1 UeRrc IDLE_CONNECTING --> CONNECTED_NORMALLY\n",
      "+0.260214785s 2 LteEnbRrc:SetupDataRadioBearer(): [DEBUG] 0x55f9bfaf29c0 RNTI 2Lcid 3 lcGroup 2 ComponentCarrierId 0\n",
      "+0.260214785s 2 LteUeRrc:DoRecvRrcConnectionReconfiguration(): [INFO ] DoRecvRrcConnectionReconfiguration haveNonCriticalExtension:0\n",
      "+0.260214785s 2 LteUeRrc:DoRecvRrcConnectionReconfiguration(): [INFO ] haveMobilityControlInfo == false\n",
      "+0.260214785s 2 LteUeRrc:ApplyRadioResourceConfigDedicated(): [INFO ] request to modify SRB1 (skipping as currently not implemented)\n",
      "+0.260214785s 2 LteUeRrc:ApplyRadioResourceConfigDedicated(): [INFO ] 0x55f9bfb78cd0 IMSI 1 adding/modifying DRBID 1 LC 3\n",
      "+0.260214785s 2 LteUeRrc:ApplyRadioResourceConfigDedicated(): [INFO ] New Data Radio Bearer\n",
      "+0.260214785s 2 LteRrcProtocolIdeal:SetEnbRrcSapProvider(): [DEBUG] RNTI 2 connected to cell 1\n",
      "+0.260214917s 2 LteEnbRrc:SetupDataRadioBearer(): [DEBUG] 0x55f9bfaf49d0 RNTI 1Lcid 3 lcGroup 2 ComponentCarrierId 0\n",
      "+0.260214917s 2 LteUeRrc:DoRecvRrcConnectionReconfiguration(): [INFO ] DoRecvRrcConnectionReconfiguration haveNonCriticalExtension:0\n",
      "+0.260214917s 2 LteUeRrc:DoRecvRrcConnectionReconfiguration(): [INFO ] haveMobilityControlInfo == false\n",
      "+0.260214917s 2 LteUeRrc:ApplyRadioResourceConfigDedicated(): [INFO ] request to modify SRB1 (skipping as currently not implemented)\n",
      "+0.260214917s 2 LteUeRrc:ApplyRadioResourceConfigDedicated(): [INFO ] 0x55f9bfb7c4c0 IMSI 2 adding/modifying DRBID 1 LC 3\n",
      "+0.260214917s 2 LteUeRrc:ApplyRadioResourceConfigDedicated(): [INFO ] New Data Radio Bearer\n",
      "+0.260214917s 2 LteRrcProtocolIdeal:SetEnbRrcSapProvider(): [DEBUG] RNTI 1 connected to cell 1\n",
      "\n",
      "\n",
      "####################################################\n",
      "EPC Connection Setup Logs [SGW, PGW, MME]\n",
      "####################################################\n",
      "+0.000000000s -1 PointToPointEpcHelper:AddEnb(): [LOGIC] Ipv4 ifaces of the eNB after installing p2p dev: 1\n",
      "+0.000000000s -1 PointToPointEpcHelper:AddEnb(): [LOGIC] number of Ipv4 ifaces of the eNB after assigning Ipv4 addr to S1 dev: 2\n",
      "+0.260214549s 0 EpcPgwApplication:DoRecvCreateSessionRequest(): [DEBUG] cellId 1 IMSI 1\n",
      "+0.260214549s 0 EpcPgwApplication:DoRecvCreateSessionRequest(): [DEBUG] BearerContextsToBeCreated size = 1\n",
      "+0.260214549s 0 EpcPgwApplication:DoRecvCreateSessionRequest(): [DEBUG] bearerId 1 SGW 10.0.0.6 TEID 1\n",
      "+0.260214549s 0 EpcPgwApplication:DoRecvCreateSessionRequest(): [DEBUG] BearerContextsCreated size = 1\n",
      "+0.260214549s 0 EpcPgwApplication:DoRecvCreateSessionRequest(): [DEBUG] Send CreateSessionResponse to SGW 14.0.0.6\n",
      "+0.260214681s 0 EpcPgwApplication:DoRecvCreateSessionRequest(): [DEBUG] cellId 1 IMSI 2\n",
      "+0.260214681s 0 EpcPgwApplication:DoRecvCreateSessionRequest(): [DEBUG] BearerContextsToBeCreated size = 1\n",
      "+0.260214681s 0 EpcPgwApplication:DoRecvCreateSessionRequest(): [DEBUG] bearerId 1 SGW 10.0.0.6 TEID 2\n",
      "+0.260214681s 0 EpcPgwApplication:DoRecvCreateSessionRequest(): [DEBUG] BearerContextsCreated size = 1\n",
      "+0.260214681s 0 EpcPgwApplication:DoRecvCreateSessionRequest(): [DEBUG] Send CreateSessionResponse to SGW 14.0.0.6\n"
     ]
    }
   ],
   "source": [
    "%run -i 'Modules/lab3-dataPre.py'"
   ]
  },
  {
   "cell_type": "markdown",
   "id": "d4193d5a-6f96-46ba-98d0-7691db3cf555",
   "metadata": {
    "tags": []
   },
   "source": [
    "### <u>Exercises</u>"
   ]
  },
  {
   "cell_type": "markdown",
   "id": "065c92c6-b775-4cb8-92e8-170a92084417",
   "metadata": {
    "tags": []
   },
   "source": [
    "#### Q2.3.2a: Make sure that the simulation recognizes two UEs and one eNB for the designed topology. Which identifiers did you refer to?"
   ]
  },
  {
   "cell_type": "markdown",
   "id": "8b9c9971-2e37-47f5-9016-1a1dc1ee40fd",
   "metadata": {},
   "source": [
    "<b> Answer:</b>"
   ]
  },
  {
   "cell_type": "code",
   "execution_count": 19,
   "id": "c9cbe73b-8b7f-4f01-bcdb-a7f693061cd8",
   "metadata": {
    "tags": []
   },
   "outputs": [],
   "source": [
    "## Note 1: use the output above, obtained from the simulation logs (refer to Figure 5 if needed)\n",
    "## Note 2: if you don't find two UEs consider moving them closer to the eNB and repeating the simulation\n",
    "\n",
    "# write down possible eNB identifiers\n",
    "eNB_ids = \"CellID 1\"\n",
    "\n",
    "\n",
    "# write down possible UE identifiers\n",
    "UE_ids = \"IMSI 1, RNTI 0, IMSI 2, RNTI 1, RNTI 2\"\n",
    "\n"
   ]
  },
  {
   "cell_type": "markdown",
   "id": "dd2d4777-c814-4b7f-8c4b-371a47c1073a",
   "metadata": {
    "tags": []
   },
   "source": [
    " \n",
    "#### Q2.3.2b: Identify observed bearer types and any logs related to the establishment of these LTE bearers?"
   ]
  },
  {
   "cell_type": "markdown",
   "id": "b77ccadc-120d-49fc-9aa7-3e8d879c5468",
   "metadata": {},
   "source": [
    "<b> Answer:</b>"
   ]
  },
  {
   "cell_type": "code",
   "execution_count": 9,
   "id": "fe2872e1-1888-4781-b8b2-519e09c0bd31",
   "metadata": {},
   "outputs": [],
   "source": [
    "## Note: Refer again to the same logs\n",
    "\n",
    "bearers = [\"Data Radio Bearer, SRB1\"]\n",
    "\n",
    "#Related logs: \n",
    "#+0.260214785s 2 LteUeRrc:ApplyRadioResourceConfigDedicated(): [INFO ] request to modify SRB1 (skipping as currently not implemented)\n",
    "#+0.260214785s 2 LteUeRrc:ApplyRadioResourceConfigDedicated(): [INFO ] 0x55f9bfb78cd0 IMSI 1 adding/modifying DRBID 1 LC 3\n",
    "#+0.260214785s 2 LteUeRrc:ApplyRadioResourceConfigDedicated(): [INFO ] New Data Radio Bearer\n",
    "#...\n",
    "#+0.260214917s 2 LteUeRrc:ApplyRadioResourceConfigDedicated(): [INFO ] request to modify SRB1 (skipping as currently not implemented)\n",
    "#+0.260214917s 2 LteUeRrc:ApplyRadioResourceConfigDedicated(): [INFO ] 0x55f9bfb7c4c0 IMSI 2 adding/modifying DRBID 1 LC 3\n",
    "#+0.260214917s 2 LteUeRrc:ApplyRadioResourceConfigDedicated(): [INFO ] New Data Radio Bearer\n"
   ]
  },
  {
   "cell_type": "markdown",
   "id": "1e1fa90f-5320-4772-bfc6-917f1f242bdc",
   "metadata": {
    "tags": []
   },
   "source": [
    "#### Q2.3.3: What is a bearer in LTE? What is the difference between a dedicated and default bearer?"
   ]
  },
  {
   "cell_type": "markdown",
   "id": "b9279927-8762-4da1-abd6-100c3f250ded",
   "metadata": {},
   "source": [
    "<b> Answer:</b>"
   ]
  },
  {
   "cell_type": "markdown",
   "id": "5df8faa0-11dc-43f5-bcc0-ecd9db0d9d46",
   "metadata": {},
   "source": [
    "A bearer in LTE is a connection between a User Equipment (UE) and core network, Evolved Packet Core (EPC). The bearer carries information between the UE and the EPC.\n",
    "Dedicated bearers has a specific/guaranteed QoS, while a default bearer doesnt have specific QoS. In addition, a default bearer is established during the attachment procedure, while a dedicated bearer can be set up during call setup, after the idle period."
   ]
  },
  {
   "cell_type": "markdown",
   "id": "41ad0836-94bc-4b9d-8475-635c67804b3e",
   "metadata": {
    "tags": []
   },
   "source": [
    "#### Q2.3.4: Identify the random access procedure logs for one of the UEs from the available logs? All the involved messages must be identified.\n",
    "\n",
    "> **Hint:** Preamble detection, random access, random access response are some of the messages\n"
   ]
  },
  {
   "cell_type": "markdown",
   "id": "1831f960-56f8-47cf-ab00-0655fca6525c",
   "metadata": {},
   "source": [
    "<b> Answer:</b>"
   ]
  },
  {
   "cell_type": "markdown",
   "id": "c55b3c99-8cd1-472d-9d48-a76ef6a96db2",
   "metadata": {
    "tags": []
   },
   "source": [
    "- preamble detection: +0.258000000s 6 LteEnbMac:DoSubframeIndication(): [INFO ] 0x55f9bfba8ec0 preambleId 4: 1 received\n",
    "- random access:+0.258000000s 6 LteEnbMac:DoSubframeIndication(): [INFO ] preambleId 4: allocated T-C-RNTI 1, sending RAR\n",
    "- ranom access response: +0.258000000s 6 LteEnbMac:DoSchedDlConfigInd(): [INFO ] 0x55f9bfba8ec0 Send RAR message to RNTI 1 rapId 4"
   ]
  },
  {
   "cell_type": "markdown",
   "id": "e43d5746-c308-4348-9ef0-e4179afd735b",
   "metadata": {
    "tags": []
   },
   "source": [
    "#### Q2.3.5: What are the different functionalities of the MME and SGW in LTE networks?"
   ]
  },
  {
   "cell_type": "markdown",
   "id": "45645683-49da-403e-8fa3-be818f5007c1",
   "metadata": {},
   "source": [
    "<b> Answer:</b>"
   ]
  },
  {
   "cell_type": "markdown",
   "id": "1d57f083-796d-4b17-84ff-0605e748cff1",
   "metadata": {},
   "source": [
    "The MME is responsible for autentication, establishment of bearers, NAS mobility management, handover support, interworking with other radio networks, SMS and voice support. S-GW are responsible for user data tunnels between eNBs and PDN-GW. Shortly, the main difference is that SG-W handles user data, while MME handles most other prequsites for having an connection. "
   ]
  },
  {
   "cell_type": "markdown",
   "id": "232f4a71-3070-4038-aeff-7b06b64d04cb",
   "metadata": {
    "tags": []
   },
   "source": [
    "#### Q2.3.6: Describe the difference of the identification mechanism (IMSI, RNTI, etc.) of UEs for the simulated ns-3 network and a real world LTE network like Telenor?"
   ]
  },
  {
   "cell_type": "markdown",
   "id": "7a9c4f5c-3936-4e1c-980c-e2eb0720fd86",
   "metadata": {},
   "source": [
    "<b> Answer:</b>"
   ]
  },
  {
   "cell_type": "markdown",
   "id": "fafecd3a-26eb-4288-ace4-983de5bd54e4",
   "metadata": {},
   "source": [
    "In the simulation we have IMSI of 1 and 2. In the real world the IMSI consist of mobile country code, mobile network code and mobile subscriber number. The RNTI is a 16 bit number. The difference is the length of the identifiers. In IMSI there are a 10 digit number that identifies the user, which in this case are not included. \n",
    "Other than the simplified IMSIs and RNTI, we cannot see any authentication with the MME. In real life this is a part of the attachment process for the UE. "
   ]
  },
  {
   "cell_type": "markdown",
   "id": "be08a817-7042-40f2-b8c7-ccbbfdc4a320",
   "metadata": {
    "tags": []
   },
   "source": [
    "---\n",
    "---\n",
    "### <span style=\"color:blue\"> Milestone 1 </span>\n",
    "\n",
    "Before proceeding, **call a TA** to make sure everything went as expected.\n",
    "\n",
    "---\n",
    "---"
   ]
  },
  {
   "cell_type": "markdown",
   "id": "d0bd9d4a-0273-4f5d-b04e-4347714295d9",
   "metadata": {
    "tags": []
   },
   "source": [
    "## <span style=\"color:red\"> *Task#2: Attachment of UEs with the LTE Network* </span>\n",
    "In this task, we will observe the connection setup (those implemented in ns-3) for the RAN and EPC parts of the network. The process starts with the communication between UEs and eNBs as the cell search begins with the attachment of users to eNBs. This is followed up by random access and the associated states of the UEs and eNBs upon reception of various communication messages from within RAN and the EPC. The state machine implementation in ns-3 for the eNB and UE RRC layers allows the users in the LTE RAN to transition through these states upon occurrence of various events. By observing the sequence of events, we can verify, optimize and potentially troubleshoot issues in the network."
   ]
  },
  {
   "cell_type": "markdown",
   "id": "5ffa98c6-77b4-4d67-a2ee-b47226e6a193",
   "metadata": {
    "tags": []
   },
   "source": [
    "### 3.1 Designing a RAN topology\n",
    "Kindly utilize the blueprint provided in <a id='fig7'>[Figure. 7](#fig7)</a> to design the topology. The <b>eNB TXPower = 40dBm</b> for this task.\n",
    "\n",
    "| |\n",
    "|---|\n",
    "| ![lab3-task2-topology.png](Figures/lab3-task2-topology.png) |\n",
    "<a id='fig7'><p style=\"text-align: center;\"><b>[Figure. 7: LTE RAN topology.](#fig7)</b></a>\n",
    "\n",
    "> <b>Note:</b> Access the React application via: http://vm-public-ip:3000/."
   ]
  },
  {
   "cell_type": "markdown",
   "id": "7f722a5b-7fd5-408c-8a0e-60f3570b162b",
   "metadata": {},
   "source": [
    "### 3.2 Simulate the designed topology in ns-3\n",
    "The python code in `lab3-init.py` is provided to convert the design topology in a form acceptable to the SEM and ns-3 simulation engines.\n",
    "\n",
    "> <b>Note:</b> The python code will display the saved topologies from the react app and we can choose any one of them to simulate along with a value for <b>eNB power = 40dBm</b>."
   ]
  },
  {
   "cell_type": "code",
   "execution_count": 28,
   "id": "ffc06572-3973-41d9-a720-056001cfe465",
   "metadata": {},
   "outputs": [
    {
     "name": "stdout",
     "output_type": "stream",
     "text": [
      "List of created simulations: \n",
      " \n",
      "task 1\n",
      "GroupPtask1\n",
      "Task 2\n",
      "\n"
     ]
    },
    {
     "name": "stdin",
     "output_type": "stream",
     "text": [
      "List the simulation to run:  Task 2\n",
      "Show a picture of the topology? (y/n) y\n"
     ]
    },
    {
     "name": "stdout",
     "output_type": "stream",
     "text": [
      "Generating topology pictures...\n"
     ]
    },
    {
     "data": {
      "text/markdown": [
       "<img src=\"./Figures/GeneratedImages/image Task 2.png\" alt = \"test pic\" style=\"background-color: white;\"> "
      ],
      "text/plain": [
       "<IPython.core.display.Markdown object>"
      ]
     },
     "metadata": {},
     "output_type": "display_data"
    },
    {
     "name": "stdout",
     "output_type": "stream",
     "text": [
      "(-577.4001531355734,-978.6753695526968),(489.4153678958672,-137.45440583605188),\n",
      "(0,0),\n",
      "40\n",
      "Connection Tracing Simualtions for RAN...\n",
      "Starting simulation 1...\n"
     ]
    },
    {
     "name": "stderr",
     "output_type": "stream",
     "text": [
      "Running simulations: 100%|██████████| 1/1 [00:07<00:00,  7.05s/simulation]\n"
     ]
    },
    {
     "name": "stdout",
     "output_type": "stream",
     "text": [
      "Simulation 1 finished!\n",
      "There are 1 results in the database\n",
      "\n",
      "Connection Tracing Simualtions for EPC...\n",
      "Starting simulation 2...\n"
     ]
    },
    {
     "name": "stderr",
     "output_type": "stream",
     "text": [
      "Running simulations: 100%|██████████| 1/1 [00:06<00:00,  6.95s/simulation]"
     ]
    },
    {
     "name": "stdout",
     "output_type": "stream",
     "text": [
      "Simulation 2 finished!\n",
      "There are 1 results in the database\n",
      "\n"
     ]
    },
    {
     "name": "stderr",
     "output_type": "stream",
     "text": [
      "\n"
     ]
    }
   ],
   "source": [
    "%run -i 'Modules/lab3-init.py'"
   ]
  },
  {
   "cell_type": "markdown",
   "id": "999d779d-74da-45e6-9d5f-99d88641a892",
   "metadata": {},
   "source": [
    "### 3.3 Processing the simulation data\n",
    "The python code in `lab3-dataPre.py` is provided to process and clean the obtained data from ns-3 simulations.\n",
    "\n",
    "> <b>Note:</b> Two different levels of logs are collected to exhibit the state machines for UE and eNB as they experience different stages of connection establishment within RAN and with EPC as shown in <a id='fig3'>[Figure. 3](#fig3)</a>.\n",
    "  \n",
    "\n",
    "#### 3.3.1 Structure of Simulation Logs\n",
    "The format of the observed logs is important to decode according to the contained information. <a id='fig5'>[Figure. 5](#fig5)</a> and <a id='fig6'>[Figure. 6](#fig6)</a> provides the description of a single observed log and its fields:"
   ]
  },
  {
   "cell_type": "code",
   "execution_count": 29,
   "id": "d3ce4e40-8fa7-492d-b0ce-e8bbdf153d59",
   "metadata": {},
   "outputs": [
    {
     "name": "stdout",
     "output_type": "stream",
     "text": [
      "####################################################\n",
      "RAN Connection Setup Logs [MAC, RRC for eNB and UE]\n",
      "####################################################\n",
      "+0.000000000s -1 LteUeRrc:SwitchToState(): [INFO ] 0x5618f26eccd0 IMSI 1 RNTI 0 UeRrc IDLE_START --> IDLE_CELL_SEARCH\n",
      "+0.000000000s -1 LteUeRrc:SwitchToState(): [INFO ] 0x5618f26f04c0 IMSI 2 RNTI 0 UeRrc IDLE_START --> IDLE_CELL_SEARCH\n",
      "+0.200000000s -1 LteUeRrc:SwitchToState(): [INFO ] 0x5618f26eccd0 IMSI 1 RNTI 0 UeRrc IDLE_CELL_SEARCH --> IDLE_WAIT_MIB_SIB1\n",
      "+0.200000000s -1 LteUeRrc:SwitchToState(): [INFO ] 0x5618f26f04c0 IMSI 2 RNTI 0 UeRrc IDLE_CELL_SEARCH --> IDLE_WAIT_MIB_SIB1\n",
      "+0.200214285s 5 LteUeRrc:SwitchToState(): [INFO ] 0x5618f26f04c0 IMSI 2 RNTI 0 UeRrc IDLE_WAIT_MIB_SIB1 --> IDLE_WAIT_SIB1\n",
      "+0.205214285s 5 LteUeRrc:SwitchToState(): [INFO ] 0x5618f26f04c0 IMSI 2 RNTI 0 UeRrc IDLE_WAIT_SIB1 --> IDLE_CAMPED_NORMALLY\n",
      "+0.205214285s 5 LteUeRrc:SwitchToState(): [INFO ] 0x5618f26f04c0 IMSI 2 RNTI 0 UeRrc IDLE_CAMPED_NORMALLY --> IDLE_WAIT_SIB2\n",
      "+0.220214285s 4 LteUeRrc:SwitchToState(): [INFO ] 0x5618f26eccd0 IMSI 1 RNTI 0 UeRrc IDLE_WAIT_MIB_SIB1 --> IDLE_WAIT_SIB1\n",
      "+0.256000000s -1 LteUeRrc:SwitchToState(): [INFO ] 0x5618f26f04c0 IMSI 2 RNTI 0 UeRrc IDLE_WAIT_SIB2 --> IDLE_RANDOM_ACCESS\n",
      "+0.258000000s 6 LteEnbMac:DoSubframeIndication(): [INFO ] 0x5618f271cec0 preambleId 4: 1 received\n",
      "+0.258000000s 6 LteEnbRrc:GetNewSrsConfigurationIndex(): [DEBUG] 0x5618f271d880 SRS p 40 set 0\n",
      "+0.258000000s 6 LteEnbRrc:AddUe(): [DEBUG] 0x5618f271d880 New UE RNTI 1 cellId 1 srs CI 37\n",
      "+0.258000000s 6 LteEnbMac:DoSubframeIndication(): [INFO ] preambleId 4: allocated T-C-RNTI 1, sending RAR\n",
      "+0.258000000s 6 LteEnbMac:DoSchedDlConfigInd(): [INFO ] 0x5618f271cec0 Send RAR message to RNTI 1 rapId 4\n",
      "+0.260214285s 5 LteUeRrc:SwitchToState(): [INFO ] 0x5618f26f04c0 IMSI 2 RNTI 1 UeRrc IDLE_RANDOM_ACCESS --> IDLE_CONNECTING\n",
      "+0.260214285s 5 LteRrcProtocolIdeal:SetEnbRrcSapProvider(): [DEBUG] RNTI 1 connected to cell 1\n",
      "+0.260214285s 5 LteUeRrc:SwitchToState(): [INFO ] 0x5618f26f04c0 IMSI 2 RNTI 1 UeRrc IDLE_CONNECTING --> CONNECTED_NORMALLY\n",
      "+0.260214785s 2 LteEnbRrc:SetupDataRadioBearer(): [DEBUG] 0x5618f26689d0 RNTI 1Lcid 3 lcGroup 2 ComponentCarrierId 0\n",
      "+0.260214785s 2 LteUeRrc:DoRecvRrcConnectionReconfiguration(): [INFO ] DoRecvRrcConnectionReconfiguration haveNonCriticalExtension:0\n",
      "+0.260214785s 2 LteUeRrc:DoRecvRrcConnectionReconfiguration(): [INFO ] haveMobilityControlInfo == false\n",
      "+0.260214785s 2 LteUeRrc:ApplyRadioResourceConfigDedicated(): [INFO ] request to modify SRB1 (skipping as currently not implemented)\n",
      "+0.260214785s 2 LteUeRrc:ApplyRadioResourceConfigDedicated(): [INFO ] 0x5618f26f04c0 IMSI 2 adding/modifying DRBID 1 LC 3\n",
      "+0.260214785s 2 LteUeRrc:ApplyRadioResourceConfigDedicated(): [INFO ] New Data Radio Bearer\n",
      "+0.260214785s 2 LteRrcProtocolIdeal:SetEnbRrcSapProvider(): [DEBUG] RNTI 1 connected to cell 1\n",
      "+0.265214285s 4 LteUeRrc:SwitchToState(): [INFO ] 0x5618f26eccd0 IMSI 1 RNTI 0 UeRrc IDLE_WAIT_SIB1 --> IDLE_CAMPED_NORMALLY\n",
      "+0.265214285s 4 LteUeRrc:SwitchToState(): [INFO ] 0x5618f26eccd0 IMSI 1 RNTI 0 UeRrc IDLE_CAMPED_NORMALLY --> IDLE_WAIT_SIB2\n",
      "+0.336000000s -1 LteUeRrc:SwitchToState(): [INFO ] 0x5618f26eccd0 IMSI 1 RNTI 0 UeRrc IDLE_WAIT_SIB2 --> IDLE_RANDOM_ACCESS\n",
      "+0.338000000s 6 LteEnbMac:DoSubframeIndication(): [INFO ] 0x5618f271cec0 preambleId 51: 1 received\n",
      "+0.338000000s 6 LteEnbRrc:GetNewSrsConfigurationIndex(): [DEBUG] 0x5618f271d880 SRS p 40 set 1\n",
      "+0.338000000s 6 LteEnbRrc:GetNewSrsConfigurationIndex(): [DEBUG] 0x5618f271d880 lower bound 37 of 76\n",
      "+0.338000000s 6 LteEnbRrc:AddUe(): [DEBUG] 0x5618f271d880 New UE RNTI 2 cellId 1 srs CI 38\n",
      "+0.338000000s 6 LteEnbMac:DoSubframeIndication(): [INFO ] preambleId 51: allocated T-C-RNTI 2, sending RAR\n",
      "+0.338000000s 6 LteEnbMac:DoSchedDlConfigInd(): [INFO ] 0x5618f271cec0 Send RAR message to RNTI 2 rapId 51\n",
      "+0.340214285s 4 LteUeRrc:SwitchToState(): [INFO ] 0x5618f26eccd0 IMSI 1 RNTI 2 UeRrc IDLE_RANDOM_ACCESS --> IDLE_CONNECTING\n",
      "+0.340214285s 4 LteRrcProtocolIdeal:SetEnbRrcSapProvider(): [DEBUG] RNTI 2 connected to cell 1\n",
      "+0.340214285s 4 LteUeRrc:SwitchToState(): [INFO ] 0x5618f26eccd0 IMSI 1 RNTI 2 UeRrc IDLE_CONNECTING --> CONNECTED_NORMALLY\n",
      "+0.340214785s 2 LteEnbRrc:SetupDataRadioBearer(): [DEBUG] 0x5618f26669c0 RNTI 2Lcid 3 lcGroup 2 ComponentCarrierId 0\n",
      "+0.340214785s 2 LteUeRrc:DoRecvRrcConnectionReconfiguration(): [INFO ] DoRecvRrcConnectionReconfiguration haveNonCriticalExtension:0\n",
      "+0.340214785s 2 LteUeRrc:DoRecvRrcConnectionReconfiguration(): [INFO ] haveMobilityControlInfo == false\n",
      "+0.340214785s 2 LteUeRrc:ApplyRadioResourceConfigDedicated(): [INFO ] request to modify SRB1 (skipping as currently not implemented)\n",
      "+0.340214785s 2 LteUeRrc:ApplyRadioResourceConfigDedicated(): [INFO ] 0x5618f26eccd0 IMSI 1 adding/modifying DRBID 1 LC 3\n",
      "+0.340214785s 2 LteUeRrc:ApplyRadioResourceConfigDedicated(): [INFO ] New Data Radio Bearer\n",
      "+0.340214785s 2 LteRrcProtocolIdeal:SetEnbRrcSapProvider(): [DEBUG] RNTI 2 connected to cell 1\n",
      "+0.540214285s 4 LteUeRrc:DoNotifyOutOfSync(): [INFO ] 0x5618f26eccd0 Total Number of Sync indications from PHY 1N310 value : 6\n",
      "+0.740214285s 4 LteUeRrc:DoNotifyOutOfSync(): [INFO ] 0x5618f26eccd0 Total Number of Sync indications from PHY 2N310 value : 6\n",
      "+0.940214285s 4 LteUeRrc:DoNotifyOutOfSync(): [INFO ] 0x5618f26eccd0 Total Number of Sync indications from PHY 3N310 value : 6\n",
      "+1.140214285s 4 LteUeRrc:DoNotifyOutOfSync(): [INFO ] 0x5618f26eccd0 Total Number of Sync indications from PHY 4N310 value : 6\n",
      "+1.340214285s 4 LteUeRrc:DoNotifyOutOfSync(): [INFO ] 0x5618f26eccd0 Total Number of Sync indications from PHY 5N310 value : 6\n",
      "+1.540214285s 4 LteUeRrc:DoNotifyOutOfSync(): [INFO ] 0x5618f26eccd0 Total Number of Sync indications from PHY 6N310 value : 6\n",
      "+1.540214285s 4 LteUeRrc:DoNotifyOutOfSync(): [INFO ] t310 started\n",
      "+2.540214285s 4 LteUeRrc:SwitchToState(): [INFO ] 0x5618f26eccd0 IMSI 1 RNTI 2 UeRrc CONNECTED_NORMALLY --> CONNECTED_PHY_PROBLEM\n",
      "+2.540214285s 4 LteRrcProtocolIdeal:DoSendIdealUeContextRemoveRequest(): [DEBUG] RNTI 2 sending UE context remove request to cell id 1\n",
      "+2.540214285s 4 LteRrcProtocolIdeal:SetEnbRrcSapProvider(): [DEBUG] RNTI 2 connected to cell 1\n",
      "+2.540214285s 4 LteUeRrc:SwitchToState(): [INFO ] 0x5618f26eccd0 IMSI 1 RNTI 2 UeRrc CONNECTED_PHY_PROBLEM --> IDLE_START\n",
      "+2.540214285s 4 LteUeRrc:SwitchToState(): [INFO ] Starting initial cell selection after RLF\n",
      "+2.540214285s 4 LteUeRrc:SwitchToState(): [INFO ] 0x5618f26eccd0 IMSI 1 RNTI 2 UeRrc IDLE_START --> IDLE_CELL_SEARCH\n",
      "+2.540214285s 4 LteEnbRrc:RecvIdealUeContextRemoveRequest(): [DEBUG] Sending release of bearer id : 1LCID : 3\n",
      "+2.600000000s -1 LteUeRrc:SwitchToState(): [INFO ] 0x5618f26eccd0 IMSI 1 RNTI 0 UeRrc IDLE_CELL_SEARCH --> IDLE_WAIT_MIB_SIB1\n",
      "+2.610214285s 4 LteUeRrc:SwitchToState(): [INFO ] 0x5618f26eccd0 IMSI 1 RNTI 0 UeRrc IDLE_WAIT_MIB_SIB1 --> IDLE_WAIT_SIB1\n",
      "+2.625214285s 4 LteUeRrc:SwitchToState(): [INFO ] 0x5618f26eccd0 IMSI 1 RNTI 0 UeRrc IDLE_WAIT_SIB1 --> IDLE_CAMPED_NORMALLY\n",
      "+2.625214285s 4 LteUeRrc:SwitchToState(): [INFO ] 0x5618f26eccd0 IMSI 1 RNTI 0 UeRrc IDLE_CAMPED_NORMALLY --> IDLE_WAIT_SIB2\n",
      "+2.656000000s -1 LteUeRrc:SwitchToState(): [INFO ] 0x5618f26eccd0 IMSI 1 RNTI 0 UeRrc IDLE_WAIT_SIB2 --> IDLE_RANDOM_ACCESS\n",
      "+2.658000000s 6 LteEnbMac:DoSubframeIndication(): [INFO ] 0x5618f271cec0 preambleId 46: 1 received\n",
      "+2.658000000s 6 LteEnbRrc:GetNewSrsConfigurationIndex(): [DEBUG] 0x5618f271d880 SRS p 40 set 1\n",
      "+2.658000000s 6 LteEnbRrc:GetNewSrsConfigurationIndex(): [DEBUG] 0x5618f271d880 lower bound 37 of 76\n",
      "+2.658000000s 6 LteEnbRrc:AddUe(): [DEBUG] 0x5618f271d880 New UE RNTI 3 cellId 1 srs CI 38\n",
      "+2.658000000s 6 LteEnbMac:DoSubframeIndication(): [INFO ] preambleId 46: allocated T-C-RNTI 3, sending RAR\n",
      "+2.658000000s 6 LteEnbMac:DoSchedDlConfigInd(): [INFO ] 0x5618f271cec0 Send RAR message to RNTI 3 rapId 46\n",
      "+2.660214285s 4 LteUeRrc:SwitchToState(): [INFO ] 0x5618f26eccd0 IMSI 1 RNTI 3 UeRrc IDLE_RANDOM_ACCESS --> IDLE_CONNECTING\n",
      "+2.660214285s 4 LteRrcProtocolIdeal:SetEnbRrcSapProvider(): [DEBUG] RNTI 3 connected to cell 1\n",
      "+2.660214285s 4 LteUeRrc:SwitchToState(): [INFO ] 0x5618f26eccd0 IMSI 1 RNTI 3 UeRrc IDLE_CONNECTING --> CONNECTED_NORMALLY\n",
      "+2.660214785s 2 LteEnbRrc:SetupDataRadioBearer(): [DEBUG] 0x5618f26669c0 RNTI 3Lcid 3 lcGroup 2 ComponentCarrierId 0\n",
      "+2.660214785s 2 LteUeRrc:DoRecvRrcConnectionReconfiguration(): [INFO ] DoRecvRrcConnectionReconfiguration haveNonCriticalExtension:0\n",
      "+2.660214785s 2 LteUeRrc:DoRecvRrcConnectionReconfiguration(): [INFO ] haveMobilityControlInfo == false\n",
      "+2.660214785s 2 LteUeRrc:ApplyRadioResourceConfigDedicated(): [INFO ] request to modify SRB1 (skipping as currently not implemented)\n",
      "+2.660214785s 2 LteUeRrc:ApplyRadioResourceConfigDedicated(): [INFO ] 0x5618f26eccd0 IMSI 1 adding/modifying DRBID 1 LC 3\n",
      "+2.660214785s 2 LteUeRrc:ApplyRadioResourceConfigDedicated(): [INFO ] New Data Radio Bearer\n",
      "+2.660214785s 2 LteRrcProtocolIdeal:SetEnbRrcSapProvider(): [DEBUG] RNTI 3 connected to cell 1\n",
      "+2.860214285s 4 LteUeRrc:DoNotifyOutOfSync(): [INFO ] 0x5618f26eccd0 Total Number of Sync indications from PHY 1N310 value : 6\n",
      "\n",
      "\n",
      "####################################################\n",
      "EPC Connection Setup Logs [SGW, PGW, MME]\n",
      "####################################################\n",
      "+0.000000000s -1 PointToPointEpcHelper:AddEnb(): [LOGIC] Ipv4 ifaces of the eNB after installing p2p dev: 1\n",
      "+0.000000000s -1 PointToPointEpcHelper:AddEnb(): [LOGIC] number of Ipv4 ifaces of the eNB after assigning Ipv4 addr to S1 dev: 2\n",
      "+0.260214549s 0 EpcPgwApplication:DoRecvCreateSessionRequest(): [DEBUG] cellId 1 IMSI 2\n",
      "+0.260214549s 0 EpcPgwApplication:DoRecvCreateSessionRequest(): [DEBUG] BearerContextsToBeCreated size = 1\n",
      "+0.260214549s 0 EpcPgwApplication:DoRecvCreateSessionRequest(): [DEBUG] bearerId 1 SGW 10.0.0.6 TEID 1\n",
      "+0.260214549s 0 EpcPgwApplication:DoRecvCreateSessionRequest(): [DEBUG] BearerContextsCreated size = 1\n",
      "+0.260214549s 0 EpcPgwApplication:DoRecvCreateSessionRequest(): [DEBUG] Send CreateSessionResponse to SGW 14.0.0.6\n",
      "+0.340214549s 0 EpcPgwApplication:DoRecvCreateSessionRequest(): [DEBUG] cellId 1 IMSI 1\n",
      "+0.340214549s 0 EpcPgwApplication:DoRecvCreateSessionRequest(): [DEBUG] BearerContextsToBeCreated size = 1\n",
      "+0.340214549s 0 EpcPgwApplication:DoRecvCreateSessionRequest(): [DEBUG] bearerId 1 SGW 10.0.0.6 TEID 2\n",
      "+0.340214549s 0 EpcPgwApplication:DoRecvCreateSessionRequest(): [DEBUG] BearerContextsCreated size = 1\n",
      "+0.340214549s 0 EpcPgwApplication:DoRecvCreateSessionRequest(): [DEBUG] Send CreateSessionResponse to SGW 14.0.0.6\n",
      "+2.540214285s 4 EpcEnbApplication:DoUeContextRelease(): [INFO ] TEID: 2 erased\n",
      "+2.540214285s 4 EpcEnbApplication:DoUeContextRelease(): [INFO ] RNTI: 2 erased\n",
      "+2.540214365s 0 EpcPgwApplication:DoRecvDeleteBearerCommand(): [DEBUG] ebid 1\n",
      "+2.540214365s 0 EpcPgwApplication:DoRecvDeleteBearerCommand(): [DEBUG] Send DeleteBearerRequest to SGW 14.0.0.6\n",
      "+2.660214549s 0 EpcPgwApplication:DoRecvCreateSessionRequest(): [DEBUG] cellId 1 IMSI 1\n",
      "+2.660214549s 0 EpcPgwApplication:DoRecvCreateSessionRequest(): [DEBUG] BearerContextsToBeCreated size = 1\n",
      "+2.660214549s 0 EpcPgwApplication:DoRecvCreateSessionRequest(): [DEBUG] bearerId 1 SGW 10.0.0.6 TEID 3\n",
      "+2.660214549s 0 EpcPgwApplication:DoRecvCreateSessionRequest(): [DEBUG] BearerContextsCreated size = 1\n",
      "+2.660214549s 0 EpcPgwApplication:DoRecvCreateSessionRequest(): [DEBUG] Send CreateSessionResponse to SGW 14.0.0.6\n"
     ]
    }
   ],
   "source": [
    "%run -i 'Modules/lab3-dataPre.py'"
   ]
  },
  {
   "cell_type": "markdown",
   "id": "a7078f9e-33d4-4340-9cfd-fdfd12598c11",
   "metadata": {
    "tags": []
   },
   "source": [
    "### <u>Exercises</u>"
   ]
  },
  {
   "cell_type": "markdown",
   "id": "2d1f97df-aca8-4b17-986d-07e0628ed73f",
   "metadata": {
    "tags": []
   },
   "source": [
    "#### Q3.4.1a: Identify the states of each UE until it is connected with the eNB (the completion of Attachment process)."
   ]
  },
  {
   "cell_type": "markdown",
   "id": "10148e14-6e7e-43fe-aacc-43d2c6bf8e3f",
   "metadata": {},
   "source": [
    "<b> Answer:</b>"
   ]
  },
  {
   "cell_type": "markdown",
   "id": "a2d23d97-9383-42ae-ab20-c12ff15c371e",
   "metadata": {},
   "source": [
    "IMSI 2: IDLE_START-->IDLE_CELL_SEARCH-->IDLE_WAIT_MIB_SIB1-->IDLE_WAIT_SIB1-->IDLE_CAMPED_NORMALLY-->IDLE_WAIT_SIB2-->IDLE_RANDOM_ACCESS-->IDLE_CONNECTING-->CONNECTED NORMALLY\n",
    "\n",
    "IMSI 1: IDLE_START-->IDLE_CELL_SEARCH-->IDLE_WAIT_MIB_SIB1-->IDLE_WAIT_SIB1-->IDLE_CAMPED_NORMALLY-->IDLE_WAIT_SIB2-->IDLE_RANDOM_ACCESS-->IDLE_CONNECTING-->CONNECTED NORMALLY-->CONNECTED_PHY_PROBLEM-->  IDLE_START-->IDLE_CELL_SEARCH-->IDLE_WAIT_MIB_SIB1-->IDLE_WAIT_SIB1-->IDLE_CAMPED_NORMALLY-->IDLE_WAIT_SIB2-->IDLE_RANDOM_ACCESS-->IDLE_CONNECTING-->CONNECTED NORMALLY"
   ]
  },
  {
   "cell_type": "markdown",
   "id": "3873fdec-34b7-4bec-a739-4700bb43f0c2",
   "metadata": {
    "tags": []
   },
   "source": [
    "#### Q3.4.1b: List relevant logs from the simulation where necessary for Q3.4.1a.\n",
    "> **Hint:** Check if all the users are present in the logs"
   ]
  },
  {
   "cell_type": "markdown",
   "id": "cb570dce-9d5c-441a-b19a-aac9ce947d39",
   "metadata": {},
   "source": [
    "<b> Answer:</b>"
   ]
  },
  {
   "cell_type": "markdown",
   "id": "b4976243-375d-4304-bb71-4646d8412d12",
   "metadata": {},
   "source": [
    "+0.000000000s -1 LteUeRrc:SwitchToState(): [INFO ] 0x5618f26eccd0 IMSI 1 RNTI 0 UeRrc IDLE_START --> IDLE_CELL_SEARCH\n",
    "\n",
    "+0.000000000s -1 LteUeRrc:SwitchToState(): [INFO ] 0x5618f26f04c0 IMSI 2 RNTI 0 UeRrc IDLE_START --> IDLE_CELL_SEARCH\n",
    "\n",
    "+0.200000000s -1 LteUeRrc:SwitchToState(): [INFO ] 0x5618f26eccd0 IMSI 1 RNTI 0 UeRrc IDLE_CELL_SEARCH --> IDLE_WAIT_MIB_SIB1\n",
    "\n",
    "+0.200000000s -1 LteUeRrc:SwitchToState(): [INFO ] 0x5618f26f04c0 IMSI 2 RNTI 0 UeRrc IDLE_CELL_SEARCH --> IDLE_WAIT_MIB_SIB1\n",
    "\n",
    "+0.200214285s 5 LteUeRrc:SwitchToState(): [INFO ] 0x5618f26f04c0 IMSI 2 RNTI 0 UeRrc IDLE_WAIT_MIB_SIB1 --> IDLE_WAIT_SIB1\n",
    "\n",
    "+0.205214285s 5 LteUeRrc:SwitchToState(): [INFO ] 0x5618f26f04c0 IMSI 2 RNTI 0 UeRrc IDLE_WAIT_SIB1 --> IDLE_CAMPED_NORMALLY\n",
    "\n",
    "+0.205214285s 5 LteUeRrc:SwitchToState(): [INFO ] 0x5618f26f04c0 IMSI 2 RNTI 0 UeRrc IDLE_CAMPED_NORMALLY --> IDLE_WAIT_SIB2\n",
    "\n",
    "+0.220214285s 4 LteUeRrc:SwitchToState(): [INFO ] 0x5618f26eccd0 IMSI 1 RNTI 0 UeRrc IDLE_WAIT_MIB_SIB1 --> IDLE_WAIT_SIB1\n",
    "\n",
    "+0.256000000s -1 LteUeRrc:SwitchToState(): [INFO ] 0x5618f26f04c0 IMSI 2 RNTI 0 UeRrc IDLE_WAIT_SIB2 --> IDLE_RANDOM_ACCESS\n",
    "\n",
    "...\n",
    "\n",
    "+0.260214285s 5 LteUeRrc:SwitchToState(): [INFO ] 0x5618f26f04c0 IMSI 2 RNTI 1 UeRrc IDLE_RANDOM_ACCESS --> IDLE_CONNECTING\n",
    "\n",
    "...\n",
    "\n",
    "+0.260214285s 5 LteUeRrc:SwitchToState(): [INFO ] 0x5618f26f04c0 IMSI 2 RNTI 1 UeRrc IDLE_CONNECTING --> CONNECTED_NORMALLY\n",
    "\n",
    "...\n",
    "\n",
    "+0.265214285s 4 LteUeRrc:SwitchToState(): [INFO ] 0x5618f26eccd0 IMSI 1 RNTI 0 UeRrc IDLE_WAIT_SIB1 --> IDLE_CAMPED_NORMALLY\n",
    "\n",
    "+0.265214285s 4 LteUeRrc:SwitchToState(): [INFO ] 0x5618f26eccd0 IMSI 1 RNTI 0 UeRrc IDLE_CAMPED_NORMALLY --> IDLE_WAIT_SIB2\n",
    "\n",
    "+0.336000000s -1 LteUeRrc:SwitchToState(): [INFO ] 0x5618f26eccd0 IMSI 1 RNTI 0 UeRrc IDLE_WAIT_SIB2 --> IDLE_RANDOM_ACCESS\n",
    "\n",
    "...\n",
    "\n",
    "+0.340214285s 4 LteUeRrc:SwitchToState(): [INFO ] 0x5618f26eccd0 IMSI 1 RNTI 2 UeRrc IDLE_RANDOM_ACCESS --> IDLE_CONNECTING\n",
    "\n",
    "...\n",
    "\n",
    "+0.340214285s 4 LteUeRrc:SwitchToState(): [INFO ] 0x5618f26eccd0 IMSI 1 RNTI 2 UeRrc IDLE_CONNECTING --> CONNECTED_NORMALLY\n",
    "\n",
    "...\n",
    "\n",
    "+2.540214285s 4 LteUeRrc:SwitchToState(): [INFO ] 0x5618f26eccd0 IMSI 1 RNTI 2 UeRrc CONNECTED_NORMALLY --> CONNECTED_PHY_PROBLEM\n",
    "\n",
    "...\n",
    "\n",
    "+2.540214285s 4 LteUeRrc:SwitchToState(): [INFO ] 0x5618f26eccd0 IMSI 1 RNTI 2 UeRrc CONNECTED_PHY_PROBLEM --> IDLE_START\n",
    "\n",
    "...\n",
    "\n",
    "+2.540214285s 4 LteUeRrc:SwitchToState(): [INFO ] 0x5618f26eccd0 IMSI 1 RNTI 2 UeRrc IDLE_START --> IDLE_CELL_SEARCH\n",
    "\n",
    "...\n",
    "\n",
    "\n",
    "+2.600000000s -1 LteUeRrc:SwitchToState(): [INFO ] 0x5618f26eccd0 IMSI 1 RNTI 0 UeRrc IDLE_CELL_SEARCH --> IDLE_WAIT_MIB_SIB1\n",
    "\n",
    "+2.610214285s 4 LteUeRrc:SwitchToState(): [INFO ] 0x5618f26eccd0 IMSI 1 RNTI 0 UeRrc IDLE_WAIT_MIB_SIB1 --> IDLE_WAIT_SIB1\n",
    "\n",
    "+2.625214285s 4 LteUeRrc:SwitchToState(): [INFO ] 0x5618f26eccd0 IMSI 1 RNTI 0 UeRrc IDLE_WAIT_SIB1 --> IDLE_CAMPED_NORMALLY\n",
    "\n",
    "+2.625214285s 4 LteUeRrc:SwitchToState(): [INFO ] 0x5618f26eccd0 IMSI 1 RNTI 0 UeRrc IDLE_CAMPED_NORMALLY --> IDLE_WAIT_SIB2\n",
    "\n",
    "+2.656000000s -1 LteUeRrc:SwitchToState(): [INFO ] 0x5618f26eccd0 IMSI 1 RNTI 0 UeRrc IDLE_WAIT_SIB2 --> IDLE_RANDOM_ACCESS\n",
    "\n",
    "...\n",
    "\n",
    "+2.660214285s 4 LteUeRrc:SwitchToState(): [INFO ] 0x5618f26eccd0 IMSI 1 RNTI 3 UeRrc IDLE_RANDOM_ACCESS --> IDLE_CONNECTING\n",
    "\n",
    "...\n",
    "\n",
    "+2.660214285s 4 LteUeRrc:SwitchToState(): [INFO ] 0x5618f26eccd0 IMSI 1 RNTI 3 UeRrc IDLE_CONNECTING --> CONNECTED_NORMALLY"
   ]
  },
  {
   "cell_type": "markdown",
   "id": "da1bbbf1-f00a-48fb-87b2-43419ac49e3b",
   "metadata": {
    "tags": []
   },
   "source": [
    "#### Q3.4.2a: Detect the problem with the connection of the UE in the edge region of the designed topology? Consult the state diagram in <a id='fig3'>[Figure. 3](#fig3)</a> and simulation logs to identify the problem.\n",
    "\n",
    "> **Hint:** Analyze the logs to identify the state of each UE. This will help in identifying any problematic logs and the issue itself. Rerun the simulation by changing the edge UE location slightly if no issue is detected."
   ]
  },
  {
   "cell_type": "markdown",
   "id": "c09d214c-2edc-43a4-a124-2f0f94d8114e",
   "metadata": {},
   "source": [
    "<b> Answer:</b>"
   ]
  },
  {
   "cell_type": "markdown",
   "id": "8bad5415-c3ca-423a-adf1-d49e76f9a3d7",
   "metadata": {},
   "source": [
    "There are a synchronization problem after connection which leads to the UE changing state to CONNECTED_PHY_PROBLEM and then a restart to IDLE_START. It seems like the UE is too far away from the eNB to keep the connection. "
   ]
  },
  {
   "cell_type": "markdown",
   "id": "c6b1fce7-d78f-4b49-9d3f-765c4c790596",
   "metadata": {
    "tags": []
   },
   "source": [
    "#### Q3.4.2b: What can be done to resolve the problem identified in Q3.4.2a?"
   ]
  },
  {
   "cell_type": "markdown",
   "id": "dde6353d-f455-49b1-991c-d01c880800da",
   "metadata": {},
   "source": [
    "<b> Answer:</b>"
   ]
  },
  {
   "cell_type": "markdown",
   "id": "9361acbd-f903-4519-94d6-78e29e856896",
   "metadata": {},
   "source": [
    "1. Do a handover to a nearby eNB\n",
    "2. UE move closer to the eNB\n",
    "3. Increase transmit power at eNB"
   ]
  },
  {
   "cell_type": "markdown",
   "id": "59054df3-55c9-4899-b6f9-2e2ff9bf8036",
   "metadata": {
    "tags": []
   },
   "source": [
    "#### Q3.4.3a: How is radio link failure issue detected and resolved in LTE?"
   ]
  },
  {
   "cell_type": "markdown",
   "id": "81b30031-e74e-4db4-bf09-dd2527bcc0ea",
   "metadata": {},
   "source": [
    "<b> Answer:</b>"
   ]
  },
  {
   "cell_type": "markdown",
   "id": "0bff5a93-3f64-400d-8383-1d5ac309cee4",
   "metadata": {},
   "source": [
    "Link failure are resolved by looking for a new connection (same or different eNB), and restart the attachment process starting in IDLE_START. UE can also detect error. Measurments and missing data. Accounts for both sides. \n",
    "\n",
    "Both the UE and eNB can detect radio link failures. If they receive packets that are incomplete and missing information they can assume that the radio link fails. They can also do measurments of SINR and signal quality and if those value decrease it will also assume a radio link failure. "
   ]
  },
  {
   "cell_type": "markdown",
   "id": "97c6787a-aa2f-48fd-9309-efefe38cd3bd",
   "metadata": {
    "tags": []
   },
   "source": [
    "#### Q3.4.3b: Identify the relevant logs from simulation for Q3.4.3a?"
   ]
  },
  {
   "cell_type": "markdown",
   "id": "99b1665c-210b-4d7b-82a2-7fa7e78c6741",
   "metadata": {},
   "source": [
    "<b> Answer:</b>"
   ]
  },
  {
   "cell_type": "markdown",
   "id": "4a433d2e-8006-4870-9058-62a749270d17",
   "metadata": {},
   "source": [
    "+0.540214285s 4 LteUeRrc:DoNotifyOutOfSync(): [INFO ] 0x5618f26eccd0 Total Number of Sync indications from PHY 1N310 value : 6\n",
    "\n",
    "+0.740214285s 4 LteUeRrc:DoNotifyOutOfSync(): [INFO ] 0x5618f26eccd0 Total Number of Sync indications from PHY 2N310 value : 6\n",
    "\n",
    "+0.940214285s 4 LteUeRrc:DoNotifyOutOfSync(): [INFO ] 0x5618f26eccd0 Total Number of Sync indications from PHY 3N310 value : 6\n",
    "\n",
    "+1.140214285s 4 LteUeRrc:DoNotifyOutOfSync(): [INFO ] 0x5618f26eccd0 Total Number of Sync indications from PHY 4N310 value : 6\n",
    "\n",
    "+1.340214285s 4 LteUeRrc:DoNotifyOutOfSync(): [INFO ] 0x5618f26eccd0 Total Number of Sync indications from PHY 5N310 value : 6\n",
    "\n",
    "+1.540214285s 4 LteUeRrc:DoNotifyOutOfSync(): [INFO ] 0x5618f26eccd0 Total Number of Sync indications from PHY 6N310 value : 6\n",
    "\n",
    "+1.540214285s 4 LteUeRrc:DoNotifyOutOfSync(): [INFO ] t310 started\n",
    "\n",
    "+2.540214285s 4 LteUeRrc:SwitchToState(): [INFO ] 0x5618f26eccd0 IMSI 1 RNTI 2 UeRrc CONNECTED_NORMALLY --> CONNECTED_PHY_PROBLEM\n",
    "\n",
    "+2.540214285s 4 LteRrcProtocolIdeal:DoSendIdealUeContextRemoveRequest(): [DEBUG] RNTI 2 sending UE context remove request to cell id 1\n",
    "\n",
    "+2.540214285s 4 LteRrcProtocolIdeal:SetEnbRrcSapProvider(): [DEBUG] RNTI 2 connected to cell 1\n",
    "\n",
    "+2.540214285s 4 LteUeRrc:SwitchToState(): [INFO ] 0x5618f26eccd0 IMSI 1 RNTI 2 UeRrc CONNECTED_PHY_PROBLEM --> IDLE_START"
   ]
  },
  {
   "cell_type": "markdown",
   "id": "6f2c681b-6da3-476d-8a32-3a3c7593f134",
   "metadata": {},
   "source": [
    "#### Q3.4.4: What is NAS and UserContext in LTE?"
   ]
  },
  {
   "cell_type": "markdown",
   "id": "d53bb89f-b863-41bd-a23c-a5c88f270055",
   "metadata": {},
   "source": [
    "<b> Answer:</b>"
   ]
  },
  {
   "cell_type": "markdown",
   "id": "ef42a0f4-1447-45b9-9715-2d0dbb28c119",
   "metadata": {},
   "source": [
    "NAS is responsible for handling the signalling and control function between the UE and the MME. The protocol excist on the application layer between the UE and MME. It is used for mobility management, session management, authentication and implementing security mechanisms. User context (PDP context er navnet i tidligere versjoner.) Bearsers i user context. "
   ]
  },
  {
   "cell_type": "markdown",
   "id": "e1ab90c4-7701-4fb6-b4a2-9a85b6ba0d86",
   "metadata": {},
   "source": [
    "---\n",
    "---\n",
    "### <span style=\"color:blue\"> Milestone 2 </span>\n",
    "\n",
    "Before proceeding, **call a TA** to make sure everything went as expected.\n",
    "\n",
    "---\n",
    "---"
   ]
  },
  {
   "cell_type": "markdown",
   "id": "f2a898f4-9b07-4db2-aff6-cd37f395a24b",
   "metadata": {
    "tags": []
   },
   "source": [
    "## <span style=\"color:red\"> *Task#3: Boundary Conditions in Cellular Networks*</span>\n",
    "In this task, students will simulate a cellular topology in order to find the cell boundary. The coordinates of the UE and eNB can be used to find the approximate coverage distance. This can be achieved by having a single UE and altering its location while keeping the **eNB txpower** parameter fixed. The boundary would be approximately beyond the point where UE is unable to communicate with the eNB.\n",
    "\n",
    "> **Note:** Use the topology blueprint for designing a react topology as shown below in <a id='fig8'>[Figure. 8](#fig8)</a>.\n",
    "\n",
    "| |\n",
    "|---|\n",
    "| ![lab3-task3-topology.png](Figures/lab3-task3-topology.png) |\n",
    "<a id='fig8'><p style=\"text-align: center;\"><b>[Figure. 8: LTE RAN topology](#fig8)</b></a>   \n",
    "\n",
    "\n",
    "Add additional cells as required in the jupyter notebook and submit those additional cells as well during evaluation.\n",
    "> <b>Note</b>: Run simulations for two positions for UE: 1) first while the connection is still normal with eNB, 2) second when the UE disconnects for the first time. The average of both these points will give us the approximate boundary points to be used for calculation boundary distance."
   ]
  },
  {
   "cell_type": "markdown",
   "id": "b0a29704-54b2-47c0-a9fc-ee5c3b210c7a",
   "metadata": {},
   "source": [
    "<b> Tx Power = 25dBm </b>"
   ]
  },
  {
   "cell_type": "code",
   "execution_count": 43,
   "id": "1a5fa707-585f-4d5b-84d7-18f51278a07f",
   "metadata": {},
   "outputs": [
    {
     "name": "stdout",
     "output_type": "stream",
     "text": [
      "List of created simulations: \n",
      " \n",
      "task 1\n",
      "GroupPtask1\n",
      "Task 2\n",
      "p25\n",
      "\n"
     ]
    },
    {
     "name": "stdin",
     "output_type": "stream",
     "text": [
      "List the simulation to run:  p25\n",
      "Show a picture of the topology? (y/n) y\n"
     ]
    },
    {
     "name": "stdout",
     "output_type": "stream",
     "text": [
      "Generating topology pictures...\n"
     ]
    },
    {
     "data": {
      "text/markdown": [
       "<img src=\"./Figures/GeneratedImages/image p25.png\" alt = \"test pic\" style=\"background-color: white;\"> "
      ],
      "text/plain": [
       "<IPython.core.display.Markdown object>"
      ]
     },
     "metadata": {},
     "output_type": "display_data"
    },
    {
     "name": "stdout",
     "output_type": "stream",
     "text": [
      "(-423.42747346631415,-533.3832788109531),\n",
      "(0,0),\n",
      "25\n",
      "Connection Tracing Simualtions for RAN...\n",
      "Starting simulation 1...\n"
     ]
    },
    {
     "name": "stderr",
     "output_type": "stream",
     "text": [
      "Running simulations: 100%|██████████| 1/1 [00:01<00:00,  1.60s/simulation]\n"
     ]
    },
    {
     "name": "stdout",
     "output_type": "stream",
     "text": [
      "Simulation 1 finished!\n",
      "There are 1 results in the database\n",
      "\n",
      "Connection Tracing Simualtions for EPC...\n",
      "Starting simulation 2...\n"
     ]
    },
    {
     "name": "stderr",
     "output_type": "stream",
     "text": [
      "Running simulations: 100%|██████████| 1/1 [00:01<00:00,  1.49s/simulation]"
     ]
    },
    {
     "name": "stdout",
     "output_type": "stream",
     "text": [
      "Simulation 2 finished!\n",
      "There are 1 results in the database\n",
      "\n"
     ]
    },
    {
     "name": "stderr",
     "output_type": "stream",
     "text": [
      "\n"
     ]
    }
   ],
   "source": [
    "#disconnected\n",
    "%run -i 'Modules/lab3-init.py'"
   ]
  },
  {
   "cell_type": "code",
   "execution_count": 45,
   "id": "c631608b-e4ee-4f33-8416-5124a4bf78cc",
   "metadata": {},
   "outputs": [
    {
     "name": "stdout",
     "output_type": "stream",
     "text": [
      "####################################################\n",
      "RAN Connection Setup Logs [MAC, RRC for eNB and UE]\n",
      "####################################################\n",
      "+0.000000000s -1 LteUeRrc:SwitchToState(): [INFO ] 0x55e651d15b10 IMSI 1 RNTI 0 UeRrc IDLE_START --> IDLE_CELL_SEARCH\n",
      "\n",
      "\n",
      "####################################################\n",
      "EPC Connection Setup Logs [SGW, PGW, MME]\n",
      "####################################################\n",
      "+0.000000000s -1 PointToPointEpcHelper:AddEnb(): [LOGIC] Ipv4 ifaces of the eNB after installing p2p dev: 1\n",
      "+0.000000000s -1 PointToPointEpcHelper:AddEnb(): [LOGIC] number of Ipv4 ifaces of the eNB after assigning Ipv4 addr to S1 dev: 2\n"
     ]
    }
   ],
   "source": [
    "%run -i 'Modules/lab3-dataPre.py'"
   ]
  },
  {
   "cell_type": "code",
   "execution_count": 46,
   "id": "ae0c23a1-f7f4-4cbf-9129-c165b0431a70",
   "metadata": {},
   "outputs": [
    {
     "name": "stdout",
     "output_type": "stream",
     "text": [
      "List of created simulations: \n",
      " \n",
      "task 1\n",
      "GroupPtask1\n",
      "Task 2\n",
      "p25\n",
      "\n"
     ]
    },
    {
     "name": "stdin",
     "output_type": "stream",
     "text": [
      "List the simulation to run:  p25\n",
      "Show a picture of the topology? (y/n) y\n"
     ]
    },
    {
     "name": "stdout",
     "output_type": "stream",
     "text": [
      "Generating topology pictures...\n"
     ]
    },
    {
     "data": {
      "text/markdown": [
       "<img src=\"./Figures/GeneratedImages/image p25.png\" alt = \"test pic\" style=\"background-color: white;\"> "
      ],
      "text/plain": [
       "<IPython.core.display.Markdown object>"
      ]
     },
     "metadata": {},
     "output_type": "display_data"
    },
    {
     "name": "stdout",
     "output_type": "stream",
     "text": [
      "(-373.93595059362775,-511.38809205586233),\n",
      "(0,0),\n",
      "25\n",
      "Connection Tracing Simualtions for RAN...\n",
      "Starting simulation 1...\n"
     ]
    },
    {
     "name": "stderr",
     "output_type": "stream",
     "text": [
      "Running simulations: 100%|██████████| 1/1 [00:03<00:00,  3.17s/simulation]\n"
     ]
    },
    {
     "name": "stdout",
     "output_type": "stream",
     "text": [
      "Simulation 1 finished!\n",
      "There are 1 results in the database\n",
      "\n",
      "Connection Tracing Simualtions for EPC...\n",
      "Starting simulation 2...\n"
     ]
    },
    {
     "name": "stderr",
     "output_type": "stream",
     "text": [
      "Running simulations: 100%|██████████| 1/1 [00:03<00:00,  3.19s/simulation]"
     ]
    },
    {
     "name": "stdout",
     "output_type": "stream",
     "text": [
      "Simulation 2 finished!\n",
      "There are 1 results in the database\n",
      "\n"
     ]
    },
    {
     "name": "stderr",
     "output_type": "stream",
     "text": [
      "\n"
     ]
    }
   ],
   "source": [
    "#connected\n",
    "%run -i 'Modules/lab3-init.py'"
   ]
  },
  {
   "cell_type": "code",
   "execution_count": 47,
   "id": "17893f5f-1ab6-4e8b-a738-97362a25ad20",
   "metadata": {},
   "outputs": [
    {
     "name": "stdout",
     "output_type": "stream",
     "text": [
      "####################################################\n",
      "RAN Connection Setup Logs [MAC, RRC for eNB and UE]\n",
      "####################################################\n",
      "+0.000000000s -1 LteUeRrc:SwitchToState(): [INFO ] 0x55d76f0efb10 IMSI 1 RNTI 0 UeRrc IDLE_START --> IDLE_CELL_SEARCH\n",
      "+0.200000000s -1 LteUeRrc:SwitchToState(): [INFO ] 0x55d76f0efb10 IMSI 1 RNTI 0 UeRrc IDLE_CELL_SEARCH --> IDLE_WAIT_MIB_SIB1\n",
      "+0.220214285s 4 LteUeRrc:SwitchToState(): [INFO ] 0x55d76f0efb10 IMSI 1 RNTI 0 UeRrc IDLE_WAIT_MIB_SIB1 --> IDLE_WAIT_SIB1\n",
      "+0.265214285s 4 LteUeRrc:SwitchToState(): [INFO ] 0x55d76f0efb10 IMSI 1 RNTI 0 UeRrc IDLE_WAIT_SIB1 --> IDLE_CAMPED_NORMALLY\n",
      "+0.265214285s 4 LteUeRrc:SwitchToState(): [INFO ] 0x55d76f0efb10 IMSI 1 RNTI 0 UeRrc IDLE_CAMPED_NORMALLY --> IDLE_WAIT_SIB2\n",
      "+0.336000000s -1 LteUeRrc:SwitchToState(): [INFO ] 0x55d76f0efb10 IMSI 1 RNTI 0 UeRrc IDLE_WAIT_SIB2 --> IDLE_RANDOM_ACCESS\n",
      "+0.338000000s 5 LteEnbMac:DoSubframeIndication(): [INFO ] 0x55d76f11fd00 preambleId 51: 1 received\n",
      "+0.338000000s 5 LteEnbRrc:GetNewSrsConfigurationIndex(): [DEBUG] 0x55d76f1206c0 SRS p 40 set 0\n",
      "+0.338000000s 5 LteEnbRrc:AddUe(): [DEBUG] 0x55d76f1206c0 New UE RNTI 1 cellId 1 srs CI 37\n",
      "+0.338000000s 5 LteEnbMac:DoSubframeIndication(): [INFO ] preambleId 51: allocated T-C-RNTI 1, sending RAR\n",
      "+0.338000000s 5 LteEnbMac:DoSchedDlConfigInd(): [INFO ] 0x55d76f11fd00 Send RAR message to RNTI 1 rapId 51\n",
      "+0.340214285s 4 LteUeRrc:SwitchToState(): [INFO ] 0x55d76f0efb10 IMSI 1 RNTI 1 UeRrc IDLE_RANDOM_ACCESS --> IDLE_CONNECTING\n",
      "+0.340214285s 4 LteRrcProtocolIdeal:SetEnbRrcSapProvider(): [DEBUG] RNTI 1 connected to cell 1\n",
      "+0.340214285s 4 LteUeRrc:SwitchToState(): [INFO ] 0x55d76f0efb10 IMSI 1 RNTI 1 UeRrc IDLE_CONNECTING --> CONNECTED_NORMALLY\n",
      "+0.340214785s 2 LteEnbRrc:SetupDataRadioBearer(): [DEBUG] 0x55d76f06b9d0 RNTI 1Lcid 3 lcGroup 2 ComponentCarrierId 0\n",
      "+0.340214785s 2 LteUeRrc:DoRecvRrcConnectionReconfiguration(): [INFO ] DoRecvRrcConnectionReconfiguration haveNonCriticalExtension:0\n",
      "+0.340214785s 2 LteUeRrc:DoRecvRrcConnectionReconfiguration(): [INFO ] haveMobilityControlInfo == false\n",
      "+0.340214785s 2 LteUeRrc:ApplyRadioResourceConfigDedicated(): [INFO ] request to modify SRB1 (skipping as currently not implemented)\n",
      "+0.340214785s 2 LteUeRrc:ApplyRadioResourceConfigDedicated(): [INFO ] 0x55d76f0efb10 IMSI 1 adding/modifying DRBID 1 LC 3\n",
      "+0.340214785s 2 LteUeRrc:ApplyRadioResourceConfigDedicated(): [INFO ] New Data Radio Bearer\n",
      "+0.340214785s 2 LteRrcProtocolIdeal:SetEnbRrcSapProvider(): [DEBUG] RNTI 1 connected to cell 1\n",
      "+0.540214285s 4 LteUeRrc:DoNotifyOutOfSync(): [INFO ] 0x55d76f0efb10 Total Number of Sync indications from PHY 1N310 value : 6\n",
      "+0.740214285s 4 LteUeRrc:DoNotifyOutOfSync(): [INFO ] 0x55d76f0efb10 Total Number of Sync indications from PHY 2N310 value : 6\n",
      "+0.940214285s 4 LteUeRrc:DoNotifyOutOfSync(): [INFO ] 0x55d76f0efb10 Total Number of Sync indications from PHY 3N310 value : 6\n",
      "+1.140214285s 4 LteUeRrc:DoNotifyOutOfSync(): [INFO ] 0x55d76f0efb10 Total Number of Sync indications from PHY 4N310 value : 6\n",
      "+1.340214285s 4 LteUeRrc:DoNotifyOutOfSync(): [INFO ] 0x55d76f0efb10 Total Number of Sync indications from PHY 5N310 value : 6\n",
      "+1.540214285s 4 LteUeRrc:DoNotifyOutOfSync(): [INFO ] 0x55d76f0efb10 Total Number of Sync indications from PHY 6N310 value : 6\n",
      "+1.540214285s 4 LteUeRrc:DoNotifyOutOfSync(): [INFO ] t310 started\n",
      "+2.540214285s 4 LteUeRrc:SwitchToState(): [INFO ] 0x55d76f0efb10 IMSI 1 RNTI 1 UeRrc CONNECTED_NORMALLY --> CONNECTED_PHY_PROBLEM\n",
      "+2.540214285s 4 LteRrcProtocolIdeal:DoSendIdealUeContextRemoveRequest(): [DEBUG] RNTI 1 sending UE context remove request to cell id 1\n",
      "+2.540214285s 4 LteRrcProtocolIdeal:SetEnbRrcSapProvider(): [DEBUG] RNTI 1 connected to cell 1\n",
      "+2.540214285s 4 LteUeRrc:SwitchToState(): [INFO ] 0x55d76f0efb10 IMSI 1 RNTI 1 UeRrc CONNECTED_PHY_PROBLEM --> IDLE_START\n",
      "+2.540214285s 4 LteUeRrc:SwitchToState(): [INFO ] Starting initial cell selection after RLF\n",
      "+2.540214285s 4 LteUeRrc:SwitchToState(): [INFO ] 0x55d76f0efb10 IMSI 1 RNTI 1 UeRrc IDLE_START --> IDLE_CELL_SEARCH\n",
      "+2.540214285s 4 LteEnbRrc:RecvIdealUeContextRemoveRequest(): [DEBUG] Sending release of bearer id : 1LCID : 3\n",
      "+2.600000000s -1 LteUeRrc:SwitchToState(): [INFO ] 0x55d76f0efb10 IMSI 1 RNTI 0 UeRrc IDLE_CELL_SEARCH --> IDLE_WAIT_MIB_SIB1\n",
      "+2.610214285s 4 LteUeRrc:SwitchToState(): [INFO ] 0x55d76f0efb10 IMSI 1 RNTI 0 UeRrc IDLE_WAIT_MIB_SIB1 --> IDLE_WAIT_SIB1\n",
      "+2.625214285s 4 LteUeRrc:SwitchToState(): [INFO ] 0x55d76f0efb10 IMSI 1 RNTI 0 UeRrc IDLE_WAIT_SIB1 --> IDLE_CAMPED_NORMALLY\n",
      "+2.625214285s 4 LteUeRrc:SwitchToState(): [INFO ] 0x55d76f0efb10 IMSI 1 RNTI 0 UeRrc IDLE_CAMPED_NORMALLY --> IDLE_WAIT_SIB2\n",
      "+2.656000000s -1 LteUeRrc:SwitchToState(): [INFO ] 0x55d76f0efb10 IMSI 1 RNTI 0 UeRrc IDLE_WAIT_SIB2 --> IDLE_RANDOM_ACCESS\n",
      "+2.658000000s 5 LteEnbMac:DoSubframeIndication(): [INFO ] 0x55d76f11fd00 preambleId 46: 1 received\n",
      "+2.658000000s 5 LteEnbRrc:GetNewSrsConfigurationIndex(): [DEBUG] 0x55d76f1206c0 SRS p 40 set 0\n",
      "+2.658000000s 5 LteEnbRrc:AddUe(): [DEBUG] 0x55d76f1206c0 New UE RNTI 2 cellId 1 srs CI 37\n",
      "+2.658000000s 5 LteEnbMac:DoSubframeIndication(): [INFO ] preambleId 46: allocated T-C-RNTI 2, sending RAR\n",
      "+2.658000000s 5 LteEnbMac:DoSchedDlConfigInd(): [INFO ] 0x55d76f11fd00 Send RAR message to RNTI 2 rapId 46\n",
      "+2.660214285s 4 LteUeRrc:SwitchToState(): [INFO ] 0x55d76f0efb10 IMSI 1 RNTI 2 UeRrc IDLE_RANDOM_ACCESS --> IDLE_CONNECTING\n",
      "+2.660214285s 4 LteRrcProtocolIdeal:SetEnbRrcSapProvider(): [DEBUG] RNTI 2 connected to cell 1\n",
      "+2.660214285s 4 LteUeRrc:SwitchToState(): [INFO ] 0x55d76f0efb10 IMSI 1 RNTI 2 UeRrc IDLE_CONNECTING --> CONNECTED_NORMALLY\n",
      "+2.660214785s 2 LteEnbRrc:SetupDataRadioBearer(): [DEBUG] 0x55d76f06b9d0 RNTI 2Lcid 3 lcGroup 2 ComponentCarrierId 0\n",
      "+2.660214785s 2 LteUeRrc:DoRecvRrcConnectionReconfiguration(): [INFO ] DoRecvRrcConnectionReconfiguration haveNonCriticalExtension:0\n",
      "+2.660214785s 2 LteUeRrc:DoRecvRrcConnectionReconfiguration(): [INFO ] haveMobilityControlInfo == false\n",
      "+2.660214785s 2 LteUeRrc:ApplyRadioResourceConfigDedicated(): [INFO ] request to modify SRB1 (skipping as currently not implemented)\n",
      "+2.660214785s 2 LteUeRrc:ApplyRadioResourceConfigDedicated(): [INFO ] 0x55d76f0efb10 IMSI 1 adding/modifying DRBID 1 LC 3\n",
      "+2.660214785s 2 LteUeRrc:ApplyRadioResourceConfigDedicated(): [INFO ] New Data Radio Bearer\n",
      "+2.660214785s 2 LteRrcProtocolIdeal:SetEnbRrcSapProvider(): [DEBUG] RNTI 2 connected to cell 1\n",
      "+2.860214285s 4 LteUeRrc:DoNotifyOutOfSync(): [INFO ] 0x55d76f0efb10 Total Number of Sync indications from PHY 1N310 value : 6\n",
      "\n",
      "\n",
      "####################################################\n",
      "EPC Connection Setup Logs [SGW, PGW, MME]\n",
      "####################################################\n",
      "+0.000000000s -1 PointToPointEpcHelper:AddEnb(): [LOGIC] Ipv4 ifaces of the eNB after installing p2p dev: 1\n",
      "+0.000000000s -1 PointToPointEpcHelper:AddEnb(): [LOGIC] number of Ipv4 ifaces of the eNB after assigning Ipv4 addr to S1 dev: 2\n",
      "+0.340214549s 0 EpcPgwApplication:DoRecvCreateSessionRequest(): [DEBUG] cellId 1 IMSI 1\n",
      "+0.340214549s 0 EpcPgwApplication:DoRecvCreateSessionRequest(): [DEBUG] BearerContextsToBeCreated size = 1\n",
      "+0.340214549s 0 EpcPgwApplication:DoRecvCreateSessionRequest(): [DEBUG] bearerId 1 SGW 10.0.0.6 TEID 1\n",
      "+0.340214549s 0 EpcPgwApplication:DoRecvCreateSessionRequest(): [DEBUG] BearerContextsCreated size = 1\n",
      "+0.340214549s 0 EpcPgwApplication:DoRecvCreateSessionRequest(): [DEBUG] Send CreateSessionResponse to SGW 14.0.0.6\n",
      "+2.540214285s 4 EpcEnbApplication:DoUeContextRelease(): [INFO ] TEID: 1 erased\n",
      "+2.540214285s 4 EpcEnbApplication:DoUeContextRelease(): [INFO ] RNTI: 1 erased\n",
      "+2.540214365s 0 EpcPgwApplication:DoRecvDeleteBearerCommand(): [DEBUG] ebid 1\n",
      "+2.540214365s 0 EpcPgwApplication:DoRecvDeleteBearerCommand(): [DEBUG] Send DeleteBearerRequest to SGW 14.0.0.6\n",
      "+2.660214549s 0 EpcPgwApplication:DoRecvCreateSessionRequest(): [DEBUG] cellId 1 IMSI 1\n",
      "+2.660214549s 0 EpcPgwApplication:DoRecvCreateSessionRequest(): [DEBUG] BearerContextsToBeCreated size = 1\n",
      "+2.660214549s 0 EpcPgwApplication:DoRecvCreateSessionRequest(): [DEBUG] bearerId 1 SGW 10.0.0.6 TEID 2\n",
      "+2.660214549s 0 EpcPgwApplication:DoRecvCreateSessionRequest(): [DEBUG] BearerContextsCreated size = 1\n",
      "+2.660214549s 0 EpcPgwApplication:DoRecvCreateSessionRequest(): [DEBUG] Send CreateSessionResponse to SGW 14.0.0.6\n"
     ]
    }
   ],
   "source": [
    "%run -i 'Modules/lab3-dataPre.py'"
   ]
  },
  {
   "cell_type": "code",
   "execution_count": 63,
   "id": "091a2bd1-e77c-4b3a-a30e-a7b24ad97d1d",
   "metadata": {},
   "outputs": [
    {
     "name": "stdout",
     "output_type": "stream",
     "text": [
      "List of created simulations: \n",
      " \n",
      "task 1\n",
      "p40\n",
      "GroupPtask1\n",
      "p35proof\n",
      "p35\n",
      "Task 2\n",
      "p25\n",
      "p40proof\n",
      "p25proof\n",
      "\n"
     ]
    },
    {
     "name": "stdin",
     "output_type": "stream",
     "text": [
      "List the simulation to run:  p25proof\n",
      "Show a picture of the topology? (y/n) y\n"
     ]
    },
    {
     "name": "stdout",
     "output_type": "stream",
     "text": [
      "Generating topology pictures...\n"
     ]
    },
    {
     "data": {
      "text/markdown": [
       "<img src=\"./Figures/GeneratedImages/image p25proof.png\" alt = \"test pic\" style=\"background-color: white;\"> "
      ],
      "text/plain": [
       "<IPython.core.display.Markdown object>"
      ]
     },
     "metadata": {},
     "output_type": "display_data"
    },
    {
     "name": "stdout",
     "output_type": "stream",
     "text": [
      "(-692.8813202176052,-3.126388037344441e-13),\n",
      "(0,0),\n",
      "25\n",
      "Connection Tracing Simualtions for RAN...\n",
      "Starting simulation 1...\n"
     ]
    },
    {
     "name": "stderr",
     "output_type": "stream",
     "text": [
      "Running simulations: 100%|██████████| 1/1 [00:01<00:00,  1.52s/simulation]\n"
     ]
    },
    {
     "name": "stdout",
     "output_type": "stream",
     "text": [
      "Simulation 1 finished!\n",
      "There are 1 results in the database\n",
      "\n",
      "Connection Tracing Simualtions for EPC...\n",
      "Starting simulation 2...\n"
     ]
    },
    {
     "name": "stderr",
     "output_type": "stream",
     "text": [
      "Running simulations: 100%|██████████| 1/1 [00:01<00:00,  1.46s/simulation]"
     ]
    },
    {
     "name": "stdout",
     "output_type": "stream",
     "text": [
      "Simulation 2 finished!\n",
      "There are 1 results in the database\n",
      "\n"
     ]
    },
    {
     "name": "stderr",
     "output_type": "stream",
     "text": [
      "\n"
     ]
    }
   ],
   "source": [
    "#proof this did not work\n",
    "%run -i 'Modules/lab3-init.py'"
   ]
  },
  {
   "cell_type": "code",
   "execution_count": 64,
   "id": "ed3efccd-80b5-4649-9844-76d0854a6ce0",
   "metadata": {},
   "outputs": [
    {
     "name": "stdout",
     "output_type": "stream",
     "text": [
      "####################################################\n",
      "RAN Connection Setup Logs [MAC, RRC for eNB and UE]\n",
      "####################################################\n",
      "+0.000000000s -1 LteUeRrc:SwitchToState(): [INFO ] 0x5652de9b6b10 IMSI 1 RNTI 0 UeRrc IDLE_START --> IDLE_CELL_SEARCH\n",
      "\n",
      "\n",
      "####################################################\n",
      "EPC Connection Setup Logs [SGW, PGW, MME]\n",
      "####################################################\n",
      "+0.000000000s -1 PointToPointEpcHelper:AddEnb(): [LOGIC] Ipv4 ifaces of the eNB after installing p2p dev: 1\n",
      "+0.000000000s -1 PointToPointEpcHelper:AddEnb(): [LOGIC] number of Ipv4 ifaces of the eNB after assigning Ipv4 addr to S1 dev: 2\n"
     ]
    }
   ],
   "source": [
    "%run -i 'Modules/lab3-dataPre.py'"
   ]
  },
  {
   "cell_type": "code",
   "execution_count": 65,
   "id": "43f6bd98-9dfb-4e99-aa44-ceeed9a02d76",
   "metadata": {},
   "outputs": [
    {
     "name": "stdout",
     "output_type": "stream",
     "text": [
      "List of created simulations: \n",
      " \n",
      "task 1\n",
      "p40\n",
      "GroupPtask1\n",
      "p35proof\n",
      "p35\n",
      "Task 2\n",
      "p25\n",
      "p40proof\n",
      "p25proof\n",
      "\n"
     ]
    },
    {
     "name": "stdin",
     "output_type": "stream",
     "text": [
      "List the simulation to run:  p25proof\n",
      "Show a picture of the topology? (y/n) y\n"
     ]
    },
    {
     "name": "stdout",
     "output_type": "stream",
     "text": [
      "Generating topology pictures...\n"
     ]
    },
    {
     "data": {
      "text/markdown": [
       "<img src=\"./Figures/GeneratedImages/image p25proof.png\" alt = \"test pic\" style=\"background-color: white;\"> "
      ],
      "text/plain": [
       "<IPython.core.display.Markdown object>"
      ]
     },
     "metadata": {},
     "output_type": "display_data"
    },
    {
     "name": "stdout",
     "output_type": "stream",
     "text": [
      "(-687.3822621206402,10.997593377545087),\n",
      "(0,0),\n",
      "25\n",
      "Connection Tracing Simualtions for RAN...\n",
      "Starting simulation 1...\n"
     ]
    },
    {
     "name": "stderr",
     "output_type": "stream",
     "text": [
      "Running simulations: 100%|██████████| 1/1 [00:01<00:00,  1.51s/simulation]\n"
     ]
    },
    {
     "name": "stdout",
     "output_type": "stream",
     "text": [
      "Simulation 1 finished!\n",
      "There are 1 results in the database\n",
      "\n",
      "Connection Tracing Simualtions for EPC...\n",
      "Starting simulation 2...\n"
     ]
    },
    {
     "name": "stderr",
     "output_type": "stream",
     "text": [
      "Running simulations: 100%|██████████| 1/1 [00:01<00:00,  1.72s/simulation]"
     ]
    },
    {
     "name": "stdout",
     "output_type": "stream",
     "text": [
      "Simulation 2 finished!\n",
      "There are 1 results in the database\n",
      "\n"
     ]
    },
    {
     "name": "stderr",
     "output_type": "stream",
     "text": [
      "\n"
     ]
    }
   ],
   "source": [
    "#proof did not work either\n",
    "%run -i 'Modules/lab3-init.py'"
   ]
  },
  {
   "cell_type": "code",
   "execution_count": 66,
   "id": "abc00316-21a5-4b78-a2d2-edae0cf91a5d",
   "metadata": {},
   "outputs": [
    {
     "name": "stdout",
     "output_type": "stream",
     "text": [
      "####################################################\n",
      "RAN Connection Setup Logs [MAC, RRC for eNB and UE]\n",
      "####################################################\n",
      "+0.000000000s -1 LteUeRrc:SwitchToState(): [INFO ] 0x55e5d5cdfb10 IMSI 1 RNTI 0 UeRrc IDLE_START --> IDLE_CELL_SEARCH\n",
      "\n",
      "\n",
      "####################################################\n",
      "EPC Connection Setup Logs [SGW, PGW, MME]\n",
      "####################################################\n",
      "+0.000000000s -1 PointToPointEpcHelper:AddEnb(): [LOGIC] Ipv4 ifaces of the eNB after installing p2p dev: 1\n",
      "+0.000000000s -1 PointToPointEpcHelper:AddEnb(): [LOGIC] number of Ipv4 ifaces of the eNB after assigning Ipv4 addr to S1 dev: 2\n"
     ]
    }
   ],
   "source": [
    "%run -i 'Modules/lab3-dataPre.py'"
   ]
  },
  {
   "cell_type": "markdown",
   "id": "85096366-9bc1-4de7-8114-6fa0062be506",
   "metadata": {},
   "source": [
    "<b> Tx Power = 35dBm </b>"
   ]
  },
  {
   "cell_type": "code",
   "execution_count": 48,
   "id": "4b16aaeb-2f86-4136-b8f0-87584044c68d",
   "metadata": {},
   "outputs": [
    {
     "name": "stdout",
     "output_type": "stream",
     "text": [
      "List of created simulations: \n",
      " \n",
      "task 1\n",
      "GroupPtask1\n",
      "p35\n",
      "Task 2\n",
      "p25\n",
      "\n"
     ]
    },
    {
     "name": "stdin",
     "output_type": "stream",
     "text": [
      "List the simulation to run:  p35\n",
      "Show a picture of the topology? (y/n) y\n"
     ]
    },
    {
     "name": "stdout",
     "output_type": "stream",
     "text": [
      "Generating topology pictures...\n"
     ]
    },
    {
     "data": {
      "text/markdown": [
       "<img src=\"./Figures/GeneratedImages/image p35.png\" alt = \"test pic\" style=\"background-color: white;\"> "
      ],
      "text/plain": [
       "<IPython.core.display.Markdown object>"
      ]
     },
     "metadata": {},
     "output_type": "display_data"
    },
    {
     "name": "stdout",
     "output_type": "stream",
     "text": [
      "(-797.3634240599425,-522.3856854334082),\n",
      "(0,0),\n",
      "35\n",
      "Connection Tracing Simualtions for RAN...\n",
      "Starting simulation 1...\n"
     ]
    },
    {
     "name": "stderr",
     "output_type": "stream",
     "text": [
      "Running simulations: 100%|██████████| 1/1 [00:03<00:00,  3.44s/simulation]\n"
     ]
    },
    {
     "name": "stdout",
     "output_type": "stream",
     "text": [
      "Simulation 1 finished!\n",
      "There are 1 results in the database\n",
      "\n",
      "Connection Tracing Simualtions for EPC...\n",
      "Starting simulation 2...\n"
     ]
    },
    {
     "name": "stderr",
     "output_type": "stream",
     "text": [
      "Running simulations: 100%|██████████| 1/1 [00:03<00:00,  3.90s/simulation]"
     ]
    },
    {
     "name": "stdout",
     "output_type": "stream",
     "text": [
      "Simulation 2 finished!\n",
      "There are 1 results in the database\n",
      "\n"
     ]
    },
    {
     "name": "stderr",
     "output_type": "stream",
     "text": [
      "\n"
     ]
    }
   ],
   "source": [
    "#connected\n",
    "%run -i 'Modules/lab3-init.py'"
   ]
  },
  {
   "cell_type": "code",
   "execution_count": 49,
   "id": "0bfab078-2f7d-4772-b05e-4d4abc8ff81f",
   "metadata": {},
   "outputs": [
    {
     "name": "stdout",
     "output_type": "stream",
     "text": [
      "####################################################\n",
      "RAN Connection Setup Logs [MAC, RRC for eNB and UE]\n",
      "####################################################\n",
      "+0.000000000s -1 LteUeRrc:SwitchToState(): [INFO ] 0x5561f84dcb10 IMSI 1 RNTI 0 UeRrc IDLE_START --> IDLE_CELL_SEARCH\n",
      "+0.200000000s -1 LteUeRrc:SwitchToState(): [INFO ] 0x5561f84dcb10 IMSI 1 RNTI 0 UeRrc IDLE_CELL_SEARCH --> IDLE_WAIT_MIB_SIB1\n",
      "+0.220214285s 4 LteUeRrc:SwitchToState(): [INFO ] 0x5561f84dcb10 IMSI 1 RNTI 0 UeRrc IDLE_WAIT_MIB_SIB1 --> IDLE_WAIT_SIB1\n",
      "+0.265214285s 4 LteUeRrc:SwitchToState(): [INFO ] 0x5561f84dcb10 IMSI 1 RNTI 0 UeRrc IDLE_WAIT_SIB1 --> IDLE_CAMPED_NORMALLY\n",
      "+0.265214285s 4 LteUeRrc:SwitchToState(): [INFO ] 0x5561f84dcb10 IMSI 1 RNTI 0 UeRrc IDLE_CAMPED_NORMALLY --> IDLE_WAIT_SIB2\n",
      "+0.336000000s -1 LteUeRrc:SwitchToState(): [INFO ] 0x5561f84dcb10 IMSI 1 RNTI 0 UeRrc IDLE_WAIT_SIB2 --> IDLE_RANDOM_ACCESS\n",
      "+0.338000000s 5 LteEnbMac:DoSubframeIndication(): [INFO ] 0x5561f850cd00 preambleId 51: 1 received\n",
      "+0.338000000s 5 LteEnbRrc:GetNewSrsConfigurationIndex(): [DEBUG] 0x5561f850d6c0 SRS p 40 set 0\n",
      "+0.338000000s 5 LteEnbRrc:AddUe(): [DEBUG] 0x5561f850d6c0 New UE RNTI 1 cellId 1 srs CI 37\n",
      "+0.338000000s 5 LteEnbMac:DoSubframeIndication(): [INFO ] preambleId 51: allocated T-C-RNTI 1, sending RAR\n",
      "+0.338000000s 5 LteEnbMac:DoSchedDlConfigInd(): [INFO ] 0x5561f850cd00 Send RAR message to RNTI 1 rapId 51\n",
      "+0.340214285s 4 LteUeRrc:SwitchToState(): [INFO ] 0x5561f84dcb10 IMSI 1 RNTI 1 UeRrc IDLE_RANDOM_ACCESS --> IDLE_CONNECTING\n",
      "+0.340214285s 4 LteRrcProtocolIdeal:SetEnbRrcSapProvider(): [DEBUG] RNTI 1 connected to cell 1\n",
      "+0.340214285s 4 LteUeRrc:SwitchToState(): [INFO ] 0x5561f84dcb10 IMSI 1 RNTI 1 UeRrc IDLE_CONNECTING --> CONNECTED_NORMALLY\n",
      "+0.340214785s 2 LteEnbRrc:SetupDataRadioBearer(): [DEBUG] 0x5561f84589d0 RNTI 1Lcid 3 lcGroup 2 ComponentCarrierId 0\n",
      "+0.340214785s 2 LteUeRrc:DoRecvRrcConnectionReconfiguration(): [INFO ] DoRecvRrcConnectionReconfiguration haveNonCriticalExtension:0\n",
      "+0.340214785s 2 LteUeRrc:DoRecvRrcConnectionReconfiguration(): [INFO ] haveMobilityControlInfo == false\n",
      "+0.340214785s 2 LteUeRrc:ApplyRadioResourceConfigDedicated(): [INFO ] request to modify SRB1 (skipping as currently not implemented)\n",
      "+0.340214785s 2 LteUeRrc:ApplyRadioResourceConfigDedicated(): [INFO ] 0x5561f84dcb10 IMSI 1 adding/modifying DRBID 1 LC 3\n",
      "+0.340214785s 2 LteUeRrc:ApplyRadioResourceConfigDedicated(): [INFO ] New Data Radio Bearer\n",
      "+0.340214785s 2 LteRrcProtocolIdeal:SetEnbRrcSapProvider(): [DEBUG] RNTI 1 connected to cell 1\n",
      "+0.540214285s 4 LteUeRrc:DoNotifyOutOfSync(): [INFO ] 0x5561f84dcb10 Total Number of Sync indications from PHY 1N310 value : 6\n",
      "+0.740214285s 4 LteUeRrc:DoNotifyOutOfSync(): [INFO ] 0x5561f84dcb10 Total Number of Sync indications from PHY 2N310 value : 6\n",
      "+0.940214285s 4 LteUeRrc:DoNotifyOutOfSync(): [INFO ] 0x5561f84dcb10 Total Number of Sync indications from PHY 3N310 value : 6\n",
      "+1.140214285s 4 LteUeRrc:DoNotifyOutOfSync(): [INFO ] 0x5561f84dcb10 Total Number of Sync indications from PHY 4N310 value : 6\n",
      "+1.340214285s 4 LteUeRrc:DoNotifyOutOfSync(): [INFO ] 0x5561f84dcb10 Total Number of Sync indications from PHY 5N310 value : 6\n",
      "+1.540214285s 4 LteUeRrc:DoNotifyOutOfSync(): [INFO ] 0x5561f84dcb10 Total Number of Sync indications from PHY 6N310 value : 6\n",
      "+1.540214285s 4 LteUeRrc:DoNotifyOutOfSync(): [INFO ] t310 started\n",
      "+2.540214285s 4 LteUeRrc:SwitchToState(): [INFO ] 0x5561f84dcb10 IMSI 1 RNTI 1 UeRrc CONNECTED_NORMALLY --> CONNECTED_PHY_PROBLEM\n",
      "+2.540214285s 4 LteRrcProtocolIdeal:DoSendIdealUeContextRemoveRequest(): [DEBUG] RNTI 1 sending UE context remove request to cell id 1\n",
      "+2.540214285s 4 LteRrcProtocolIdeal:SetEnbRrcSapProvider(): [DEBUG] RNTI 1 connected to cell 1\n",
      "+2.540214285s 4 LteUeRrc:SwitchToState(): [INFO ] 0x5561f84dcb10 IMSI 1 RNTI 1 UeRrc CONNECTED_PHY_PROBLEM --> IDLE_START\n",
      "+2.540214285s 4 LteUeRrc:SwitchToState(): [INFO ] Starting initial cell selection after RLF\n",
      "+2.540214285s 4 LteUeRrc:SwitchToState(): [INFO ] 0x5561f84dcb10 IMSI 1 RNTI 1 UeRrc IDLE_START --> IDLE_CELL_SEARCH\n",
      "+2.540214285s 4 LteEnbRrc:RecvIdealUeContextRemoveRequest(): [DEBUG] Sending release of bearer id : 1LCID : 3\n",
      "+2.600000000s -1 LteUeRrc:SwitchToState(): [INFO ] 0x5561f84dcb10 IMSI 1 RNTI 0 UeRrc IDLE_CELL_SEARCH --> IDLE_WAIT_MIB_SIB1\n",
      "+2.610214285s 4 LteUeRrc:SwitchToState(): [INFO ] 0x5561f84dcb10 IMSI 1 RNTI 0 UeRrc IDLE_WAIT_MIB_SIB1 --> IDLE_WAIT_SIB1\n",
      "+2.625214285s 4 LteUeRrc:SwitchToState(): [INFO ] 0x5561f84dcb10 IMSI 1 RNTI 0 UeRrc IDLE_WAIT_SIB1 --> IDLE_CAMPED_NORMALLY\n",
      "+2.625214285s 4 LteUeRrc:SwitchToState(): [INFO ] 0x5561f84dcb10 IMSI 1 RNTI 0 UeRrc IDLE_CAMPED_NORMALLY --> IDLE_WAIT_SIB2\n",
      "+2.656000000s -1 LteUeRrc:SwitchToState(): [INFO ] 0x5561f84dcb10 IMSI 1 RNTI 0 UeRrc IDLE_WAIT_SIB2 --> IDLE_RANDOM_ACCESS\n",
      "+2.658000000s 5 LteEnbMac:DoSubframeIndication(): [INFO ] 0x5561f850cd00 preambleId 46: 1 received\n",
      "+2.658000000s 5 LteEnbRrc:GetNewSrsConfigurationIndex(): [DEBUG] 0x5561f850d6c0 SRS p 40 set 0\n",
      "+2.658000000s 5 LteEnbRrc:AddUe(): [DEBUG] 0x5561f850d6c0 New UE RNTI 2 cellId 1 srs CI 37\n",
      "+2.658000000s 5 LteEnbMac:DoSubframeIndication(): [INFO ] preambleId 46: allocated T-C-RNTI 2, sending RAR\n",
      "+2.658000000s 5 LteEnbMac:DoSchedDlConfigInd(): [INFO ] 0x5561f850cd00 Send RAR message to RNTI 2 rapId 46\n",
      "+2.660214285s 4 LteUeRrc:SwitchToState(): [INFO ] 0x5561f84dcb10 IMSI 1 RNTI 2 UeRrc IDLE_RANDOM_ACCESS --> IDLE_CONNECTING\n",
      "+2.660214285s 4 LteRrcProtocolIdeal:SetEnbRrcSapProvider(): [DEBUG] RNTI 2 connected to cell 1\n",
      "+2.660214285s 4 LteUeRrc:SwitchToState(): [INFO ] 0x5561f84dcb10 IMSI 1 RNTI 2 UeRrc IDLE_CONNECTING --> CONNECTED_NORMALLY\n",
      "+2.660214785s 2 LteEnbRrc:SetupDataRadioBearer(): [DEBUG] 0x5561f84589d0 RNTI 2Lcid 3 lcGroup 2 ComponentCarrierId 0\n",
      "+2.660214785s 2 LteUeRrc:DoRecvRrcConnectionReconfiguration(): [INFO ] DoRecvRrcConnectionReconfiguration haveNonCriticalExtension:0\n",
      "+2.660214785s 2 LteUeRrc:DoRecvRrcConnectionReconfiguration(): [INFO ] haveMobilityControlInfo == false\n",
      "+2.660214785s 2 LteUeRrc:ApplyRadioResourceConfigDedicated(): [INFO ] request to modify SRB1 (skipping as currently not implemented)\n",
      "+2.660214785s 2 LteUeRrc:ApplyRadioResourceConfigDedicated(): [INFO ] 0x5561f84dcb10 IMSI 1 adding/modifying DRBID 1 LC 3\n",
      "+2.660214785s 2 LteUeRrc:ApplyRadioResourceConfigDedicated(): [INFO ] New Data Radio Bearer\n",
      "+2.660214785s 2 LteRrcProtocolIdeal:SetEnbRrcSapProvider(): [DEBUG] RNTI 2 connected to cell 1\n",
      "+2.860214285s 4 LteUeRrc:DoNotifyOutOfSync(): [INFO ] 0x5561f84dcb10 Total Number of Sync indications from PHY 1N310 value : 6\n",
      "\n",
      "\n",
      "####################################################\n",
      "EPC Connection Setup Logs [SGW, PGW, MME]\n",
      "####################################################\n",
      "+0.000000000s -1 PointToPointEpcHelper:AddEnb(): [LOGIC] Ipv4 ifaces of the eNB after installing p2p dev: 1\n",
      "+0.000000000s -1 PointToPointEpcHelper:AddEnb(): [LOGIC] number of Ipv4 ifaces of the eNB after assigning Ipv4 addr to S1 dev: 2\n",
      "+0.340214549s 0 EpcPgwApplication:DoRecvCreateSessionRequest(): [DEBUG] cellId 1 IMSI 1\n",
      "+0.340214549s 0 EpcPgwApplication:DoRecvCreateSessionRequest(): [DEBUG] BearerContextsToBeCreated size = 1\n",
      "+0.340214549s 0 EpcPgwApplication:DoRecvCreateSessionRequest(): [DEBUG] bearerId 1 SGW 10.0.0.6 TEID 1\n",
      "+0.340214549s 0 EpcPgwApplication:DoRecvCreateSessionRequest(): [DEBUG] BearerContextsCreated size = 1\n",
      "+0.340214549s 0 EpcPgwApplication:DoRecvCreateSessionRequest(): [DEBUG] Send CreateSessionResponse to SGW 14.0.0.6\n",
      "+2.540214285s 4 EpcEnbApplication:DoUeContextRelease(): [INFO ] TEID: 1 erased\n",
      "+2.540214285s 4 EpcEnbApplication:DoUeContextRelease(): [INFO ] RNTI: 1 erased\n",
      "+2.540214365s 0 EpcPgwApplication:DoRecvDeleteBearerCommand(): [DEBUG] ebid 1\n",
      "+2.540214365s 0 EpcPgwApplication:DoRecvDeleteBearerCommand(): [DEBUG] Send DeleteBearerRequest to SGW 14.0.0.6\n",
      "+2.660214549s 0 EpcPgwApplication:DoRecvCreateSessionRequest(): [DEBUG] cellId 1 IMSI 1\n",
      "+2.660214549s 0 EpcPgwApplication:DoRecvCreateSessionRequest(): [DEBUG] BearerContextsToBeCreated size = 1\n",
      "+2.660214549s 0 EpcPgwApplication:DoRecvCreateSessionRequest(): [DEBUG] bearerId 1 SGW 10.0.0.6 TEID 2\n",
      "+2.660214549s 0 EpcPgwApplication:DoRecvCreateSessionRequest(): [DEBUG] BearerContextsCreated size = 1\n",
      "+2.660214549s 0 EpcPgwApplication:DoRecvCreateSessionRequest(): [DEBUG] Send CreateSessionResponse to SGW 14.0.0.6\n"
     ]
    }
   ],
   "source": [
    "%run -i 'Modules/lab3-dataPre.py'"
   ]
  },
  {
   "cell_type": "code",
   "execution_count": 50,
   "id": "e741d7e9-a419-416a-83ee-e435dfcf9273",
   "metadata": {},
   "outputs": [
    {
     "name": "stdout",
     "output_type": "stream",
     "text": [
      "List of created simulations: \n",
      " \n",
      "task 1\n",
      "GroupPtask1\n",
      "p35\n",
      "Task 2\n",
      "p25\n",
      "\n"
     ]
    },
    {
     "name": "stdin",
     "output_type": "stream",
     "text": [
      "List the simulation to run:  p35\n",
      "Show a picture of the topology? (y/n) y\n"
     ]
    },
    {
     "name": "stdout",
     "output_type": "stream",
     "text": [
      "Generating topology pictures...\n"
     ]
    },
    {
     "data": {
      "text/markdown": [
       "<img src=\"./Figures/GeneratedImages/image p35.png\" alt = \"test pic\" style=\"background-color: white;\"> "
      ],
      "text/plain": [
       "<IPython.core.display.Markdown object>"
      ]
     },
     "metadata": {},
     "output_type": "display_data"
    },
    {
     "name": "stdout",
     "output_type": "stream",
     "text": [
      "(-830.3577726417334,-538.8820754997263),\n",
      "(0,0),\n",
      "35\n",
      "Connection Tracing Simualtions for RAN...\n",
      "Starting simulation 1...\n"
     ]
    },
    {
     "name": "stderr",
     "output_type": "stream",
     "text": [
      "Running simulations: 100%|██████████| 1/1 [00:01<00:00,  1.54s/simulation]\n"
     ]
    },
    {
     "name": "stdout",
     "output_type": "stream",
     "text": [
      "Simulation 1 finished!\n",
      "There are 1 results in the database\n",
      "\n",
      "Connection Tracing Simualtions for EPC...\n",
      "Starting simulation 2...\n"
     ]
    },
    {
     "name": "stderr",
     "output_type": "stream",
     "text": [
      "Running simulations: 100%|██████████| 1/1 [00:01<00:00,  1.51s/simulation]"
     ]
    },
    {
     "name": "stdout",
     "output_type": "stream",
     "text": [
      "Simulation 2 finished!\n",
      "There are 1 results in the database\n",
      "\n"
     ]
    },
    {
     "name": "stderr",
     "output_type": "stream",
     "text": [
      "\n"
     ]
    }
   ],
   "source": [
    "#disconnected\n",
    "%run -i 'Modules/lab3-init.py'"
   ]
  },
  {
   "cell_type": "code",
   "execution_count": 51,
   "id": "21ae24e8-7d09-4703-a17e-1446c9e90cf5",
   "metadata": {},
   "outputs": [
    {
     "name": "stdout",
     "output_type": "stream",
     "text": [
      "####################################################\n",
      "RAN Connection Setup Logs [MAC, RRC for eNB and UE]\n",
      "####################################################\n",
      "+0.000000000s -1 LteUeRrc:SwitchToState(): [INFO ] 0x55fde976ab10 IMSI 1 RNTI 0 UeRrc IDLE_START --> IDLE_CELL_SEARCH\n",
      "\n",
      "\n",
      "####################################################\n",
      "EPC Connection Setup Logs [SGW, PGW, MME]\n",
      "####################################################\n",
      "+0.000000000s -1 PointToPointEpcHelper:AddEnb(): [LOGIC] Ipv4 ifaces of the eNB after installing p2p dev: 1\n",
      "+0.000000000s -1 PointToPointEpcHelper:AddEnb(): [LOGIC] number of Ipv4 ifaces of the eNB after assigning Ipv4 addr to S1 dev: 2\n"
     ]
    }
   ],
   "source": [
    "%run -i 'Modules/lab3-dataPre.py'"
   ]
  },
  {
   "cell_type": "code",
   "execution_count": 61,
   "id": "d977448b-962e-41f1-80be-bc587247742a",
   "metadata": {},
   "outputs": [
    {
     "name": "stdout",
     "output_type": "stream",
     "text": [
      "List of created simulations: \n",
      " \n",
      "task 1\n",
      "p40\n",
      "GroupPtask1\n",
      "p35proof\n",
      "p35\n",
      "Task 2\n",
      "p25\n",
      "p40proof\n",
      "\n"
     ]
    },
    {
     "name": "stdin",
     "output_type": "stream",
     "text": [
      "List the simulation to run:  p35proof\n",
      "Show a picture of the topology? (y/n) y\n"
     ]
    },
    {
     "name": "stdout",
     "output_type": "stream",
     "text": [
      "Generating topology pictures...\n"
     ]
    },
    {
     "data": {
      "text/markdown": [
       "<img src=\"./Figures/GeneratedImages/image p35proof.png\" alt = \"test pic\" style=\"background-color: white;\"> "
      ],
      "text/plain": [
       "<IPython.core.display.Markdown object>"
      ]
     },
     "metadata": {},
     "output_type": "display_data"
    },
    {
     "name": "stdout",
     "output_type": "stream",
     "text": [
      "(-962.3351669688964,-3.126388037344441e-13),\n",
      "(0,0),\n",
      "35\n",
      "Connection Tracing Simualtions for RAN...\n",
      "Starting simulation 1...\n"
     ]
    },
    {
     "name": "stderr",
     "output_type": "stream",
     "text": [
      "Running simulations: 100%|██████████| 1/1 [00:03<00:00,  3.74s/simulation]\n"
     ]
    },
    {
     "name": "stdout",
     "output_type": "stream",
     "text": [
      "Simulation 1 finished!\n",
      "There are 1 results in the database\n",
      "\n",
      "Connection Tracing Simualtions for EPC...\n",
      "Starting simulation 2...\n"
     ]
    },
    {
     "name": "stderr",
     "output_type": "stream",
     "text": [
      "Running simulations: 100%|██████████| 1/1 [00:03<00:00,  3.84s/simulation]"
     ]
    },
    {
     "name": "stdout",
     "output_type": "stream",
     "text": [
      "Simulation 2 finished!\n",
      "There are 1 results in the database\n",
      "\n"
     ]
    },
    {
     "name": "stderr",
     "output_type": "stream",
     "text": [
      "\n"
     ]
    }
   ],
   "source": [
    "#proof\n",
    "%run -i 'Modules/lab3-init.py'"
   ]
  },
  {
   "cell_type": "code",
   "execution_count": 62,
   "id": "958664ff-b6b1-4dcb-82ad-921f38b1445b",
   "metadata": {},
   "outputs": [
    {
     "name": "stdout",
     "output_type": "stream",
     "text": [
      "####################################################\n",
      "RAN Connection Setup Logs [MAC, RRC for eNB and UE]\n",
      "####################################################\n",
      "+0.000000000s -1 LteUeRrc:SwitchToState(): [INFO ] 0x562c98256b10 IMSI 1 RNTI 0 UeRrc IDLE_START --> IDLE_CELL_SEARCH\n",
      "+0.200000000s -1 LteUeRrc:SwitchToState(): [INFO ] 0x562c98256b10 IMSI 1 RNTI 0 UeRrc IDLE_CELL_SEARCH --> IDLE_WAIT_MIB_SIB1\n",
      "+0.220214285s 4 LteUeRrc:SwitchToState(): [INFO ] 0x562c98256b10 IMSI 1 RNTI 0 UeRrc IDLE_WAIT_MIB_SIB1 --> IDLE_WAIT_SIB1\n",
      "+0.265214285s 4 LteUeRrc:SwitchToState(): [INFO ] 0x562c98256b10 IMSI 1 RNTI 0 UeRrc IDLE_WAIT_SIB1 --> IDLE_CAMPED_NORMALLY\n",
      "+0.265214285s 4 LteUeRrc:SwitchToState(): [INFO ] 0x562c98256b10 IMSI 1 RNTI 0 UeRrc IDLE_CAMPED_NORMALLY --> IDLE_WAIT_SIB2\n",
      "+0.336000000s -1 LteUeRrc:SwitchToState(): [INFO ] 0x562c98256b10 IMSI 1 RNTI 0 UeRrc IDLE_WAIT_SIB2 --> IDLE_RANDOM_ACCESS\n",
      "+0.338000000s 5 LteEnbMac:DoSubframeIndication(): [INFO ] 0x562c98286d00 preambleId 51: 1 received\n",
      "+0.338000000s 5 LteEnbRrc:GetNewSrsConfigurationIndex(): [DEBUG] 0x562c982876c0 SRS p 40 set 0\n",
      "+0.338000000s 5 LteEnbRrc:AddUe(): [DEBUG] 0x562c982876c0 New UE RNTI 1 cellId 1 srs CI 37\n",
      "+0.338000000s 5 LteEnbMac:DoSubframeIndication(): [INFO ] preambleId 51: allocated T-C-RNTI 1, sending RAR\n",
      "+0.338000000s 5 LteEnbMac:DoSchedDlConfigInd(): [INFO ] 0x562c98286d00 Send RAR message to RNTI 1 rapId 51\n",
      "+0.340214285s 4 LteUeRrc:SwitchToState(): [INFO ] 0x562c98256b10 IMSI 1 RNTI 1 UeRrc IDLE_RANDOM_ACCESS --> IDLE_CONNECTING\n",
      "+0.340214285s 4 LteRrcProtocolIdeal:SetEnbRrcSapProvider(): [DEBUG] RNTI 1 connected to cell 1\n",
      "+0.340214285s 4 LteUeRrc:SwitchToState(): [INFO ] 0x562c98256b10 IMSI 1 RNTI 1 UeRrc IDLE_CONNECTING --> CONNECTED_NORMALLY\n",
      "+0.340214785s 2 LteEnbRrc:SetupDataRadioBearer(): [DEBUG] 0x562c981d29d0 RNTI 1Lcid 3 lcGroup 2 ComponentCarrierId 0\n",
      "+0.340214785s 2 LteUeRrc:DoRecvRrcConnectionReconfiguration(): [INFO ] DoRecvRrcConnectionReconfiguration haveNonCriticalExtension:0\n",
      "+0.340214785s 2 LteUeRrc:DoRecvRrcConnectionReconfiguration(): [INFO ] haveMobilityControlInfo == false\n",
      "+0.340214785s 2 LteUeRrc:ApplyRadioResourceConfigDedicated(): [INFO ] request to modify SRB1 (skipping as currently not implemented)\n",
      "+0.340214785s 2 LteUeRrc:ApplyRadioResourceConfigDedicated(): [INFO ] 0x562c98256b10 IMSI 1 adding/modifying DRBID 1 LC 3\n",
      "+0.340214785s 2 LteUeRrc:ApplyRadioResourceConfigDedicated(): [INFO ] New Data Radio Bearer\n",
      "+0.340214785s 2 LteRrcProtocolIdeal:SetEnbRrcSapProvider(): [DEBUG] RNTI 1 connected to cell 1\n",
      "+0.540214285s 4 LteUeRrc:DoNotifyOutOfSync(): [INFO ] 0x562c98256b10 Total Number of Sync indications from PHY 1N310 value : 6\n",
      "+0.740214285s 4 LteUeRrc:DoNotifyOutOfSync(): [INFO ] 0x562c98256b10 Total Number of Sync indications from PHY 2N310 value : 6\n",
      "+0.940214285s 4 LteUeRrc:DoNotifyOutOfSync(): [INFO ] 0x562c98256b10 Total Number of Sync indications from PHY 3N310 value : 6\n",
      "+1.140214285s 4 LteUeRrc:DoNotifyOutOfSync(): [INFO ] 0x562c98256b10 Total Number of Sync indications from PHY 4N310 value : 6\n",
      "+1.340214285s 4 LteUeRrc:DoNotifyOutOfSync(): [INFO ] 0x562c98256b10 Total Number of Sync indications from PHY 5N310 value : 6\n",
      "+1.540214285s 4 LteUeRrc:DoNotifyOutOfSync(): [INFO ] 0x562c98256b10 Total Number of Sync indications from PHY 6N310 value : 6\n",
      "+1.540214285s 4 LteUeRrc:DoNotifyOutOfSync(): [INFO ] t310 started\n",
      "+2.540214285s 4 LteUeRrc:SwitchToState(): [INFO ] 0x562c98256b10 IMSI 1 RNTI 1 UeRrc CONNECTED_NORMALLY --> CONNECTED_PHY_PROBLEM\n",
      "+2.540214285s 4 LteRrcProtocolIdeal:DoSendIdealUeContextRemoveRequest(): [DEBUG] RNTI 1 sending UE context remove request to cell id 1\n",
      "+2.540214285s 4 LteRrcProtocolIdeal:SetEnbRrcSapProvider(): [DEBUG] RNTI 1 connected to cell 1\n",
      "+2.540214285s 4 LteUeRrc:SwitchToState(): [INFO ] 0x562c98256b10 IMSI 1 RNTI 1 UeRrc CONNECTED_PHY_PROBLEM --> IDLE_START\n",
      "+2.540214285s 4 LteUeRrc:SwitchToState(): [INFO ] Starting initial cell selection after RLF\n",
      "+2.540214285s 4 LteUeRrc:SwitchToState(): [INFO ] 0x562c98256b10 IMSI 1 RNTI 1 UeRrc IDLE_START --> IDLE_CELL_SEARCH\n",
      "+2.540214285s 4 LteEnbRrc:RecvIdealUeContextRemoveRequest(): [DEBUG] Sending release of bearer id : 1LCID : 3\n",
      "+2.600000000s -1 LteUeRrc:SwitchToState(): [INFO ] 0x562c98256b10 IMSI 1 RNTI 0 UeRrc IDLE_CELL_SEARCH --> IDLE_WAIT_MIB_SIB1\n",
      "+2.620214285s 4 LteUeRrc:SwitchToState(): [INFO ] 0x562c98256b10 IMSI 1 RNTI 0 UeRrc IDLE_WAIT_MIB_SIB1 --> IDLE_WAIT_SIB1\n",
      "+2.625214285s 4 LteUeRrc:SwitchToState(): [INFO ] 0x562c98256b10 IMSI 1 RNTI 0 UeRrc IDLE_WAIT_SIB1 --> IDLE_CAMPED_NORMALLY\n",
      "+2.625214285s 4 LteUeRrc:SwitchToState(): [INFO ] 0x562c98256b10 IMSI 1 RNTI 0 UeRrc IDLE_CAMPED_NORMALLY --> IDLE_WAIT_SIB2\n",
      "+2.656000000s -1 LteUeRrc:SwitchToState(): [INFO ] 0x562c98256b10 IMSI 1 RNTI 0 UeRrc IDLE_WAIT_SIB2 --> IDLE_RANDOM_ACCESS\n",
      "+2.658000000s 5 LteEnbMac:DoSubframeIndication(): [INFO ] 0x562c98286d00 preambleId 46: 1 received\n",
      "+2.658000000s 5 LteEnbRrc:GetNewSrsConfigurationIndex(): [DEBUG] 0x562c982876c0 SRS p 40 set 0\n",
      "+2.658000000s 5 LteEnbRrc:AddUe(): [DEBUG] 0x562c982876c0 New UE RNTI 2 cellId 1 srs CI 37\n",
      "+2.658000000s 5 LteEnbMac:DoSubframeIndication(): [INFO ] preambleId 46: allocated T-C-RNTI 2, sending RAR\n",
      "+2.658000000s 5 LteEnbMac:DoSchedDlConfigInd(): [INFO ] 0x562c98286d00 Send RAR message to RNTI 2 rapId 46\n",
      "+2.660214285s 4 LteUeRrc:SwitchToState(): [INFO ] 0x562c98256b10 IMSI 1 RNTI 2 UeRrc IDLE_RANDOM_ACCESS --> IDLE_CONNECTING\n",
      "+2.660214285s 4 LteRrcProtocolIdeal:SetEnbRrcSapProvider(): [DEBUG] RNTI 2 connected to cell 1\n",
      "+2.660214285s 4 LteUeRrc:SwitchToState(): [INFO ] 0x562c98256b10 IMSI 1 RNTI 2 UeRrc IDLE_CONNECTING --> CONNECTED_NORMALLY\n",
      "+2.660214785s 2 LteEnbRrc:SetupDataRadioBearer(): [DEBUG] 0x562c981d29d0 RNTI 2Lcid 3 lcGroup 2 ComponentCarrierId 0\n",
      "+2.660214785s 2 LteUeRrc:DoRecvRrcConnectionReconfiguration(): [INFO ] DoRecvRrcConnectionReconfiguration haveNonCriticalExtension:0\n",
      "+2.660214785s 2 LteUeRrc:DoRecvRrcConnectionReconfiguration(): [INFO ] haveMobilityControlInfo == false\n",
      "+2.660214785s 2 LteUeRrc:ApplyRadioResourceConfigDedicated(): [INFO ] request to modify SRB1 (skipping as currently not implemented)\n",
      "+2.660214785s 2 LteUeRrc:ApplyRadioResourceConfigDedicated(): [INFO ] 0x562c98256b10 IMSI 1 adding/modifying DRBID 1 LC 3\n",
      "+2.660214785s 2 LteUeRrc:ApplyRadioResourceConfigDedicated(): [INFO ] New Data Radio Bearer\n",
      "+2.660214785s 2 LteRrcProtocolIdeal:SetEnbRrcSapProvider(): [DEBUG] RNTI 2 connected to cell 1\n",
      "+2.860214285s 4 LteUeRrc:DoNotifyOutOfSync(): [INFO ] 0x562c98256b10 Total Number of Sync indications from PHY 1N310 value : 6\n",
      "\n",
      "\n",
      "####################################################\n",
      "EPC Connection Setup Logs [SGW, PGW, MME]\n",
      "####################################################\n",
      "+0.000000000s -1 PointToPointEpcHelper:AddEnb(): [LOGIC] Ipv4 ifaces of the eNB after installing p2p dev: 1\n",
      "+0.000000000s -1 PointToPointEpcHelper:AddEnb(): [LOGIC] number of Ipv4 ifaces of the eNB after assigning Ipv4 addr to S1 dev: 2\n",
      "+0.340214549s 0 EpcPgwApplication:DoRecvCreateSessionRequest(): [DEBUG] cellId 1 IMSI 1\n",
      "+0.340214549s 0 EpcPgwApplication:DoRecvCreateSessionRequest(): [DEBUG] BearerContextsToBeCreated size = 1\n",
      "+0.340214549s 0 EpcPgwApplication:DoRecvCreateSessionRequest(): [DEBUG] bearerId 1 SGW 10.0.0.6 TEID 1\n",
      "+0.340214549s 0 EpcPgwApplication:DoRecvCreateSessionRequest(): [DEBUG] BearerContextsCreated size = 1\n",
      "+0.340214549s 0 EpcPgwApplication:DoRecvCreateSessionRequest(): [DEBUG] Send CreateSessionResponse to SGW 14.0.0.6\n",
      "+2.540214285s 4 EpcEnbApplication:DoUeContextRelease(): [INFO ] TEID: 1 erased\n",
      "+2.540214285s 4 EpcEnbApplication:DoUeContextRelease(): [INFO ] RNTI: 1 erased\n",
      "+2.540214365s 0 EpcPgwApplication:DoRecvDeleteBearerCommand(): [DEBUG] ebid 1\n",
      "+2.540214365s 0 EpcPgwApplication:DoRecvDeleteBearerCommand(): [DEBUG] Send DeleteBearerRequest to SGW 14.0.0.6\n",
      "+2.660214549s 0 EpcPgwApplication:DoRecvCreateSessionRequest(): [DEBUG] cellId 1 IMSI 1\n",
      "+2.660214549s 0 EpcPgwApplication:DoRecvCreateSessionRequest(): [DEBUG] BearerContextsToBeCreated size = 1\n",
      "+2.660214549s 0 EpcPgwApplication:DoRecvCreateSessionRequest(): [DEBUG] bearerId 1 SGW 10.0.0.6 TEID 2\n",
      "+2.660214549s 0 EpcPgwApplication:DoRecvCreateSessionRequest(): [DEBUG] BearerContextsCreated size = 1\n",
      "+2.660214549s 0 EpcPgwApplication:DoRecvCreateSessionRequest(): [DEBUG] Send CreateSessionResponse to SGW 14.0.0.6\n"
     ]
    }
   ],
   "source": [
    "%run -i 'Modules/lab3-dataPre.py'"
   ]
  },
  {
   "cell_type": "markdown",
   "id": "1bb38b11-7868-462f-80fd-3176015090f2",
   "metadata": {},
   "source": [
    "<b> Tx Power = 40dBm </b>"
   ]
  },
  {
   "cell_type": "code",
   "execution_count": 56,
   "id": "57bdcd86-ee86-4671-83ff-57998333b56c",
   "metadata": {},
   "outputs": [
    {
     "name": "stdout",
     "output_type": "stream",
     "text": [
      "List of created simulations: \n",
      " \n",
      "task 1\n",
      "p40\n",
      "GroupPtask1\n",
      "p35\n",
      "Task 2\n",
      "p25\n",
      "\n"
     ]
    },
    {
     "name": "stdin",
     "output_type": "stream",
     "text": [
      "List the simulation to run:  p40\n",
      "Show a picture of the topology? (y/n) y\n"
     ]
    },
    {
     "name": "stdout",
     "output_type": "stream",
     "text": [
      "Generating topology pictures...\n"
     ]
    },
    {
     "data": {
      "text/markdown": [
       "<img src=\"./Figures/GeneratedImages/image p40.png\" alt = \"test pic\" style=\"background-color: white;\"> "
      ],
      "text/plain": [
       "<IPython.core.display.Markdown object>"
      ]
     },
     "metadata": {},
     "output_type": "display_data"
    },
    {
     "name": "stdout",
     "output_type": "stream",
     "text": [
      "(-984.3313993567568,-637.8604158976352),\n",
      "(0,0),\n",
      "40\n",
      "Connection Tracing Simualtions for RAN...\n",
      "Starting simulation 1...\n"
     ]
    },
    {
     "name": "stderr",
     "output_type": "stream",
     "text": [
      "Running simulations: 100%|██████████| 1/1 [00:01<00:00,  1.45s/simulation]\n"
     ]
    },
    {
     "name": "stdout",
     "output_type": "stream",
     "text": [
      "Simulation 1 finished!\n",
      "There are 1 results in the database\n",
      "\n",
      "Connection Tracing Simualtions for EPC...\n",
      "Starting simulation 2...\n"
     ]
    },
    {
     "name": "stderr",
     "output_type": "stream",
     "text": [
      "Running simulations: 100%|██████████| 1/1 [00:01<00:00,  1.44s/simulation]"
     ]
    },
    {
     "name": "stdout",
     "output_type": "stream",
     "text": [
      "Simulation 2 finished!\n",
      "There are 1 results in the database\n",
      "\n"
     ]
    },
    {
     "name": "stderr",
     "output_type": "stream",
     "text": [
      "\n"
     ]
    }
   ],
   "source": [
    "#disconnected\n",
    "%run -i 'Modules/lab3-init.py'"
   ]
  },
  {
   "cell_type": "code",
   "execution_count": 57,
   "id": "cbb4ee88-712b-4b86-a4ff-85f01b6607fc",
   "metadata": {},
   "outputs": [
    {
     "name": "stdout",
     "output_type": "stream",
     "text": [
      "####################################################\n",
      "RAN Connection Setup Logs [MAC, RRC for eNB and UE]\n",
      "####################################################\n",
      "+0.000000000s -1 LteUeRrc:SwitchToState(): [INFO ] 0x558c0ad21b10 IMSI 1 RNTI 0 UeRrc IDLE_START --> IDLE_CELL_SEARCH\n",
      "\n",
      "\n",
      "####################################################\n",
      "EPC Connection Setup Logs [SGW, PGW, MME]\n",
      "####################################################\n",
      "+0.000000000s -1 PointToPointEpcHelper:AddEnb(): [LOGIC] Ipv4 ifaces of the eNB after installing p2p dev: 1\n",
      "+0.000000000s -1 PointToPointEpcHelper:AddEnb(): [LOGIC] number of Ipv4 ifaces of the eNB after assigning Ipv4 addr to S1 dev: 2\n"
     ]
    }
   ],
   "source": [
    "%run -i 'Modules/lab3-dataPre.py'"
   ]
  },
  {
   "cell_type": "code",
   "execution_count": 54,
   "id": "61893a86-479a-4a31-a064-0ec9561525dc",
   "metadata": {},
   "outputs": [
    {
     "name": "stdout",
     "output_type": "stream",
     "text": [
      "List of created simulations: \n",
      " \n",
      "task 1\n",
      "p40\n",
      "GroupPtask1\n",
      "p35\n",
      "Task 2\n",
      "p25\n",
      "\n"
     ]
    },
    {
     "name": "stdin",
     "output_type": "stream",
     "text": [
      "List the simulation to run:  p40\n",
      "Show a picture of the topology? (y/n) y\n"
     ]
    },
    {
     "name": "stdout",
     "output_type": "stream",
     "text": [
      "Generating topology pictures...\n"
     ]
    },
    {
     "data": {
      "text/markdown": [
       "<img src=\"./Figures/GeneratedImages/image p40.png\" alt = \"test pic\" style=\"background-color: white;\"> "
      ],
      "text/plain": [
       "<IPython.core.display.Markdown object>"
      ]
     },
     "metadata": {},
     "output_type": "display_data"
    },
    {
     "name": "stdout",
     "output_type": "stream",
     "text": [
      "(-962.3351669688964,-637.8604158976352),\n",
      "(0,0),\n",
      "40\n",
      "Connection Tracing Simualtions for RAN...\n",
      "Starting simulation 1...\n"
     ]
    },
    {
     "name": "stderr",
     "output_type": "stream",
     "text": [
      "Running simulations: 100%|██████████| 1/1 [00:03<00:00,  3.37s/simulation]\n"
     ]
    },
    {
     "name": "stdout",
     "output_type": "stream",
     "text": [
      "Simulation 1 finished!\n",
      "There are 1 results in the database\n",
      "\n",
      "Connection Tracing Simualtions for EPC...\n",
      "Starting simulation 2...\n"
     ]
    },
    {
     "name": "stderr",
     "output_type": "stream",
     "text": [
      "Running simulations: 100%|██████████| 1/1 [00:03<00:00,  3.79s/simulation]"
     ]
    },
    {
     "name": "stdout",
     "output_type": "stream",
     "text": [
      "Simulation 2 finished!\n",
      "There are 1 results in the database\n",
      "\n"
     ]
    },
    {
     "name": "stderr",
     "output_type": "stream",
     "text": [
      "\n"
     ]
    }
   ],
   "source": [
    "#connected\n",
    "%run -i 'Modules/lab3-init.py'"
   ]
  },
  {
   "cell_type": "code",
   "execution_count": 55,
   "id": "02f312d8-00bd-4e6a-a45e-6dbd7bd22cba",
   "metadata": {},
   "outputs": [
    {
     "name": "stdout",
     "output_type": "stream",
     "text": [
      "####################################################\n",
      "RAN Connection Setup Logs [MAC, RRC for eNB and UE]\n",
      "####################################################\n",
      "+0.000000000s -1 LteUeRrc:SwitchToState(): [INFO ] 0x55a979d00b10 IMSI 1 RNTI 0 UeRrc IDLE_START --> IDLE_CELL_SEARCH\n",
      "+0.200000000s -1 LteUeRrc:SwitchToState(): [INFO ] 0x55a979d00b10 IMSI 1 RNTI 0 UeRrc IDLE_CELL_SEARCH --> IDLE_WAIT_MIB_SIB1\n",
      "+0.220214285s 4 LteUeRrc:SwitchToState(): [INFO ] 0x55a979d00b10 IMSI 1 RNTI 0 UeRrc IDLE_WAIT_MIB_SIB1 --> IDLE_WAIT_SIB1\n",
      "+0.265214285s 4 LteUeRrc:SwitchToState(): [INFO ] 0x55a979d00b10 IMSI 1 RNTI 0 UeRrc IDLE_WAIT_SIB1 --> IDLE_CAMPED_NORMALLY\n",
      "+0.265214285s 4 LteUeRrc:SwitchToState(): [INFO ] 0x55a979d00b10 IMSI 1 RNTI 0 UeRrc IDLE_CAMPED_NORMALLY --> IDLE_WAIT_SIB2\n",
      "+0.336000000s -1 LteUeRrc:SwitchToState(): [INFO ] 0x55a979d00b10 IMSI 1 RNTI 0 UeRrc IDLE_WAIT_SIB2 --> IDLE_RANDOM_ACCESS\n",
      "+0.338000000s 5 LteEnbMac:DoSubframeIndication(): [INFO ] 0x55a979d30d00 preambleId 51: 1 received\n",
      "+0.338000000s 5 LteEnbRrc:GetNewSrsConfigurationIndex(): [DEBUG] 0x55a979d316c0 SRS p 40 set 0\n",
      "+0.338000000s 5 LteEnbRrc:AddUe(): [DEBUG] 0x55a979d316c0 New UE RNTI 1 cellId 1 srs CI 37\n",
      "+0.338000000s 5 LteEnbMac:DoSubframeIndication(): [INFO ] preambleId 51: allocated T-C-RNTI 1, sending RAR\n",
      "+0.338000000s 5 LteEnbMac:DoSchedDlConfigInd(): [INFO ] 0x55a979d30d00 Send RAR message to RNTI 1 rapId 51\n",
      "+0.340214285s 4 LteUeRrc:SwitchToState(): [INFO ] 0x55a979d00b10 IMSI 1 RNTI 1 UeRrc IDLE_RANDOM_ACCESS --> IDLE_CONNECTING\n",
      "+0.340214285s 4 LteRrcProtocolIdeal:SetEnbRrcSapProvider(): [DEBUG] RNTI 1 connected to cell 1\n",
      "+0.340214285s 4 LteUeRrc:SwitchToState(): [INFO ] 0x55a979d00b10 IMSI 1 RNTI 1 UeRrc IDLE_CONNECTING --> CONNECTED_NORMALLY\n",
      "+0.340214785s 2 LteEnbRrc:SetupDataRadioBearer(): [DEBUG] 0x55a979c7c9d0 RNTI 1Lcid 3 lcGroup 2 ComponentCarrierId 0\n",
      "+0.340214785s 2 LteUeRrc:DoRecvRrcConnectionReconfiguration(): [INFO ] DoRecvRrcConnectionReconfiguration haveNonCriticalExtension:0\n",
      "+0.340214785s 2 LteUeRrc:DoRecvRrcConnectionReconfiguration(): [INFO ] haveMobilityControlInfo == false\n",
      "+0.340214785s 2 LteUeRrc:ApplyRadioResourceConfigDedicated(): [INFO ] request to modify SRB1 (skipping as currently not implemented)\n",
      "+0.340214785s 2 LteUeRrc:ApplyRadioResourceConfigDedicated(): [INFO ] 0x55a979d00b10 IMSI 1 adding/modifying DRBID 1 LC 3\n",
      "+0.340214785s 2 LteUeRrc:ApplyRadioResourceConfigDedicated(): [INFO ] New Data Radio Bearer\n",
      "+0.340214785s 2 LteRrcProtocolIdeal:SetEnbRrcSapProvider(): [DEBUG] RNTI 1 connected to cell 1\n",
      "+0.540214285s 4 LteUeRrc:DoNotifyOutOfSync(): [INFO ] 0x55a979d00b10 Total Number of Sync indications from PHY 1N310 value : 6\n",
      "+0.740214285s 4 LteUeRrc:DoNotifyOutOfSync(): [INFO ] 0x55a979d00b10 Total Number of Sync indications from PHY 2N310 value : 6\n",
      "+0.940214285s 4 LteUeRrc:DoNotifyOutOfSync(): [INFO ] 0x55a979d00b10 Total Number of Sync indications from PHY 3N310 value : 6\n",
      "+1.140214285s 4 LteUeRrc:DoNotifyOutOfSync(): [INFO ] 0x55a979d00b10 Total Number of Sync indications from PHY 4N310 value : 6\n",
      "+1.340214285s 4 LteUeRrc:DoNotifyOutOfSync(): [INFO ] 0x55a979d00b10 Total Number of Sync indications from PHY 5N310 value : 6\n",
      "+1.540214285s 4 LteUeRrc:DoNotifyOutOfSync(): [INFO ] 0x55a979d00b10 Total Number of Sync indications from PHY 6N310 value : 6\n",
      "+1.540214285s 4 LteUeRrc:DoNotifyOutOfSync(): [INFO ] t310 started\n",
      "+2.540214285s 4 LteUeRrc:SwitchToState(): [INFO ] 0x55a979d00b10 IMSI 1 RNTI 1 UeRrc CONNECTED_NORMALLY --> CONNECTED_PHY_PROBLEM\n",
      "+2.540214285s 4 LteRrcProtocolIdeal:DoSendIdealUeContextRemoveRequest(): [DEBUG] RNTI 1 sending UE context remove request to cell id 1\n",
      "+2.540214285s 4 LteRrcProtocolIdeal:SetEnbRrcSapProvider(): [DEBUG] RNTI 1 connected to cell 1\n",
      "+2.540214285s 4 LteUeRrc:SwitchToState(): [INFO ] 0x55a979d00b10 IMSI 1 RNTI 1 UeRrc CONNECTED_PHY_PROBLEM --> IDLE_START\n",
      "+2.540214285s 4 LteUeRrc:SwitchToState(): [INFO ] Starting initial cell selection after RLF\n",
      "+2.540214285s 4 LteUeRrc:SwitchToState(): [INFO ] 0x55a979d00b10 IMSI 1 RNTI 1 UeRrc IDLE_START --> IDLE_CELL_SEARCH\n",
      "+2.540214285s 4 LteEnbRrc:RecvIdealUeContextRemoveRequest(): [DEBUG] Sending release of bearer id : 1LCID : 3\n",
      "+2.600000000s -1 LteUeRrc:SwitchToState(): [INFO ] 0x55a979d00b10 IMSI 1 RNTI 0 UeRrc IDLE_CELL_SEARCH --> IDLE_WAIT_MIB_SIB1\n",
      "+2.610214285s 4 LteUeRrc:SwitchToState(): [INFO ] 0x55a979d00b10 IMSI 1 RNTI 0 UeRrc IDLE_WAIT_MIB_SIB1 --> IDLE_WAIT_SIB1\n",
      "+2.625214285s 4 LteUeRrc:SwitchToState(): [INFO ] 0x55a979d00b10 IMSI 1 RNTI 0 UeRrc IDLE_WAIT_SIB1 --> IDLE_CAMPED_NORMALLY\n",
      "+2.625214285s 4 LteUeRrc:SwitchToState(): [INFO ] 0x55a979d00b10 IMSI 1 RNTI 0 UeRrc IDLE_CAMPED_NORMALLY --> IDLE_WAIT_SIB2\n",
      "+2.656000000s -1 LteUeRrc:SwitchToState(): [INFO ] 0x55a979d00b10 IMSI 1 RNTI 0 UeRrc IDLE_WAIT_SIB2 --> IDLE_RANDOM_ACCESS\n",
      "+2.658000000s 5 LteEnbMac:DoSubframeIndication(): [INFO ] 0x55a979d30d00 preambleId 46: 1 received\n",
      "+2.658000000s 5 LteEnbRrc:GetNewSrsConfigurationIndex(): [DEBUG] 0x55a979d316c0 SRS p 40 set 0\n",
      "+2.658000000s 5 LteEnbRrc:AddUe(): [DEBUG] 0x55a979d316c0 New UE RNTI 2 cellId 1 srs CI 37\n",
      "+2.658000000s 5 LteEnbMac:DoSubframeIndication(): [INFO ] preambleId 46: allocated T-C-RNTI 2, sending RAR\n",
      "+2.658000000s 5 LteEnbMac:DoSchedDlConfigInd(): [INFO ] 0x55a979d30d00 Send RAR message to RNTI 2 rapId 46\n",
      "+2.660214285s 4 LteUeRrc:SwitchToState(): [INFO ] 0x55a979d00b10 IMSI 1 RNTI 2 UeRrc IDLE_RANDOM_ACCESS --> IDLE_CONNECTING\n",
      "+2.660214285s 4 LteRrcProtocolIdeal:SetEnbRrcSapProvider(): [DEBUG] RNTI 2 connected to cell 1\n",
      "+2.660214285s 4 LteUeRrc:SwitchToState(): [INFO ] 0x55a979d00b10 IMSI 1 RNTI 2 UeRrc IDLE_CONNECTING --> CONNECTED_NORMALLY\n",
      "+2.660214785s 2 LteEnbRrc:SetupDataRadioBearer(): [DEBUG] 0x55a979c7c9d0 RNTI 2Lcid 3 lcGroup 2 ComponentCarrierId 0\n",
      "+2.660214785s 2 LteUeRrc:DoRecvRrcConnectionReconfiguration(): [INFO ] DoRecvRrcConnectionReconfiguration haveNonCriticalExtension:0\n",
      "+2.660214785s 2 LteUeRrc:DoRecvRrcConnectionReconfiguration(): [INFO ] haveMobilityControlInfo == false\n",
      "+2.660214785s 2 LteUeRrc:ApplyRadioResourceConfigDedicated(): [INFO ] request to modify SRB1 (skipping as currently not implemented)\n",
      "+2.660214785s 2 LteUeRrc:ApplyRadioResourceConfigDedicated(): [INFO ] 0x55a979d00b10 IMSI 1 adding/modifying DRBID 1 LC 3\n",
      "+2.660214785s 2 LteUeRrc:ApplyRadioResourceConfigDedicated(): [INFO ] New Data Radio Bearer\n",
      "+2.660214785s 2 LteRrcProtocolIdeal:SetEnbRrcSapProvider(): [DEBUG] RNTI 2 connected to cell 1\n",
      "+2.860214285s 4 LteUeRrc:DoNotifyOutOfSync(): [INFO ] 0x55a979d00b10 Total Number of Sync indications from PHY 1N310 value : 6\n",
      "\n",
      "\n",
      "####################################################\n",
      "EPC Connection Setup Logs [SGW, PGW, MME]\n",
      "####################################################\n",
      "+0.000000000s -1 PointToPointEpcHelper:AddEnb(): [LOGIC] Ipv4 ifaces of the eNB after installing p2p dev: 1\n",
      "+0.000000000s -1 PointToPointEpcHelper:AddEnb(): [LOGIC] number of Ipv4 ifaces of the eNB after assigning Ipv4 addr to S1 dev: 2\n",
      "+0.340214549s 0 EpcPgwApplication:DoRecvCreateSessionRequest(): [DEBUG] cellId 1 IMSI 1\n",
      "+0.340214549s 0 EpcPgwApplication:DoRecvCreateSessionRequest(): [DEBUG] BearerContextsToBeCreated size = 1\n",
      "+0.340214549s 0 EpcPgwApplication:DoRecvCreateSessionRequest(): [DEBUG] bearerId 1 SGW 10.0.0.6 TEID 1\n",
      "+0.340214549s 0 EpcPgwApplication:DoRecvCreateSessionRequest(): [DEBUG] BearerContextsCreated size = 1\n",
      "+0.340214549s 0 EpcPgwApplication:DoRecvCreateSessionRequest(): [DEBUG] Send CreateSessionResponse to SGW 14.0.0.6\n",
      "+2.540214285s 4 EpcEnbApplication:DoUeContextRelease(): [INFO ] TEID: 1 erased\n",
      "+2.540214285s 4 EpcEnbApplication:DoUeContextRelease(): [INFO ] RNTI: 1 erased\n",
      "+2.540214365s 0 EpcPgwApplication:DoRecvDeleteBearerCommand(): [DEBUG] ebid 1\n",
      "+2.540214365s 0 EpcPgwApplication:DoRecvDeleteBearerCommand(): [DEBUG] Send DeleteBearerRequest to SGW 14.0.0.6\n",
      "+2.660214549s 0 EpcPgwApplication:DoRecvCreateSessionRequest(): [DEBUG] cellId 1 IMSI 1\n",
      "+2.660214549s 0 EpcPgwApplication:DoRecvCreateSessionRequest(): [DEBUG] BearerContextsToBeCreated size = 1\n",
      "+2.660214549s 0 EpcPgwApplication:DoRecvCreateSessionRequest(): [DEBUG] bearerId 1 SGW 10.0.0.6 TEID 2\n",
      "+2.660214549s 0 EpcPgwApplication:DoRecvCreateSessionRequest(): [DEBUG] BearerContextsCreated size = 1\n",
      "+2.660214549s 0 EpcPgwApplication:DoRecvCreateSessionRequest(): [DEBUG] Send CreateSessionResponse to SGW 14.0.0.6\n"
     ]
    }
   ],
   "source": [
    "%run -i 'Modules/lab3-dataPre.py'"
   ]
  },
  {
   "cell_type": "code",
   "execution_count": 59,
   "id": "26053a4e-9b97-4e6b-9366-867ce5660a64",
   "metadata": {},
   "outputs": [
    {
     "name": "stdout",
     "output_type": "stream",
     "text": [
      "List of created simulations: \n",
      " \n",
      "task 1\n",
      "p40\n",
      "GroupPtask1\n",
      "p35\n",
      "Task 2\n",
      "p25\n",
      "p40proof\n",
      "\n"
     ]
    },
    {
     "name": "stdin",
     "output_type": "stream",
     "text": [
      "List the simulation to run:  p40proof\n",
      "Show a picture of the topology? (y/n) y\n"
     ]
    },
    {
     "name": "stdout",
     "output_type": "stream",
     "text": [
      "Generating topology pictures...\n"
     ]
    },
    {
     "data": {
      "text/markdown": [
       "<img src=\"./Figures/GeneratedImages/image p40proof.png\" alt = \"test pic\" style=\"background-color: white;\"> "
      ],
      "text/plain": [
       "<IPython.core.display.Markdown object>"
      ]
     },
     "metadata": {},
     "output_type": "display_data"
    },
    {
     "name": "stdout",
     "output_type": "stream",
     "text": [
      "(-1160.3012584596408,-5.498796688773012),\n",
      "(0,0),\n",
      "40\n",
      "Connection Tracing Simualtions for RAN...\n",
      "Starting simulation 1...\n"
     ]
    },
    {
     "name": "stderr",
     "output_type": "stream",
     "text": [
      "Running simulations: 100%|██████████| 1/1 [00:03<00:00,  3.29s/simulation]\n"
     ]
    },
    {
     "name": "stdout",
     "output_type": "stream",
     "text": [
      "Simulation 1 finished!\n",
      "There are 1 results in the database\n",
      "\n",
      "Connection Tracing Simualtions for EPC...\n",
      "Starting simulation 2...\n"
     ]
    },
    {
     "name": "stderr",
     "output_type": "stream",
     "text": [
      "Running simulations: 100%|██████████| 1/1 [00:03<00:00,  3.69s/simulation]"
     ]
    },
    {
     "name": "stdout",
     "output_type": "stream",
     "text": [
      "Simulation 2 finished!\n",
      "There are 1 results in the database\n",
      "\n"
     ]
    },
    {
     "name": "stderr",
     "output_type": "stream",
     "text": [
      "\n"
     ]
    }
   ],
   "source": [
    "#proof\n",
    "%run -i 'Modules/lab3-init.py'"
   ]
  },
  {
   "cell_type": "code",
   "execution_count": 60,
   "id": "2698e206-e20c-4d31-b346-bc0c47c4da8b",
   "metadata": {},
   "outputs": [
    {
     "name": "stdout",
     "output_type": "stream",
     "text": [
      "####################################################\n",
      "RAN Connection Setup Logs [MAC, RRC for eNB and UE]\n",
      "####################################################\n",
      "+0.000000000s -1 LteUeRrc:SwitchToState(): [INFO ] 0x55e2f44b4b10 IMSI 1 RNTI 0 UeRrc IDLE_START --> IDLE_CELL_SEARCH\n",
      "+0.200000000s -1 LteUeRrc:SwitchToState(): [INFO ] 0x55e2f44b4b10 IMSI 1 RNTI 0 UeRrc IDLE_CELL_SEARCH --> IDLE_WAIT_MIB_SIB1\n",
      "+0.220214285s 4 LteUeRrc:SwitchToState(): [INFO ] 0x55e2f44b4b10 IMSI 1 RNTI 0 UeRrc IDLE_WAIT_MIB_SIB1 --> IDLE_WAIT_SIB1\n",
      "+0.265214285s 4 LteUeRrc:SwitchToState(): [INFO ] 0x55e2f44b4b10 IMSI 1 RNTI 0 UeRrc IDLE_WAIT_SIB1 --> IDLE_CAMPED_NORMALLY\n",
      "+0.265214285s 4 LteUeRrc:SwitchToState(): [INFO ] 0x55e2f44b4b10 IMSI 1 RNTI 0 UeRrc IDLE_CAMPED_NORMALLY --> IDLE_WAIT_SIB2\n",
      "+0.336000000s -1 LteUeRrc:SwitchToState(): [INFO ] 0x55e2f44b4b10 IMSI 1 RNTI 0 UeRrc IDLE_WAIT_SIB2 --> IDLE_RANDOM_ACCESS\n",
      "+0.338000000s 5 LteEnbMac:DoSubframeIndication(): [INFO ] 0x55e2f44e4d00 preambleId 51: 1 received\n",
      "+0.338000000s 5 LteEnbRrc:GetNewSrsConfigurationIndex(): [DEBUG] 0x55e2f44e56c0 SRS p 40 set 0\n",
      "+0.338000000s 5 LteEnbRrc:AddUe(): [DEBUG] 0x55e2f44e56c0 New UE RNTI 1 cellId 1 srs CI 37\n",
      "+0.338000000s 5 LteEnbMac:DoSubframeIndication(): [INFO ] preambleId 51: allocated T-C-RNTI 1, sending RAR\n",
      "+0.338000000s 5 LteEnbMac:DoSchedDlConfigInd(): [INFO ] 0x55e2f44e4d00 Send RAR message to RNTI 1 rapId 51\n",
      "+0.340214285s 4 LteUeRrc:SwitchToState(): [INFO ] 0x55e2f44b4b10 IMSI 1 RNTI 1 UeRrc IDLE_RANDOM_ACCESS --> IDLE_CONNECTING\n",
      "+0.340214285s 4 LteRrcProtocolIdeal:SetEnbRrcSapProvider(): [DEBUG] RNTI 1 connected to cell 1\n",
      "+0.340214285s 4 LteUeRrc:SwitchToState(): [INFO ] 0x55e2f44b4b10 IMSI 1 RNTI 1 UeRrc IDLE_CONNECTING --> CONNECTED_NORMALLY\n",
      "+0.340214785s 2 LteEnbRrc:SetupDataRadioBearer(): [DEBUG] 0x55e2f44309d0 RNTI 1Lcid 3 lcGroup 2 ComponentCarrierId 0\n",
      "+0.340214785s 2 LteUeRrc:DoRecvRrcConnectionReconfiguration(): [INFO ] DoRecvRrcConnectionReconfiguration haveNonCriticalExtension:0\n",
      "+0.340214785s 2 LteUeRrc:DoRecvRrcConnectionReconfiguration(): [INFO ] haveMobilityControlInfo == false\n",
      "+0.340214785s 2 LteUeRrc:ApplyRadioResourceConfigDedicated(): [INFO ] request to modify SRB1 (skipping as currently not implemented)\n",
      "+0.340214785s 2 LteUeRrc:ApplyRadioResourceConfigDedicated(): [INFO ] 0x55e2f44b4b10 IMSI 1 adding/modifying DRBID 1 LC 3\n",
      "+0.340214785s 2 LteUeRrc:ApplyRadioResourceConfigDedicated(): [INFO ] New Data Radio Bearer\n",
      "+0.340214785s 2 LteRrcProtocolIdeal:SetEnbRrcSapProvider(): [DEBUG] RNTI 1 connected to cell 1\n",
      "+0.540214285s 4 LteUeRrc:DoNotifyOutOfSync(): [INFO ] 0x55e2f44b4b10 Total Number of Sync indications from PHY 1N310 value : 6\n",
      "+0.740214285s 4 LteUeRrc:DoNotifyOutOfSync(): [INFO ] 0x55e2f44b4b10 Total Number of Sync indications from PHY 2N310 value : 6\n",
      "+0.940214285s 4 LteUeRrc:DoNotifyOutOfSync(): [INFO ] 0x55e2f44b4b10 Total Number of Sync indications from PHY 3N310 value : 6\n",
      "+1.140214285s 4 LteUeRrc:DoNotifyOutOfSync(): [INFO ] 0x55e2f44b4b10 Total Number of Sync indications from PHY 4N310 value : 6\n",
      "+1.340214285s 4 LteUeRrc:DoNotifyOutOfSync(): [INFO ] 0x55e2f44b4b10 Total Number of Sync indications from PHY 5N310 value : 6\n",
      "+1.540214285s 4 LteUeRrc:DoNotifyOutOfSync(): [INFO ] 0x55e2f44b4b10 Total Number of Sync indications from PHY 6N310 value : 6\n",
      "+1.540214285s 4 LteUeRrc:DoNotifyOutOfSync(): [INFO ] t310 started\n",
      "+2.540214285s 4 LteUeRrc:SwitchToState(): [INFO ] 0x55e2f44b4b10 IMSI 1 RNTI 1 UeRrc CONNECTED_NORMALLY --> CONNECTED_PHY_PROBLEM\n",
      "+2.540214285s 4 LteRrcProtocolIdeal:DoSendIdealUeContextRemoveRequest(): [DEBUG] RNTI 1 sending UE context remove request to cell id 1\n",
      "+2.540214285s 4 LteRrcProtocolIdeal:SetEnbRrcSapProvider(): [DEBUG] RNTI 1 connected to cell 1\n",
      "+2.540214285s 4 LteUeRrc:SwitchToState(): [INFO ] 0x55e2f44b4b10 IMSI 1 RNTI 1 UeRrc CONNECTED_PHY_PROBLEM --> IDLE_START\n",
      "+2.540214285s 4 LteUeRrc:SwitchToState(): [INFO ] Starting initial cell selection after RLF\n",
      "+2.540214285s 4 LteUeRrc:SwitchToState(): [INFO ] 0x55e2f44b4b10 IMSI 1 RNTI 1 UeRrc IDLE_START --> IDLE_CELL_SEARCH\n",
      "+2.540214285s 4 LteEnbRrc:RecvIdealUeContextRemoveRequest(): [DEBUG] Sending release of bearer id : 1LCID : 3\n",
      "+2.600000000s -1 LteUeRrc:SwitchToState(): [INFO ] 0x55e2f44b4b10 IMSI 1 RNTI 0 UeRrc IDLE_CELL_SEARCH --> IDLE_WAIT_MIB_SIB1\n",
      "+2.610214285s 4 LteUeRrc:SwitchToState(): [INFO ] 0x55e2f44b4b10 IMSI 1 RNTI 0 UeRrc IDLE_WAIT_MIB_SIB1 --> IDLE_WAIT_SIB1\n",
      "+2.625214285s 4 LteUeRrc:SwitchToState(): [INFO ] 0x55e2f44b4b10 IMSI 1 RNTI 0 UeRrc IDLE_WAIT_SIB1 --> IDLE_CAMPED_NORMALLY\n",
      "+2.625214285s 4 LteUeRrc:SwitchToState(): [INFO ] 0x55e2f44b4b10 IMSI 1 RNTI 0 UeRrc IDLE_CAMPED_NORMALLY --> IDLE_WAIT_SIB2\n",
      "+2.656000000s -1 LteUeRrc:SwitchToState(): [INFO ] 0x55e2f44b4b10 IMSI 1 RNTI 0 UeRrc IDLE_WAIT_SIB2 --> IDLE_RANDOM_ACCESS\n",
      "+2.658000000s 5 LteEnbMac:DoSubframeIndication(): [INFO ] 0x55e2f44e4d00 preambleId 46: 1 received\n",
      "+2.658000000s 5 LteEnbRrc:GetNewSrsConfigurationIndex(): [DEBUG] 0x55e2f44e56c0 SRS p 40 set 0\n",
      "+2.658000000s 5 LteEnbRrc:AddUe(): [DEBUG] 0x55e2f44e56c0 New UE RNTI 2 cellId 1 srs CI 37\n",
      "+2.658000000s 5 LteEnbMac:DoSubframeIndication(): [INFO ] preambleId 46: allocated T-C-RNTI 2, sending RAR\n",
      "+2.658000000s 5 LteEnbMac:DoSchedDlConfigInd(): [INFO ] 0x55e2f44e4d00 Send RAR message to RNTI 2 rapId 46\n",
      "+2.660214285s 4 LteUeRrc:SwitchToState(): [INFO ] 0x55e2f44b4b10 IMSI 1 RNTI 2 UeRrc IDLE_RANDOM_ACCESS --> IDLE_CONNECTING\n",
      "+2.660214285s 4 LteRrcProtocolIdeal:SetEnbRrcSapProvider(): [DEBUG] RNTI 2 connected to cell 1\n",
      "+2.660214285s 4 LteUeRrc:SwitchToState(): [INFO ] 0x55e2f44b4b10 IMSI 1 RNTI 2 UeRrc IDLE_CONNECTING --> CONNECTED_NORMALLY\n",
      "+2.660214785s 2 LteEnbRrc:SetupDataRadioBearer(): [DEBUG] 0x55e2f44309d0 RNTI 2Lcid 3 lcGroup 2 ComponentCarrierId 0\n",
      "+2.660214785s 2 LteUeRrc:DoRecvRrcConnectionReconfiguration(): [INFO ] DoRecvRrcConnectionReconfiguration haveNonCriticalExtension:0\n",
      "+2.660214785s 2 LteUeRrc:DoRecvRrcConnectionReconfiguration(): [INFO ] haveMobilityControlInfo == false\n",
      "+2.660214785s 2 LteUeRrc:ApplyRadioResourceConfigDedicated(): [INFO ] request to modify SRB1 (skipping as currently not implemented)\n",
      "+2.660214785s 2 LteUeRrc:ApplyRadioResourceConfigDedicated(): [INFO ] 0x55e2f44b4b10 IMSI 1 adding/modifying DRBID 1 LC 3\n",
      "+2.660214785s 2 LteUeRrc:ApplyRadioResourceConfigDedicated(): [INFO ] New Data Radio Bearer\n",
      "+2.660214785s 2 LteRrcProtocolIdeal:SetEnbRrcSapProvider(): [DEBUG] RNTI 2 connected to cell 1\n",
      "+2.860214285s 4 LteUeRrc:DoNotifyOutOfSync(): [INFO ] 0x55e2f44b4b10 Total Number of Sync indications from PHY 1N310 value : 6\n",
      "\n",
      "\n",
      "####################################################\n",
      "EPC Connection Setup Logs [SGW, PGW, MME]\n",
      "####################################################\n",
      "+0.000000000s -1 PointToPointEpcHelper:AddEnb(): [LOGIC] Ipv4 ifaces of the eNB after installing p2p dev: 1\n",
      "+0.000000000s -1 PointToPointEpcHelper:AddEnb(): [LOGIC] number of Ipv4 ifaces of the eNB after assigning Ipv4 addr to S1 dev: 2\n",
      "+0.340214549s 0 EpcPgwApplication:DoRecvCreateSessionRequest(): [DEBUG] cellId 1 IMSI 1\n",
      "+0.340214549s 0 EpcPgwApplication:DoRecvCreateSessionRequest(): [DEBUG] BearerContextsToBeCreated size = 1\n",
      "+0.340214549s 0 EpcPgwApplication:DoRecvCreateSessionRequest(): [DEBUG] bearerId 1 SGW 10.0.0.6 TEID 1\n",
      "+0.340214549s 0 EpcPgwApplication:DoRecvCreateSessionRequest(): [DEBUG] BearerContextsCreated size = 1\n",
      "+0.340214549s 0 EpcPgwApplication:DoRecvCreateSessionRequest(): [DEBUG] Send CreateSessionResponse to SGW 14.0.0.6\n",
      "+2.540214285s 4 EpcEnbApplication:DoUeContextRelease(): [INFO ] TEID: 1 erased\n",
      "+2.540214285s 4 EpcEnbApplication:DoUeContextRelease(): [INFO ] RNTI: 1 erased\n",
      "+2.540214365s 0 EpcPgwApplication:DoRecvDeleteBearerCommand(): [DEBUG] ebid 1\n",
      "+2.540214365s 0 EpcPgwApplication:DoRecvDeleteBearerCommand(): [DEBUG] Send DeleteBearerRequest to SGW 14.0.0.6\n",
      "+2.660214549s 0 EpcPgwApplication:DoRecvCreateSessionRequest(): [DEBUG] cellId 1 IMSI 1\n",
      "+2.660214549s 0 EpcPgwApplication:DoRecvCreateSessionRequest(): [DEBUG] BearerContextsToBeCreated size = 1\n",
      "+2.660214549s 0 EpcPgwApplication:DoRecvCreateSessionRequest(): [DEBUG] bearerId 1 SGW 10.0.0.6 TEID 2\n",
      "+2.660214549s 0 EpcPgwApplication:DoRecvCreateSessionRequest(): [DEBUG] BearerContextsCreated size = 1\n",
      "+2.660214549s 0 EpcPgwApplication:DoRecvCreateSessionRequest(): [DEBUG] Send CreateSessionResponse to SGW 14.0.0.6\n"
     ]
    }
   ],
   "source": [
    "%run -i 'Modules/lab3-dataPre.py'"
   ]
  },
  {
   "cell_type": "markdown",
   "id": "f7cad146-858c-4d01-90c6-141e926bcf10",
   "metadata": {
    "tags": []
   },
   "source": [
    "### <u>Exercises</u>"
   ]
  },
  {
   "cell_type": "markdown",
   "id": "81f881ce-6d63-4a5e-ab4a-e649ad1636de",
   "metadata": {
    "tags": []
   },
   "source": [
    "#### Q4.1.1: What is the boundary of the cell for the following values of eNB txpower? If the mentioned condition for finding the boundary fails, specify for which value it happens?\n",
    "- 25dBm\n",
    "- 35dBm\n",
    "- 40dBm\n",
    "\n",
    "> <b>Hint</b>: Find the placement of the UE and eNB from the React app and calculate the distance between them to find the approximated cell coverage boundary. For a UE placed at (100, 100) and eNB at (0,0), distance can be calculated as follows:\n",
    "\n",
    "$$\\sqrt{(100-0)^2 + (100-0)^2} = 141.42$$\n",
    "\n",
    "> <b>Note</b>: The positions of UE and eNB are selected from the designed topology when the connection is lost for the first time with the UE.\n",
    "\n",
    "> <b>Note:</b> After designing the topology for the given values, change the position of the user in small steps. For example if UE was at (100, 100) with connection, change it to (101, 101) to see the impact."
   ]
  },
  {
   "cell_type": "markdown",
   "id": "9719b80f-0c8e-4e09-9934-1157d6eb3fd4",
   "metadata": {},
   "source": [
    "<b> Answer:</b>"
   ]
  },
  {
   "cell_type": "markdown",
   "id": "4025ea94-3878-47a5-bb44-7594d26fa60e",
   "metadata": {},
   "source": [
    "The boundary of the cell for the following vallues are:\n",
    "- 25dBm: 126. Here the boundary test failed.\n",
    "- 35dBm: 176\n",
    "- 40dBm: 211"
   ]
  },
  {
   "cell_type": "markdown",
   "id": "e7515216-c296-40ba-86be-4662f0270606",
   "metadata": {
    "tags": []
   },
   "source": [
    "#### Q4.1.2: Why are there different values for txpower for eNBs and UEs in the LTE standard?"
   ]
  },
  {
   "cell_type": "markdown",
   "id": "d7221bfa-9a1c-4afc-8c82-31322e58b584",
   "metadata": {},
   "source": [
    "<b> Answer:</b>"
   ]
  },
  {
   "cell_type": "markdown",
   "id": "370fe1e4-95a0-4e4c-9fb9-dfe50361d7be",
   "metadata": {},
   "source": [
    "The UE and eNB serve different roles in the network, the eNB should ensure that UEs in its range has a connection to it, so it should have a higher txpower value than the UE to provide coverage for a large area for multiple UEs, which is important to ensure good coverage at the edge of the coverage cell/area. \n",
    "The UE has to conserve power because it uses a battery with limited power. \n",
    "Lastly, different txpower values for the UE and eNB ensures good performance in the network and prevents interference between neighboring cells. An example of this is that two UEs close to each other with high txpower will result in interference and affect the performance of the whole network. \n",
    "In the LTE standard, we found that the UE has a max txpower of 23 dBm and the eNB has a max txpower of 46 dBm."
   ]
  },
  {
   "cell_type": "markdown",
   "id": "f9ed58b1-2adb-4acb-af39-5078dad745f4",
   "metadata": {
    "tags": []
   },
   "source": [
    "#### Q4.1.3: What are the main benefits of power control mechanism in LTE?"
   ]
  },
  {
   "cell_type": "markdown",
   "id": "24ad927b-c847-4b9f-bef7-4773050b8254",
   "metadata": {},
   "source": [
    "<b> Answer:</b>"
   ]
  },
  {
   "cell_type": "raw",
   "id": "d6c414b7-9c4c-4843-a701-9d6cfcd90da2",
   "metadata": {},
   "source": [
    "Main benefits of the power control mechanism in LTE is that the network resources are utilized better, which gives better capacity in the network. \n",
    "An example is that the power control mechanism regulates the power output of the UE, ensuring that it gets the best possible battery life.\n",
    "Likewise, power control also results in improved network capacity, reduced interference and improved network coverage among others by controlling the transmit power for the UEs and eNBs."
   ]
  },
  {
   "cell_type": "markdown",
   "id": "11ddbb52-36a1-4e7f-a47b-5e83f718060b",
   "metadata": {},
   "source": [
    "---\n",
    "---\n",
    "### <span style=\"color:blue\"> Milestone 3 </span>\n",
    "\n",
    "At the end, **call a TA** to make sure everything went as expected.\n",
    "\n",
    "---\n",
    "---"
   ]
  },
  {
   "cell_type": "markdown",
   "id": "ea60f493-782c-4f36-b4b0-8d745ed87754",
   "metadata": {},
   "source": [
    "# References\n",
    "\n",
    "[1] \"From GSM to LTE-Advanced Pro and 5G, An introduction to Mobile Networks and Mobile Broadband\", Martin Sauter, 4th Edition, 2021\n",
    "\n",
    "[2] \" LTE Protocol Stacks\", LTE Tutorials. Online: https://www.artizanetworks.com/resources/tutorials/pro_sta.html (Accessed: 11-01-2023)\n",
    "\n",
    "[3] \"LTE Quick Guide\", LTE Tutorials Point. Online : https://www.tutorialspoint.com/lte/lte_quick_guide.htm (Accessed : 11-01-2023)\n",
    "\n",
    "[4] \"LTE Design Documentation\", ns-3: LTE Module. Online: https://www.nsnam.org/docs/models/html/lte-design.html (Accessed : 11-01-2023)"
   ]
  },
  {
   "cell_type": "markdown",
   "id": "b1a22491-c42a-40c0-b6f1-23c6cba73586",
   "metadata": {},
   "source": [
    "------------------------------------------------------------------------------------------------------------------------------------------------------------------------------------------------------------------------------\n",
    "------------------------------------------------------------------------------------------------------------------------------------------------------------------------------------------------------------------------------"
   ]
  }
 ],
 "metadata": {
  "kernelspec": {
   "display_name": "Python 3 (ipykernel)",
   "language": "python",
   "name": "python3"
  },
  "language_info": {
   "codemirror_mode": {
    "name": "ipython",
    "version": 3
   },
   "file_extension": ".py",
   "mimetype": "text/x-python",
   "name": "python",
   "nbconvert_exporter": "python",
   "pygments_lexer": "ipython3",
   "version": "3.10.6"
  }
 },
 "nbformat": 4,
 "nbformat_minor": 5
}
