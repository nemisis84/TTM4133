{
 "cells": [
  {
   "cell_type": "markdown",
   "metadata": {
    "jp-MarkdownHeadingCollapsed": true,
    "tags": []
   },
   "source": [
    "**<span style=\"color:blue\"> Version: 2 </span>**\n",
    "\n",
    "# Lab 2. Exploring Attach and Default Bearer Activation\n",
    "***\n",
    "# 1. Introduction\n",
    "***\n",
    "In this lab we will look into the bearer activation when the User Equipment (UE) connects to LTE. An attach procedure occurs whenever a UE is turned on and connects to LTE. The following procedure shows how the Default EPS Bearer (the tunnel between UE and PDN-GW) is configured. At a higher level, the successful attachment to the network infrastructure corresponds to a UE getting an IP address, which allows the mobile device to utilize the services offered by the network.\n",
    "\n",
    "## 1.1 Learning Objectives\n",
    "This lab focuses towards the following learning goals:\n",
    "\n",
    "- Observing the protocols and packet communication in an Attach procedure.\n",
    "- Understanding the separation of control and user plane communications.\n",
    "- Comparing the observed attach procedure with theoretical concepts.\n",
    "\n",
    "\n",
    "\n",
    "## 1.2 LTE Network\n",
    "A model LTE architecture is provided in [Figure 1](#lte_arc) with the entities and the interfaces that are involved. \n",
    "<a id='lte_arc'></a>\n",
    "<center>\n",
    "    <figure>\n",
    "        <img src= \"Figures/LTE_net.png\" alt=\"first\" class=\"bg-primary mb-1\" >\n",
    "    </figure>\n",
    "    <figcaption><b>Figure 1. Model LTE Network.</b> From <a href=\"#References\">[1]</a></figcaption>\n",
    "</center>\n",
    "\n",
    "\n",
    "## 1.3 LTE Protocol Stack\n",
    "The LTE protocol stack can be segregated into User and Control Plane as shown in [Figures 2](#lte_up) and [3](#lte_cp) respectively. We will observe these protocols in packet level inspection performed in Section 3 of this lab. As a first analysis, try comparing the different entities and interfaces that are present in [Figure 1](#lte_arc) and [2](#lte_up)/[3](#lte_cp) (e.g. try to relate the protocol used to a certain interface). In order to better understand the content of the pcap file, refer to these pictures.\n",
    "\n",
    "### 1.3.1 User Plane\n",
    "<a id='lte_up'></a>\n",
    "<center>\n",
    "    <figure>\n",
    "        <img src= \"Figures/UserPlane.PNG\" alt=\"first\" class=\"bg-primary mb-1\" >\n",
    "    </figure>\n",
    "    <figcaption><b>Figure 2. User Plane Protocol Stack in LTE.</b> From <a href=\"#References\">[2].</a></figcaption>\n",
    "</center>\n",
    "\n",
    "### 1.3.2 Control Plane\n",
    "<a id='lte_cp'></a>\n",
    "<center>\n",
    "    <figure>\n",
    "        <img src= \"Figures/ControlPlane.PNG\" alt=\"first\" class=\"bg-primary mb-1\" >\n",
    "    </figure>\n",
    "    <figcaption><b>Figure 3. Control Plane Protocol Stack in LTE.</b> From <a href=\"#References\">[2].</a></figcaption>\n",
    "</center>\n",
    "<br>\n",
    "\n",
    "We will start with an introduction to `Wireshark` in order to carry out the capture analysis."
   ]
  },
  {
   "cell_type": "markdown",
   "metadata": {
    "tags": []
   },
   "source": [
    "***\n",
    "# 2. Wireshark tutorial and practical example.\n",
    "***"
   ]
  },
  {
   "cell_type": "markdown",
   "metadata": {},
   "source": [
    "A `pcap` file is a collection of captured packets in a network, having information about each individual packet which is sent over a given interface. \n",
    "This includes all the information in both header and payload.\n",
    "\n",
    "`Wireshark` is a network-protocol analyzing tool which we are going to use in this lab activity to analyze `pcap` files.\n",
    "You can download `Wireshark` at https://www.wireshark.org/download.html but **it should already be available** on the lab computers.\n",
    "\n",
    "Moreover, documentation can be found at <a href=\"#References\">[3]</a> that will serve as a reference, if needed.\n",
    "\n",
    "## 2.1 Getting Started with `Wireshark`\n",
    "\n",
    "In this first task of this lab you are going to analyze the `first_attach.pcap` file, as an introduction to `Wireshark` and the LTE attach procedure.\n",
    "\n",
    "> Note: you can download the `pcap` file from this notebook, on the left pane just navigate to the correct folder, right-click and download.\n",
    "> Alternatively, you can download it from the _github_ repository.\n",
    "\n",
    "When you first open this file in `Wireshark` you will see something like this:\n",
    "\n",
    "<img src= \"Figures/Wireshark_first_time.png\" alt=\"first\" class=\"bg-primary mb-1\" width=\"700px\">\n",
    "\n",
    "Here you have an overview of all the packets, and you can scroll through each individual packet \n",
    "and find layer information, flag values, protocols used and source/destination.\n",
    "\n",
    "Since the file contains all the packets transmitted on the interfaces involved in the LTE attach procedure, there may be packets in the capture file which are not involved in the LTE attach procedure and thus are not relevant to us.\n",
    "\n",
    "We can control which packets are shown by applying filters which can filter out certain protocols.\n",
    "For example, during the LTE attach procedure the relevant protocols are `S1-AP` representing the S1 Control Plane and `GTPv2`, for the GPRS tunneling protocol, so you can use the filter `s1ap` or `gtpv2` (**try it now**).\n",
    "\n",
    "> Some filter tips:\n",
    "> * to apply several filters the `and` operator can be used\n",
    "> * the `or` operator is available\n",
    "> * to remove certain protocols the `!` operator is useful. \n"
   ]
  },
  {
   "cell_type": "markdown",
   "metadata": {},
   "source": [
    "## 2.2 Using the Flow Graph\n",
    "\n",
    "`Wireshark` includes a useful functionality named \"Flow Graph\" that illustrates the packet flow between communicating nodes. By clicking the \"Statistics\" drop-down, navigate to the \"Flow Graph\" option and choose it.\n",
    "\n",
    "<img src= \"Figures/flow_graph_1.png\" alt=\"first\" class=\"bg-primary mb-1\" width=\"700px\">\n",
    "\n",
    "This will open the Flow Graph as seen below.\n",
    "\n",
    "> Remember to choose the \"Limit to Display Filter\" option in the bottom left corner. \n",
    "\n",
    "<img src= \"Figures/flow_graph_2.png\" alt=\"first\" class=\"bg-primary mb-1\" width=\"700px\">\n",
    "\n",
    "In the next step, you will relate the obtained Flow Graph to the sequence diagram for the LTE attach procedure."
   ]
  },
  {
   "cell_type": "markdown",
   "metadata": {},
   "source": [
    "*** \n",
    "# 3. The Attach procedure\n",
    "***\n",
    "The attach procedure depicted in [Figure 4](#ATTACHprocedure) consists of 7 steps:\n",
    "1) Random Access Procedure\n",
    "2) Initial Connection Establishment\n",
    "3) Authentication, Integrity and Ciphering\n",
    "4) Update Location and UE Capability Procedure\n",
    "5) Session Creation\n",
    "6) Initial Context Setup\n",
    "7) Attachment Completion\n",
    "\n",
    "<a id='ATTACHprocedure'></a>\n",
    "<center>\n",
    "    <figure>\n",
    "        <img src= \"Figures/ATTACH_procedure.png\" alt=\"first\" class=\"bg-primary mb-1\" width=\"1200px\">\n",
    "        <center><figcaption><b>Figure 4. Attach and default bearer activation.</b> From <a href=\"#References\">[1]</a></figcaption></center>\n",
    "    </figure>\n",
    "</center>\n",
    "\n",
    "<!-- To create a link to an image: [Sentence for the link](#id_of_pic) -->\n",
    "\n",
    "\n",
    "> **NOTE:** `first_attach.pcap` doesn't provide the air interface capture. This means that the traffic between the eNodeB and the UE is not present inside the pcap file.\n",
    "\n",
    "\n",
    "Different steps constituting the attach procedure will be explored sequentially along with an analysis of the associated packets exchanges in the packet capture file in the following subsections."
   ]
  },
  {
   "cell_type": "markdown",
   "metadata": {},
   "source": [
    "git clone https://github.com/kashifme224/ttm4133-spring23git clone https://github.com/kashifme224/ttm4133-spring23## 3.1 Random Access Procedure\n",
    "\n",
    "\n",
    "This is the first part that is performed, in order to allow the subscriber to access the network. The air interface is considered, i.e. the interface between eNodeB and UE. Once this procedure has been performed, the UE is known to the eNodeB and has been assigned a Cell Radio Network Temporary Identity (C-RNTI), and of course the radio resources to transmit data.\n",
    "\n",
    "\n",
    "<a id='RandomAccessProcedure'></a>\n",
    "<center>\n",
    "    <figure>\n",
    "        <img src= \"Figures/RandomAccessProcedure.PNG\" alt=\"first\" class=\"bg-primary mb-1\" width=\"250px\">\n",
    "        <figcaption><b>Figure 5. Random Access procedure.</b> From <a href=\"#References\">[1]</a></figcaption>\n",
    "    </figure>\n",
    "</center>\n",
    "\n",
    "- <u>Random Access Preamble</u>: UE requests to access the network. PRACH (Physical Random Access Channel) is responsible for this initial phase;\n",
    "- <u>Random Access Response</u>: eNodeB replies with information like Timing Advance Value, Uplink Grant Resource (eNodeB assigns initial resources to UE to use the PUSCH, Physical Uplink Shared Channel) and the Temporary Identifier for the UE (valid just within the cell). The PUSCH is used to transmit uplink user data from the UE to the eNodeB. The channel is shared by all the UEs, so that techniques (e.g. time multiplexing) are used to increase the reliability;\n",
    "- <u>RRC Connection Setup Request</u>: UE sends to eNodeB the received SAE (Service Architecture Evolution) Temporary Mobile Subscriber Identity (S-TMSI) and the reason why UE wants to connect to the network (Connection establishment cause). PUSCH is considered;\n",
    "- <u>RRC Connection Setup</u>: acknowledgment by eNodeB that the previous message was successfully received. The message also contains configuration parameters like Uplink Power Control, the maximum number of Hybrid ARQ transmissions, etc."
   ]
  },
  {
   "cell_type": "markdown",
   "metadata": {},
   "source": [
    "## 3.2 Initial Connection Establishment\n",
    "\n",
    "After the random access procedure is completed, the attaching setup will be performed."
   ]
  },
  {
   "cell_type": "markdown",
   "metadata": {
    "tags": []
   },
   "source": [
    "git clone https://github.com/kashifme224/ttm4133-spring23git clone https://github.com/kashifme224/ttm4133-spring23---\n",
    "### 3.2.1 Step 1\n",
    "---\n",
    "The UE starts the attachment procedure using the NAS layer, the layer between the UE and the MME.\n",
    "\n",
    "<a id='AttachProcedure'></a>\n",
    "<center>\n",
    "    <figure>\n",
    "        <img src= \"Figures/AttachProcedure.PNG\" alt=\"first\" class=\"bg-primary mb-1\" width=\"400px\">\n",
    "        <figcaption><b>Figure 6. Attach request.</b></figcaption>\n",
    "    </figure>\n",
    "</center>\n",
    "\n",
    "- <u>RRC Connection Setup Complete + NAS Attach Request</u>: air interface is involved. The UE informs the eNodeB that the RRC connection is established, sending to the base station information like the old GUTI (Globally Unique Temporary Identity), i.e. the assigned GUTI to the UE that is expiried (instead of the GUTI, it's possible to find the IMSI, i.e. International Mobile Subscriber Identity) and which MME it was previously connected (optional field, in case no previous connection was established, the field is not present). Here, we are considering a first attach request for a new UE so no optional information regarding previous MME is required. \n",
    "- <u>Attach Request</u>: S1 interface is involved (S1AP protocol). After the eNodeB selects the new MME, it forwards the UE attach request to that one. Further, it includes the PDN Connectivity Request message (to establish the EPS channel between UE and PDN-GW) and the Tracking Area Identify (TAI)."
   ]
  },
  {
   "cell_type": "markdown",
   "metadata": {
    "tags": []
   },
   "source": [
    "-------\n",
    "### **Interactive session:**\n",
    "-------"
   ]
  },
  {
   "cell_type": "markdown",
   "metadata": {
    "tags": []
   },
   "source": [
    "Open the `first_attach.pcap` file if you haven't already. You can see something like this:\n",
    "\n",
    "<center><img src= \"Figures/PCAPAttachProcedure.PNG\" alt=\"first\" class=\"bg-primary mb-1\" width=\"400px\"></center>"
   ]
  },
  {
   "cell_type": "markdown",
   "metadata": {},
   "source": [
    "#### <u>Question 3.2.1a</u>\n",
    "Write down in *num pkt* the packet number, and in *interface* the name of the involved interface (please refer to [Figure 1](#lte_arc)) where the packet was exchanged."
   ]
  },
  {
   "cell_type": "code",
   "execution_count": 9,
   "metadata": {},
   "outputs": [],
   "source": [
    "S1APAttachRequest = {    \n",
    "    \"num_pkt\" : 7,\n",
    "    \"interface\" : \"S1-CP\"\n",
    "}"
   ]
  },
  {
   "cell_type": "markdown",
   "metadata": {},
   "source": [
    "## 3.3 Authentication, Integrity and Cyphering\n",
    "There's a set of messages that are involved authenticating and protecting a subscriber. This is a very important part of the attaching procedure since it aims to prevent a man-in-the-middle attack. In a nut shell, The Authentication, Integrity, and Cyphering phase in LTE serves several important purposes:\n",
    "\n",
    "- *Authentication*: The authentication process verifies the identity of the user and ensures that the user is authorized to access the network. This is achieved by exchanging authentication messages between the UE and the network. Once the user's identity is authenticated, the network can securely provide services to the user;\n",
    "\n",
    "- *Integrity*: The integrity protection process ensures that the data transmitted between the UE and the network is not modified or altered during transmission;\n",
    "\n",
    "- *Ciphering*: The ciphering process encrypts the data transmitted between the UE and the network, protecting it from eavesdropping and unauthorized access. This is achieved by encrypting the data using a secret key shared between the UE and the network.\n",
    "\n",
    "Hereafter, the messages involved in this phase.\n",
    "\n",
    "<a id='AuthenticationandCipheringProcedure1'></a>\n",
    "<center>\n",
    "    <figure>\n",
    "        <img src= \"Figures/AuthenticationandCipheringProcedure1.PNG\" alt=\"first\" class=\"bg-primary mb-1\" width=\"500px\">\n",
    "        <figcaption><b>Figure 7. Attach request.</b> From <a href=\"#References\">[5]</a></figcaption>\n",
    "    </figure>\n",
    "</center>\n",
    "\n",
    "\n",
    "- <u>Authentication Data Request and Response</u>: S6 interface is involved (**DIAMETER** protocol). MME asks for authentication credentials to the HSS to authenticate and authorize the subscriber (UE), like the Key Access Security Management Entries (KASME);\n",
    "- <u>NAS Authentication Request and Response</u>: air and S1 (**S1AP** protocol) interfaces are involved;\n",
    "- <u>NAS Security Mode Command and Complete</u>: air and S1 (**S1AP** protocol) interfaces are involved.\n",
    "\n",
    "**Conclusion:** at the end of this phase, the user is authorised to access the network. In addition, a privacy security layer is built in to prevent hacking attacks."
   ]
  },
  {
   "cell_type": "markdown",
   "metadata": {
    "tags": []
   },
   "source": [
    "-------\n",
    "### **Interactive session:**\n",
    "-------"
   ]
  },
  {
   "cell_type": "markdown",
   "metadata": {},
   "source": [
    "Return to the `first_attach.pcap` file.\n",
    "\n",
    "<center><img src= \"Figures/PCAPAuthenticationandCipheringProcedure1.PNG\" alt=\"first\" class=\"bg-primary mb-1\" width=\"800px\"></center>"
   ]
  },
  {
   "cell_type": "markdown",
   "metadata": {},
   "source": [
    "#### <u>Question 3.3a</u> \n",
    "In which part of the capture file you can see this sequence? Fill the two variables below with the number of the first packet (*Authentication Data Request*) and the last one (*NAS Security Mode Complete*).\n",
    "\n",
    "> **NB**: careful with the used protocol filters."
   ]
  },
  {
   "cell_type": "code",
   "execution_count": 10,
   "metadata": {},
   "outputs": [],
   "source": [
    "AuthenticationCiphering = {\n",
    "    \"From\": 8,\n",
    "    \"To\": 17,\n",
    "}"
   ]
  },
  {
   "cell_type": "markdown",
   "metadata": {},
   "source": [
    "#### <u>Question 3.3b</u> \n",
    "Compile the following gap with the IP address related to each involved entity.\n",
    "> **NB**: pay attention to the corresponding interface."
   ]
  },
  {
   "cell_type": "code",
   "execution_count": 11,
   "metadata": {},
   "outputs": [],
   "source": [
    "S1Interface = {\n",
    "    \"eNodeB\": \"10.201.150.41\",\n",
    "    \"MME\": \"10.90.10.1\",\n",
    "}\n",
    "S6Interface = {\n",
    "    \"MME\": \"127.0.0.1\",\n",
    "    \"HSS\": \"127.0.0.4\",\n",
    "}"
   ]
  },
  {
   "cell_type": "markdown",
   "metadata": {},
   "source": [
    "#### <u>Question 3.3c</u> \n",
    "As you noticed, the IP of the UE is not present. In the following cell, explain the reason for it."
   ]
  },
  {
   "cell_type": "markdown",
   "metadata": {},
   "source": [
    "<b>Answer:</b>\n",
    "Because the attachment procedure is meant to give the UE its IP address, so since we havent gotten the IP address yet, it is not present."
   ]
  },
  {
   "cell_type": "markdown",
   "metadata": {},
   "source": [
    "#### <u>Question 3.3d</u> \n",
    "Did you notice any authentication issue inside the procedure? If so, report it, provide the packet number/s that is/are involved, the type of message/s and the entities involved (i.e. name of the entities). In addition, report the error message displayed in the message."
   ]
  },
  {
   "cell_type": "markdown",
   "metadata": {},
   "source": [
    "<b>Answer:</b>\n",
    "Packet number: 11, its a message from the MME to the eNodeB. It is an UplinkNASTransport message with the failure: \"Authentication failure (Synch failure)\"."
   ]
  },
  {
   "cell_type": "markdown",
   "metadata": {},
   "source": [
    "## 3.4 Update Location and UE Capability Procedure\n",
    "Now, let's continue with the analysis.\n",
    "\n",
    "<a id='AuthenticationandCipheringProcedure2'></a>\n",
    "<center>\n",
    "    <figure>\n",
    "        <img src= \"Figures/AuthenticationandCipheringProcedure2.PNG\" alt=\"first\" class=\"bg-primary mb-1\" width=\"500px\">\n",
    "        <figcaption><b>Figure 8. Update Location and UE Capability procedures.</b> From <a href=\"#References\">[1]</a></figcaption>\n",
    "    </figure>\n",
    "</center>\n",
    "\n",
    "- <u>UE Capability Enquiry and Info</u>: the air interface is involved. The eNodeB asks the UE the air interface functionalities, and UE replies with all supported radio technologies, such as the available frequency bands, the modulation scheme for each band, MIMO configuration, among others;\n",
    "- <u>Update Location Request and Answer</u>: the S6 interface is involved. After the subscriber is authenticated, the MME confirms it to the HSS, sending the new location of the UE. You can find the IMSI of the UE under the AVP User-Name.</u>"
   ]
  },
  {
   "cell_type": "markdown",
   "metadata": {
    "tags": []
   },
   "source": [
    "-------\n",
    "### **Interactive session:**\n",
    "-------"
   ]
  },
  {
   "cell_type": "markdown",
   "metadata": {},
   "source": [
    "From the `first_attach.pcap` file, you can see something like:\n",
    "\n",
    "<center><img src= \"Figures/PCAPAuthenticationandCipheringProcedure2.PNG\" alt=\"first\" class=\"bg-primary mb-1\" width=\"500px\"></center>"
   ]
  },
  {
   "cell_type": "markdown",
   "metadata": {},
   "source": [
    "#### <u>Question 3.4a</u> \n",
    "Write down the packet numbers. Furthermore, report the IMSI of the UE."
   ]
  },
  {
   "cell_type": "code",
   "execution_count": 12,
   "metadata": {},
   "outputs": [],
   "source": [
    "UpdateLocationReqAns = {\n",
    "    \"UpdateLocationRequest\": 18,\n",
    "    \"UpdateLocationAnswer\": 19,\n",
    "    \"IMSI\": 910540000001000,\n",
    "}"
   ]
  },
  {
   "cell_type": "markdown",
   "metadata": {},
   "source": [
    "#### <u>Question 3.4b</u> \n",
    "The MCC and MNC are the Mobile Country Code and Mobile Network Code respectively, and they are used to identify where the UE (SIM) comes from. Can you identify the MCC and MNC utilized in the capture file? If so, write down the two identifiers. \n",
    "\n",
    "> **Hint:** just write down the numbers you find."
   ]
  },
  {
   "cell_type": "markdown",
   "metadata": {},
   "source": [
    "<b>Answer:</b>\n",
    "MCC: 910\n",
    "MNC: 540"
   ]
  },
  {
   "cell_type": "markdown",
   "metadata": {
    "tags": []
   },
   "source": [
    "## 3.5 Session Creation\n",
    "This phase follows the Update Location Acknowledge message. In this part, the tunnel for the subscriber is created. It should be noted that the MME is responsible for establishing and maintaining the session referring to a UE (which is why signalling starts from the MME).\n",
    "\n",
    "<a id='SessionCreation'></a>\n",
    "<center>\n",
    "    <figure>\n",
    "        <img src= \"Figures/SessionCreation.PNG\" alt=\"first\" class=\"bg-primary mb-1\" width=\"600px\">\n",
    "        <figcaption><b>Figure 9. Session Creation procedure.</b> From <a href=\"#References\">[1]</a></figcaption>\n",
    "    </figure>\n",
    "</center>\n",
    "\n",
    "- <u>Create Session Request and Response</u>: the S11 and S5 interfaces are involved (GTPv2 protocol). The MME initiates the default route establishment by asking the Serving-GW to create a GTP tunnel. Through the S-GW, the Create Session Request is forwarded to the PDN-GW, which replies with the assigned IP for the subscriber (Response). At this point, the tunnel (bearer) between Serving-GW and PDN-GW is established.\n",
    "- <u>UE Capabilities indication</u>: the S1 interface is involved. The eNodeB informs the MME about the UE functionalities by sending an RRC message. In the S1 interface, the RRC message is encapsulated properly in the S1-AP packet."
   ]
  },
  {
   "cell_type": "markdown",
   "metadata": {
    "tags": []
   },
   "source": [
    "-------\n",
    "### **Interactive session:**\n",
    "-------"
   ]
  },
  {
   "cell_type": "markdown",
   "metadata": {},
   "source": [
    "#### <u>Question 3.5a</u> \n",
    "Why is it important to establish a tunnel between the Serving-GW and the PDN-GW? Write down the advantage of this technique and why is needed."
   ]
  },
  {
   "cell_type": "markdown",
   "metadata": {},
   "source": [
    "<b>Answer:</b>\n",
    "The main advantage is smooth handovers. If a user changes eNB, but still uses the same MME and S-GW, only the tunnel over the S1 interface needs to be changed, while the core elements in the network stays the same. \n"
   ]
  },
  {
   "cell_type": "markdown",
   "metadata": {
    "tags": []
   },
   "source": [
    "From the `first_attach.pcap` file, you can see something like as follow:\n",
    "\n",
    "<center><img src= \"Figures/PCAPSessionCreation.PNG\" alt=\"first\" class=\"bg-primary mb-1\" width=\"800px\"></center>"
   ]
  },
  {
   "cell_type": "markdown",
   "metadata": {},
   "source": [
    "#### <u>Question 3.5b</u> \n",
    "Write down the IP of PDN-GW, MME and Serving-GW. Furthermore, provide the IP of the UE assigned by the PDN-GW. In the *Answer* below, provide which packet you considered to find the IP of the UE (name and number of the packet).\n",
    "\n",
    "> **Hint:** in order to find the IPs, remember the interface you consider."
   ]
  },
  {
   "cell_type": "code",
   "execution_count": 13,
   "metadata": {},
   "outputs": [],
   "source": [
    "CreateSessionReqRes = {    \n",
    "    \"PDN-GW\": \"127.0.0.3\",\n",
    "    \"MME\": \"127.0.0.10\",\n",
    "    \"Serving-GW\": \"127.0.0.2\",\n",
    "    \"UE\": \"10.201.100.2\",\n",
    "}"
   ]
  },
  {
   "cell_type": "markdown",
   "metadata": {},
   "source": [
    "<b>Answer:</b>\n",
    "- packet number: 26 and 27\n",
    "- packet name: Create session response"
   ]
  },
  {
   "cell_type": "markdown",
   "metadata": {
    "tags": []
   },
   "source": [
    "#### <u>Question 3.5c</u> \n",
    "By using the following filter, you can see the RRC message:\n",
    "\n",
    "__`lte_rrc`__\n",
    "\n",
    "Which is the UE Category? How many CAs (Carrier Aggregations) can be carried out? \n",
    "\n",
    "> **Hint 1:** you can find all the information under *UECapabilityInfoIndication* attribute.\n",
    ">\n",
    "> **Hint 2:** the maximum number that can be specified in the *ue-Category* attribute is **4** (i.e. if you find *ue-Category = 4*, you have search another field, named *ue-Category-v1020*). To find the correct field, you can use this [link](https://www.sharetechnote.com/html/LTE_Advanced_UE_Category.html).\n",
    ">\n",
    "> **Hint 3:** Use the `Edit->Find Packet` functionality of Wireshark.\n",
    "\n",
    "<center><img src= \"Figures/UECapabilitiesindication1.PNG\" alt=\"first\" class=\"bg-primary mb-1\" width=\"600px\"></center>"
   ]
  },
  {
   "cell_type": "code",
   "execution_count": 19,
   "metadata": {
    "tags": []
   },
   "outputs": [],
   "source": [
    "UECatCA = {    \n",
    "    \"ue-Category-v1020\": 7,\n",
    "    \"supportedBandCombination-r10\": 108, #items\n",
    "}"
   ]
  },
  {
   "cell_type": "markdown",
   "metadata": {
    "tags": []
   },
   "source": [
    "#### <u>Question 3.5d</u> \n",
    "Describe the main benefits for the user of the Carrier Aggregation?"
   ]
  },
  {
   "cell_type": "markdown",
   "metadata": {},
   "source": [
    "<b>Answer:</b>\n",
    "Carrier aggregation works by combining multiple carriers together. This way it is possible to attain **higher throughput** for a user at a given time due to more frequencies being allocated to the user than possible with only 1 carrier. Carrier aggragation is also useful for **dynamically scheduling the downlink traffic of many simultaneous users**. "
   ]
  },
  {
   "cell_type": "markdown",
   "metadata": {},
   "source": [
    "\n",
    "#### <u>Question 3.5e</u> \n",
    "\n",
    "Let's take a look at the CA numbered 0 (Item 0) for RF-Parameters v1020.\n",
    "\n",
    "<center><img src= \"Figures/UECapabilitiesindication2.PNG\" alt=\"first\" class=\"bg-primary mb-1\" width=\"400px\"></center>\n",
    "\n",
    "Write down the E-UTRA Operating Band (see specification [ETSI TS 136 101, Table 5.5-1 E-UTRA operating bands](https://www.etsi.org/deliver/etsi_ts/136100_136199/136101/15.09.00_60/ts_136101v150900p.pdf)) and the corresponding number of MIMO layers applied for the Downlink.\n",
    "\n",
    "> **Hint:** Use the `Edit->Find Packet` functionality of Wireshark and look for the string *\"rf-Parameters-v1020\"*"
   ]
  },
  {
   "cell_type": "code",
   "execution_count": 17,
   "metadata": {},
   "outputs": [],
   "source": [
    "UECapability = {\n",
    "    'bandEUTRA-r10': 7,\n",
    "    'DL bandwidth': 70, #MHz\n",
    "    'UL bandwidth': 70, #MHz\n",
    "    \"supportedMIMO_CapabilityDL_r10\": \"fourLayers\",\n",
    "}"
   ]
  },
  {
   "cell_type": "markdown",
   "metadata": {},
   "source": [
    "## 3.6 Establishing a Context in the Radio Network\n",
    "This part takes place after the context in the core network is established. In general, a context refers to the set of parameters and resources needed to establish and maintain a connection between the UE and the core network. In addition, it should be noted that the MME is responsible for establishing and maintaining the context referring to a UE (which is why signalling starts from the MME). \n",
    "<a id='EstablishingaContextintheRadioNetwork1'></a>\n",
    "<center>\n",
    "    <figure>\n",
    "        <img src= \"Figures/EstablishingaContextintheRadioNetwork1.PNG\" alt=\"first\" class=\"bg-primary mb-1\" width=\"300px\">\n",
    "        <figcaption><b>Figure 10. Initial Context Setup procedure.</b> From <a href=\"#References\">[1]</a></figcaption>\n",
    "    </figure>\n",
    "</center>\n",
    "\n",
    "- <u>Initial Context Setup Request and Response</u>: the S1 interface involved. The MME responds back to the eNodeB with a packet containing three messages: S1AP Initial Context Setup Request, NAS Attach Accept and NAS Activate Default Bearer Request. Inside the Request, you can find information like the aggregate maximum bit rate for UL and DL, new GUTI assigned by the MME and other QoS parameters. Following that, the eNodeB sends the Response message to the MME as an acknowledgement, including the Tunnel Endpoint Identity (TEID) used by Serving-GW, and the address of the eNodeB;\n",
    "- <u>RRC Connection Reconfiguration and Reconfiguration Complete</u>: the air interface is involved. It is sent to activate the default radio bearer and carries the Attach Accept message as NAS Payload. When the Reconfiguration Complete message is sent, it means that the RRC is configured (this message triggers the Initial Context Setup Request as discussed earlier)."
   ]
  },
  {
   "cell_type": "markdown",
   "metadata": {},
   "source": [
    "-------\n",
    "### **Interactive session:**\n",
    "-------"
   ]
  },
  {
   "cell_type": "markdown",
   "metadata": {},
   "source": [
    "From the `first_attach.pcap` file, you can see something like:\n",
    "\n",
    "<center><img src= \"Figures/InitContextSetup.PNG\" alt=\"first\" class=\"bg-primary mb-1\" width=\"400px\"></center>\n"
   ]
  },
  {
   "cell_type": "markdown",
   "metadata": {},
   "source": [
    "#### <u>Question 3.6a</u> \n",
    "\n",
    "Write down the TEID used by the Serving-GW?"
   ]
  },
  {
   "cell_type": "code",
   "execution_count": 20,
   "metadata": {},
   "outputs": [],
   "source": [
    "TEID = \"00460003\""
   ]
  },
  {
   "cell_type": "markdown",
   "metadata": {},
   "source": [
    "#### <u>Question 3.6b</u> \n",
    "\n",
    "After analyzing session 3.5 and 3.6, the network has allocated resources to the UE, so the user is able to generate traffic within the network. Briefly explain why the presence of the PDN-GW is essential in this phase?"
   ]
  },
  {
   "cell_type": "markdown",
   "metadata": {},
   "source": [
    "<b>Answer:</b>\n",
    "Since the network has allocated resources to the UE, the user is able to generate traffic within the network. For the user to be able to connect with the LTE core network and internet it needs PDN-GW which is the gateway to the internet. It provides the IP-address to the UE. "
   ]
  },
  {
   "cell_type": "markdown",
   "metadata": {},
   "source": [
    "## 3.7 Attachment Completion\n",
    "\n",
    "<a id='EstablishingaContextintheRadioNetwork2'></a>\n",
    "<center>\n",
    "    <figure>\n",
    "        <img src= \"Figures/EstablishingaContextintheRadioNetwork2.PNG\" alt=\"first\" class=\"bg-primary mb-1\" width=\"500px\">\n",
    "        <figcaption><b>Figure 11. Attach Complete and Modify Bearer procedures.</b> From <a href=\"#References\">[1]</a></figcaption>\n",
    "    </figure>\n",
    "</center>\n",
    "\n",
    "\n",
    "- <u>Attach Complete</u>: the air and S1 interfaces are involved. When the UE is completely setup, it sends it to the MME an Activate Default Bearer Complete message through the NAS connection;\n",
    "- <u>Modify Bearer Request and Response</u>: the S11 interface is involved (GTPv2 protocol). The MME informs the Serving-GW about the TEID used by the considered eRAB. Afterwards, the Response is carried out by the S-GW and buffered downlink data, if any, can be sent through the eRAB.\n",
    "\n",
    "**What is a eRAB (or E-RAB)?** It's a logic connection between the UE and the Serving-GW. Hereafter, you can see the different bearers that can be established.\n",
    "\n",
    "<a id='bearers'></a>\n",
    "<center>\n",
    "    <figure>\n",
    "        <img src= \"Figures/bearers.PNG\" alt=\"first\" class=\"bg-primary mb-1\" width=\"500px\">\n",
    "    </figure>\n",
    "</center>\n"
   ]
  },
  {
   "cell_type": "markdown",
   "metadata": {
    "tags": []
   },
   "source": [
    "-------\n",
    "### **Interactive session:**\n",
    "-------"
   ]
  },
  {
   "cell_type": "markdown",
   "metadata": {
    "tags": []
   },
   "source": [
    "From the `first_attach.pcap` file, you can see something like:\n",
    "\n",
    "<center><img src= \"Figures/PCAPEstablishingaContextintheRadioNetwork1.PNG\" alt=\"first\" class=\"bg-primary mb-1\" width=\"700px\"></center>"
   ]
  },
  {
   "cell_type": "markdown",
   "metadata": {},
   "source": [
    "#### <u>Question 3.7a</u> \n",
    "Write down the aggregated maximum bit rate associated to the UE, both for UL and DL. Furthermore, report the number of the packet where you found this information.\n",
    "\n",
    "> **Hint:** look for packets coming from the UE"
   ]
  },
  {
   "cell_type": "code",
   "execution_count": 21,
   "metadata": {},
   "outputs": [],
   "source": [
    "uEaggregateMaximumBitRate = {\n",
    "    \"uEaggregateMaximumBitRateDL\": 1048576000, #bit/s\n",
    "    \"uEaggregateMaximumBitRateUL\": 1048576000, #bit/s\n",
    "    \"num pkt\": 30,\n",
    "}"
   ]
  },
  {
   "cell_type": "markdown",
   "metadata": {},
   "source": [
    "#### <u>Question 3.7b</u> \n",
    "Describe one possible factor to increase the aggregated maximum bit rate (AMBR) for uplink?"
   ]
  },
  {
   "cell_type": "markdown",
   "metadata": {},
   "source": [
    "<b>Answer:</b>\n",
    "One possible factor to increase the AMBR for uplink is to to have support for 64-QAM and/or 256-QAM as it is in LTE UE Category 18\n"
   ]
  },
  {
   "cell_type": "markdown",
   "metadata": {},
   "source": [
    "#### <u>Question 3.7c</u> \n",
    "From the perspective of the network, what could be the limiting factor in determining the AMBR of a UE?"
   ]
  },
  {
   "cell_type": "markdown",
   "metadata": {},
   "source": [
    "<b>Answer:</b>\n",
    "The limiting factor to determining the AMBR of a UE is which LTE UE category it is in."
   ]
  },
  {
   "cell_type": "markdown",
   "metadata": {},
   "source": [
    "-------"
   ]
  },
  {
   "cell_type": "markdown",
   "metadata": {},
   "source": [
    "## Summary:\n",
    "\n",
    "As a final task, add a new text box below and try to summarise what you have done so far. You are free to decide how to complete this task. Remember to describe what is attached procedure and what is important to know."
   ]
  },
  {
   "cell_type": "markdown",
   "metadata": {},
   "source": [
    "#### Our summary:\n",
    "We have analyzed the whole process \n",
    "\n",
    "7 steps write a bit about each\n",
    "\n"
   ]
  },
  {
   "cell_type": "markdown",
   "metadata": {},
   "source": [
    "-------"
   ]
  },
  {
   "cell_type": "markdown",
   "metadata": {},
   "source": [
    "# References\n",
    "\n",
    "[1] \"From GSM to LTE-Advanced Pro and 5G, An introduction to Mobile Networks and Mobile Broadband\", Martin Sauter, 4th Edition, 2021\n",
    "\n",
    "[2] \"4G\", Antonio Capone, Online: http://www.antlab.polimi.it/teaching-capone/wireless-networks, Politecnico di Milano, 2020\n",
    "\n",
    "[3] Wireshark documentation, Online: https://www.wireshark.org/docs/ (Accessed on 22/01/2023)\n",
    "\n",
    "[4] NETMANIAS, Online: https://netmanias.com/en/ (Accessed on 22/01/2023)\n",
    "\n",
    "[5] \"LTE security | Security in LTE networks\", RF Wireless World, Online: https://www.rfwireless-world.com/Tutorials/LTE-security.html (Accessed on 22/01/2023)\n",
    "\n",
    "[6] \"LTE Random Access Procedure\", EventHelix.com Inc., Online: https://www.eventhelix.com/lte/random-access-procedure/lte-random-access-procedure.pdf (Accessed on 22/01/2023)\n",
    "\n",
    "[7] \"LTE Attach and Default Bearer Setup \", EventHelix.com Inc., Online: https://www.eventhelix.com/lte/attach/lte-attach.pdf (Accessed on 22/01/2023)"
   ]
  }
 ],
 "metadata": {
  "kernelspec": {
   "display_name": "Python 3 (ipykernel)",
   "language": "python",
   "name": "python3"
  },
  "language_info": {
   "codemirror_mode": {
    "name": "ipython",
    "version": 3
   },
   "file_extension": ".py",
   "mimetype": "text/x-python",
   "name": "python",
   "nbconvert_exporter": "python",
   "pygments_lexer": "ipython3",
   "version": "3.10.6"
  },
  "toc-autonumbering": false
 },
 "nbformat": 4,
 "nbformat_minor": 4
}
